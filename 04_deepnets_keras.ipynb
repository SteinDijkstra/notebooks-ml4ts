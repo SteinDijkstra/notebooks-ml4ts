{
 "cells": [
  {
   "cell_type": "markdown",
   "metadata": {
    "cell_id": "bb76fb5fef92490eabccbe7f31d7a262",
    "deepnote_cell_type": "markdown",
    "tags": []
   },
   "source": [
    "# Neural Networks for Time Series\n",
    "\n",
    "* Author: Romain Tavenard (@rtavenar)\n",
    "* License: CC-BY-NC-SA\n",
    "\n",
    "A notebook from a course on Machine Learning for Time Series at ENSAI.\n",
    "One can find lecture notes for this course [there](https://rtavenar.github.io/ml4ts_ensai/).\n"
   ]
  },
  {
   "cell_type": "markdown",
   "metadata": {
    "cell_id": "2d3210fdee8646a2b2aa29cf62c64e2f",
    "deepnote_cell_type": "markdown",
    "tags": []
   },
   "source": [
    "## Preamble\n",
    "\n",
    "This lab session deals with the use of neural networks for time series classification and forecasting.\n",
    "Two kinds of architectures are considered here: convolutional and recurrent models.\n",
    "\n",
    "## Time Series Classification using convolutional models (ConvNets)\n",
    "\n",
    "For a start, you will load the \"Trace\" dataset using [`tslearn` data loading tool](https://tslearn.readthedocs.io/en/latest/gen_modules/datasets/tslearn.datasets.CachedDatasets.html#tslearn.datasets.CachedDatasets.load_dataset).\n",
    "\n",
    "**Question #1.** What are the dimensions of the training data (`X_train`)? And what does each dimension correspond to (number of series, number of timestamps, number of features, ...)?\n",
    "Also, `keras` expects class information to be encoded as one-hot vectors. Use [`to_categorical`](https://www.tensorflow.org/api_docs/python/tf/keras/utils/to_categorical) to format your `y` arrays accordingly.\n"
   ]
  },
  {
   "cell_type": "code",
   "execution_count": 1,
   "metadata": {
    "cell_id": "0cdc8bbfe0914cc9bff67edbabd76e5b",
    "deepnote_cell_type": "code",
    "tags": []
   },
   "outputs": [],
   "source": [
    "from tslearn import datasets\n",
    "import numpy as np\n",
    "data_loader = datasets.CachedDatasets()\n",
    "X_train, y_train_raw, X_test, y_test_raw = data_loader.load_dataset(\"Trace\")"
   ]
  },
  {
   "cell_type": "code",
   "execution_count": null,
   "metadata": {},
   "outputs": [],
   "source": []
  },
  {
   "cell_type": "code",
   "execution_count": 3,
   "metadata": {},
   "outputs": [],
   "source": [
    "y_train=y_train_raw-1\n",
    "y_test=y_test_raw-1"
   ]
  },
  {
   "cell_type": "markdown",
   "metadata": {
    "cell_id": "8b1ec9d6bb1f4698b4857a2b60328708",
    "deepnote_cell_type": "markdown",
    "tags": []
   },
   "source": [
    "**Question #2.** In the following, you will be implementing a ConvNet using keras' [`Conv1D`](https://keras.io/api/layers/convolution_layers/convolution1d/) layers.\n",
    "What value should be passed to the `data_format` parameter to match `tslearn` format? Is it the default value?\n",
    "\n",
    "**YOUR ANSWER HERE** (double-click to edit)"
   ]
  },
  {
   "cell_type": "code",
   "execution_count": 4,
   "metadata": {
    "scrolled": true
   },
   "outputs": [
    {
     "data": {
      "text/plain": [
       "(100, 275, 1)"
      ]
     },
     "execution_count": 4,
     "metadata": {},
     "output_type": "execute_result"
    }
   ],
   "source": [
    "X_train.shape"
   ]
  },
  {
   "cell_type": "code",
   "execution_count": null,
   "metadata": {},
   "outputs": [],
   "source": []
  },
  {
   "cell_type": "markdown",
   "metadata": {
    "cell_id": "dceb1bf5722e40ab9cd95032758c0507",
    "deepnote_cell_type": "markdown",
    "tags": []
   },
   "source": [
    "**Question #3.** `keras` has a `Sequential` model class that allows to build models by stacking layers.\n",
    "Define a model that is made of the following layers (use ReLU activation wherever it makes sense):\n",
    "\n",
    "* a convolution layer made of 10 filters of size 3\n",
    "* a pooling layer of pool size 2\n",
    "* a flatten layer (that converts a time series of features into a flattened array that is suited to feed fully-connected layers)\n",
    "* a fully-connected layer that has as many neurons as the number of classes in the \"Trace\" problem, and an adequate activation function.\n",
    "\n",
    "Compile your model (use \"Adam\" optimizer) and fit it for 10 epochs."
   ]
  },
  {
   "cell_type": "code",
   "execution_count": 5,
   "metadata": {
    "cell_id": "986a1a9144e84fadb31729e71692a784",
    "deepnote_cell_type": "code",
    "deepnote_to_be_reexecuted": false,
    "execution_millis": 1869,
    "execution_start": 1643388899518,
    "output_cleared": true,
    "source_hash": "4ac327ac",
    "tags": []
   },
   "outputs": [],
   "source": [
    "from tensorflow.keras.models import Sequential\n",
    "from tensorflow.keras.layers import Conv1D, MaxPool1D, Flatten, Dense\n",
    "from tensorflow.keras.losses import SparseCategoricalCrossentropy"
   ]
  },
  {
   "cell_type": "code",
   "execution_count": 6,
   "metadata": {},
   "outputs": [],
   "source": [
    "model = Sequential([Conv1D(filters=10,kernel_size=3, activation='relu', input_shape=(275,1)),\n",
    "                             MaxPool1D(pool_size=2),\n",
    "                             Flatten(),\n",
    "                             Dense(4,activation=\"softmax\")\n",
    "])\n"
   ]
  },
  {
   "cell_type": "code",
   "execution_count": 7,
   "metadata": {},
   "outputs": [],
   "source": [
    "model.compile(\n",
    "  optimizer='adam',\n",
    "  loss=\"sparse_categorical_crossentropy\",metrics=[\"accuracy\"])"
   ]
  },
  {
   "cell_type": "code",
   "execution_count": 8,
   "metadata": {},
   "outputs": [
    {
     "name": "stdout",
     "output_type": "stream",
     "text": [
      "Epoch 1/10\n",
      " 1/13 [=>............................] - ETA: 2s - loss: 1.8388 - accuracy: 0.1250"
     ]
    },
    {
     "name": "stderr",
     "output_type": "stream",
     "text": [
      "2023-01-23 12:44:56.882019: W tensorflow/tsl/platform/profile_utils/cpu_utils.cc:128] Failed to get CPU frequency: 0 Hz\n"
     ]
    },
    {
     "name": "stdout",
     "output_type": "stream",
     "text": [
      "13/13 [==============================] - 0s 7ms/step - loss: 1.1067 - accuracy: 0.5000 - val_loss: 0.7812 - val_accuracy: 0.4700\n",
      "Epoch 2/10\n",
      "13/13 [==============================] - 0s 2ms/step - loss: 0.7526 - accuracy: 0.5200 - val_loss: 0.7852 - val_accuracy: 0.4900\n",
      "Epoch 3/10\n",
      "13/13 [==============================] - 0s 2ms/step - loss: 0.6881 - accuracy: 0.6100 - val_loss: 0.7166 - val_accuracy: 0.5600\n",
      "Epoch 4/10\n",
      "13/13 [==============================] - 0s 2ms/step - loss: 0.6463 - accuracy: 0.6300 - val_loss: 0.7111 - val_accuracy: 0.5700\n",
      "Epoch 5/10\n",
      "13/13 [==============================] - 0s 2ms/step - loss: 0.6372 - accuracy: 0.6800 - val_loss: 0.7075 - val_accuracy: 0.5800\n",
      "Epoch 6/10\n",
      "13/13 [==============================] - 0s 2ms/step - loss: 0.6103 - accuracy: 0.6400 - val_loss: 0.6937 - val_accuracy: 0.5300\n",
      "Epoch 7/10\n",
      "13/13 [==============================] - 0s 2ms/step - loss: 0.5640 - accuracy: 0.7000 - val_loss: 0.7135 - val_accuracy: 0.5500\n",
      "Epoch 8/10\n",
      "13/13 [==============================] - 0s 2ms/step - loss: 0.5634 - accuracy: 0.7300 - val_loss: 0.6877 - val_accuracy: 0.6000\n",
      "Epoch 9/10\n",
      "13/13 [==============================] - 0s 2ms/step - loss: 0.5299 - accuracy: 0.7900 - val_loss: 0.6797 - val_accuracy: 0.6200\n",
      "Epoch 10/10\n",
      "13/13 [==============================] - 0s 2ms/step - loss: 0.5252 - accuracy: 0.7900 - val_loss: 0.6599 - val_accuracy: 0.6300\n"
     ]
    }
   ],
   "source": [
    "history1=model.fit(X_train,y_train,batch_size = 8,\n",
    "                        epochs = 10, \n",
    "                        validation_data = (X_test,y_test),\n",
    "                        verbose = 1\n",
    "                        )"
   ]
  },
  {
   "cell_type": "markdown",
   "metadata": {
    "cell_id": "eb7b06ceddee4e479a36bb3a9495229a",
    "deepnote_cell_type": "markdown",
    "tags": []
   },
   "source": [
    "**Question #4.** Plot the evolution of accuracy through epochs on both training and validation sets."
   ]
  },
  {
   "cell_type": "code",
   "execution_count": 9,
   "metadata": {
    "cell_id": "2da15a19e0cc4f379eb30b1708ce6c33",
    "deepnote_cell_type": "code",
    "deepnote_output_heights": [
     250
    ],
    "deepnote_to_be_reexecuted": false,
    "execution_millis": 1484,
    "execution_start": 1643388901250,
    "output_cleared": true,
    "source_hash": "abb80127",
    "tags": []
   },
   "outputs": [
    {
     "data": {
      "image/png": "[encoded data removed]",
      "text/plain": [
       "<Figure size 640x480 with 1 Axes>"
      ]
     },
     "metadata": {},
     "output_type": "display_data"
    }
   ],
   "source": [
    "import matplotlib.pyplot as plt\n",
    "\n",
    "fig, ax = plt.subplots(1, 1)\n",
    "ax.plot(history1.history['loss'], color='b', label=\"Training loss\")\n",
    "ax.plot(history1.history['val_loss'], color='r', label=\"validation loss\", axes=ax)\n",
    "legend = ax.legend(loc='best', shadow=True)"
   ]
  },
  {
   "cell_type": "markdown",
   "metadata": {
    "cell_id": "a6cb7b7407934e2cb1a917bed0cd64da",
    "deepnote_cell_type": "markdown",
    "tags": []
   },
   "source": [
    "**Question #5.** Ten epochs of training might not be sufficient, yet we do not know how many epochs would be necessary for a decent training. Set up early stopping (cf. [this callback](https://keras.io/api/callbacks/early_stopping/)) and see how long it takes before the model stops training."
   ]
  },
  {
   "cell_type": "code",
   "execution_count": 10,
   "metadata": {
    "cell_id": "fc03a35f7df04656bf23a6212266a4fe",
    "deepnote_cell_type": "code",
    "deepnote_to_be_reexecuted": false,
    "execution_millis": 1523,
    "execution_start": 1643388902754,
    "output_cleared": true,
    "source_hash": "b57f1438",
    "tags": []
   },
   "outputs": [],
   "source": [
    "from tensorflow.keras.callbacks import EarlyStopping\n",
    "\n"
   ]
  },
  {
   "cell_type": "code",
   "execution_count": 11,
   "metadata": {},
   "outputs": [
    {
     "name": "stdout",
     "output_type": "stream",
     "text": [
      "Epoch 1/100\n",
      "13/13 [==============================] - 0s 4ms/step - loss: 0.5084 - accuracy: 0.7600 - val_loss: 0.6310 - val_accuracy: 0.6200\n",
      "Epoch 2/100\n",
      "13/13 [==============================] - 0s 2ms/step - loss: 0.4959 - accuracy: 0.7700 - val_loss: 0.6767 - val_accuracy: 0.6400\n",
      "Epoch 3/100\n",
      "13/13 [==============================] - 0s 2ms/step - loss: 0.4809 - accuracy: 0.7700 - val_loss: 0.6144 - val_accuracy: 0.6200\n",
      "Epoch 4/100\n",
      "13/13 [==============================] - 0s 2ms/step - loss: 0.4814 - accuracy: 0.8100 - val_loss: 0.6343 - val_accuracy: 0.6200\n",
      "Epoch 5/100\n",
      "13/13 [==============================] - 0s 2ms/step - loss: 0.4670 - accuracy: 0.7800 - val_loss: 0.6326 - val_accuracy: 0.6300\n",
      "Epoch 6/100\n",
      "13/13 [==============================] - 0s 2ms/step - loss: 0.4527 - accuracy: 0.7500 - val_loss: 0.5985 - val_accuracy: 0.6300\n",
      "Epoch 7/100\n",
      "13/13 [==============================] - 0s 2ms/step - loss: 0.4337 - accuracy: 0.7600 - val_loss: 0.6815 - val_accuracy: 0.6500\n",
      "Epoch 8/100\n",
      "13/13 [==============================] - 0s 2ms/step - loss: 0.4319 - accuracy: 0.7900 - val_loss: 0.6133 - val_accuracy: 0.6300\n",
      "Epoch 9/100\n",
      "13/13 [==============================] - 0s 2ms/step - loss: 0.4282 - accuracy: 0.8100 - val_loss: 0.5926 - val_accuracy: 0.6300\n",
      "Epoch 10/100\n",
      "13/13 [==============================] - 0s 2ms/step - loss: 0.4622 - accuracy: 0.7400 - val_loss: 0.7028 - val_accuracy: 0.6400\n",
      "Epoch 11/100\n",
      "13/13 [==============================] - 0s 2ms/step - loss: 0.4078 - accuracy: 0.8200 - val_loss: 0.5817 - val_accuracy: 0.6300\n",
      "Epoch 12/100\n",
      "13/13 [==============================] - 0s 2ms/step - loss: 0.3811 - accuracy: 0.8300 - val_loss: 0.6205 - val_accuracy: 0.6600\n",
      "Epoch 13/100\n",
      "13/13 [==============================] - 0s 2ms/step - loss: 0.3894 - accuracy: 0.8100 - val_loss: 0.5747 - val_accuracy: 0.6400\n",
      "Epoch 14/100\n",
      "13/13 [==============================] - 0s 2ms/step - loss: 0.3753 - accuracy: 0.8200 - val_loss: 0.6032 - val_accuracy: 0.6300\n",
      "Epoch 15/100\n",
      "13/13 [==============================] - 0s 2ms/step - loss: 0.3772 - accuracy: 0.8100 - val_loss: 0.5609 - val_accuracy: 0.6300\n",
      "Epoch 16/100\n",
      "13/13 [==============================] - 0s 2ms/step - loss: 0.3974 - accuracy: 0.8000 - val_loss: 0.6236 - val_accuracy: 0.6700\n",
      "Epoch 17/100\n",
      "13/13 [==============================] - 0s 2ms/step - loss: 0.3621 - accuracy: 0.8400 - val_loss: 0.5918 - val_accuracy: 0.6500\n",
      "Epoch 18/100\n",
      "13/13 [==============================] - 0s 2ms/step - loss: 0.3534 - accuracy: 0.8400 - val_loss: 0.5904 - val_accuracy: 0.6400\n",
      "Epoch 19/100\n",
      "13/13 [==============================] - 0s 2ms/step - loss: 0.3531 - accuracy: 0.8400 - val_loss: 0.5579 - val_accuracy: 0.6700\n",
      "Epoch 20/100\n",
      "13/13 [==============================] - 0s 2ms/step - loss: 0.3567 - accuracy: 0.8500 - val_loss: 0.5887 - val_accuracy: 0.6400\n",
      "Epoch 21/100\n",
      "13/13 [==============================] - 0s 2ms/step - loss: 0.3375 - accuracy: 0.8400 - val_loss: 0.5705 - val_accuracy: 0.6600\n",
      "Epoch 22/100\n",
      "13/13 [==============================] - 0s 2ms/step - loss: 0.3595 - accuracy: 0.8200 - val_loss: 0.5449 - val_accuracy: 0.6800\n",
      "Epoch 23/100\n",
      "13/13 [==============================] - 0s 2ms/step - loss: 0.3476 - accuracy: 0.8100 - val_loss: 0.6057 - val_accuracy: 0.6700\n",
      "Epoch 24/100\n",
      "13/13 [==============================] - 0s 2ms/step - loss: 0.3443 - accuracy: 0.8100 - val_loss: 0.6486 - val_accuracy: 0.6900\n",
      "Epoch 25/100\n",
      "13/13 [==============================] - 0s 2ms/step - loss: 0.3485 - accuracy: 0.8100 - val_loss: 0.5450 - val_accuracy: 0.6700\n",
      "Epoch 26/100\n",
      "13/13 [==============================] - 0s 2ms/step - loss: 0.4665 - accuracy: 0.7500 - val_loss: 0.7190 - val_accuracy: 0.6700\n",
      "Epoch 27/100\n",
      "13/13 [==============================] - 0s 2ms/step - loss: 0.3032 - accuracy: 0.8600 - val_loss: 0.5239 - val_accuracy: 0.7300\n",
      "Epoch 28/100\n",
      "13/13 [==============================] - 0s 2ms/step - loss: 0.3623 - accuracy: 0.7700 - val_loss: 0.6303 - val_accuracy: 0.6900\n",
      "Epoch 29/100\n",
      "13/13 [==============================] - 0s 2ms/step - loss: 0.3743 - accuracy: 0.7500 - val_loss: 0.6232 - val_accuracy: 0.6900\n",
      "Epoch 30/100\n",
      "13/13 [==============================] - 0s 2ms/step - loss: 0.3536 - accuracy: 0.8100 - val_loss: 0.5339 - val_accuracy: 0.6800\n",
      "Epoch 31/100\n",
      "13/13 [==============================] - 0s 2ms/step - loss: 0.3378 - accuracy: 0.8300 - val_loss: 0.6727 - val_accuracy: 0.6900\n",
      "Epoch 32/100\n",
      "13/13 [==============================] - 0s 2ms/step - loss: 0.2907 - accuracy: 0.8500 - val_loss: 0.5127 - val_accuracy: 0.7000\n",
      "Epoch 33/100\n",
      "13/13 [==============================] - 0s 2ms/step - loss: 0.3239 - accuracy: 0.8000 - val_loss: 0.7098 - val_accuracy: 0.6800\n",
      "Epoch 34/100\n",
      "13/13 [==============================] - 0s 2ms/step - loss: 0.3373 - accuracy: 0.8100 - val_loss: 0.5224 - val_accuracy: 0.6900\n",
      "Epoch 35/100\n",
      "13/13 [==============================] - 0s 2ms/step - loss: 0.2891 - accuracy: 0.8500 - val_loss: 0.5954 - val_accuracy: 0.6900\n",
      "Epoch 36/100\n",
      "13/13 [==============================] - 0s 2ms/step - loss: 0.2845 - accuracy: 0.8600 - val_loss: 0.5516 - val_accuracy: 0.6600\n",
      "Epoch 37/100\n",
      "13/13 [==============================] - 0s 2ms/step - loss: 0.2794 - accuracy: 0.8700 - val_loss: 0.5735 - val_accuracy: 0.6600\n",
      "Epoch 38/100\n",
      "13/13 [==============================] - 0s 2ms/step - loss: 0.2840 - accuracy: 0.8800 - val_loss: 0.5910 - val_accuracy: 0.7000\n",
      "Epoch 39/100\n",
      "13/13 [==============================] - 0s 2ms/step - loss: 0.2717 - accuracy: 0.8900 - val_loss: 0.5491 - val_accuracy: 0.6700\n",
      "Epoch 40/100\n",
      "13/13 [==============================] - 0s 2ms/step - loss: 0.2711 - accuracy: 0.9000 - val_loss: 0.5603 - val_accuracy: 0.6700\n",
      "Epoch 41/100\n",
      "13/13 [==============================] - 0s 2ms/step - loss: 0.2788 - accuracy: 0.8800 - val_loss: 0.5249 - val_accuracy: 0.7300\n",
      "Epoch 42/100\n",
      "13/13 [==============================] - 0s 2ms/step - loss: 0.3185 - accuracy: 0.7900 - val_loss: 0.7092 - val_accuracy: 0.6900\n"
     ]
    }
   ],
   "source": [
    "history2=model.fit(X_train,y_train,batch_size = 8,\n",
    "                        epochs = 100, \n",
    "                        validation_data = (X_test,y_test),\n",
    "                        verbose = 1,\n",
    "                        callbacks=EarlyStopping(patience=10)\n",
    "                        )"
   ]
  },
  {
   "cell_type": "markdown",
   "metadata": {
    "cell_id": "23a6010e38704d70931b751dc92f6378",
    "deepnote_cell_type": "markdown",
    "tags": []
   },
   "source": [
    "## Recurrent neural nets\n",
    "\n",
    "For this new part of the lab, we will use the data generated from the function below:"
   ]
  },
  {
   "cell_type": "code",
   "execution_count": null,
   "metadata": {
    "cell_id": "7d66e1d72ce647f5aacf7a52058efbde",
    "deepnote_cell_type": "code",
    "deepnote_output_heights": [
     250
    ],
    "deepnote_to_be_reexecuted": false,
    "execution_millis": 497,
    "execution_start": 1643388908680,
    "source_hash": "613c393b",
    "tags": []
   },
   "outputs": [
    {
     "data": {
      "image/png": "[encoded data removed]",
      "text/plain": [
       "<Figure size 432x288 with 1 Axes>"
      ]
     },
     "metadata": {
      "image/png": {
       "height": 248,
       "width": 386
      },
      "needs_background": "light"
     },
     "output_type": "display_data"
    }
   ],
   "source": [
    "import numpy as np\n",
    "import matplotlib.pyplot as plt\n",
    "\n",
    "def make_sines(n_series_per_class, length, length_padding=0):\n",
    "    t = np.linspace(0, 2 * np.pi, num=length)\n",
    "    X0 = .005 * np.random.randn(n_series_per_class, length + length_padding)\n",
    "    X0[:, :length] = np.sin(t).reshape((1, -1))\n",
    "    X0[:, length:] = np.sin(np.linspace(0, 2 * np.pi, num=length_padding))\n",
    "    \n",
    "    X1 = .005 * np.random.randn(n_series_per_class, length + length_padding)\n",
    "    X1[:, :length] = np.sin(-t).reshape((1, -1))\n",
    "    X1[:, length:] = np.sin(np.linspace(0, 2 * np.pi, num=length_padding))\n",
    "\n",
    "    dataset = np.array([X0, X1]).reshape((2 * n_series_per_class, length + length_padding, 1))\n",
    "    y = np.array([0] * n_series_per_class + [1] * n_series_per_class)\n",
    "\n",
    "    indices = np.random.permutation(2 * n_series_per_class)\n",
    "    return dataset[indices], y[indices]\n",
    "\n",
    "np.random.seed(0)\n",
    "X, y = make_sines(100, 50, length_padding=10)\n",
    "\n",
    "plt.figure()\n",
    "colors = [\"r\", \"b\"]\n",
    "for ts, yi in zip(X, y):\n",
    "    plt.plot(ts.ravel(), color=colors[yi])\n",
    "plt.show()"
   ]
  },
  {
   "cell_type": "markdown",
   "metadata": {
    "cell_id": "99ca95a36a3f45aeade6cc9565c6db94",
    "deepnote_cell_type": "markdown",
    "tags": []
   },
   "source": [
    "**Question #7.** Implement your own recurrent layer (_cf._ formulas in the course) using the skeleton below and train a network\n",
    "made of a single recurrent unit with a 8-dimensional hidden state followed by a fully connected layer, and evaluate its classification \n",
    "performance on the dataset provided above."
   ]
  },
  {
   "cell_type": "code",
   "execution_count": null,
   "metadata": {
    "cell_id": "c8aa837080c744d8bc92d0e81b8945f0",
    "deepnote_cell_type": "code",
    "deepnote_to_be_reexecuted": false,
    "execution_millis": 3,
    "execution_start": 1643388909180,
    "source_hash": "2aab574a",
    "tags": []
   },
   "outputs": [],
   "source": [
    "from tensorflow.keras.layers import Layer\n",
    "import tensorflow as tf\n",
    "\n",
    "class CustomRecurrentUnit(Layer):\n",
    "    def __init__(self, input_dim, hidden_dim):\n",
    "        super().__init__()\n",
    "        self.hidden_dim = hidden_dim\n",
    "\n",
    "        # List sets of parameters here\n",
    "        self.w_h = self.add_weight(\n",
    "            shape=(hidden_dim, hidden_dim), initializer=\"random_normal\", trainable=True\n",
    "        )\n",
    "        self.b_h = self.add_weight(shape=(hidden_dim,), initializer=\"zeros\", trainable=True)\n",
    "        self.w_i = self.add_weight(\n",
    "            shape=(input_dim, hidden_dim), initializer=\"random_normal\", trainable=True\n",
    "        )\n",
    "        self.b_i = self.add_weight(shape=(hidden_dim,), initializer=\"zeros\", trainable=True)\n",
    "    \n",
    "    def linear_hidden(self, h_t):\n",
    "        return h_t @ self.w_h + self.b_h\n",
    "    \n",
    "    def linear_input(self, x_t):\n",
    "        return x_t @ self.w_i + self.b_i\n",
    "    \n",
    "    def call(self, x):\n",
    "        n_timestamps = x.shape[1]\n",
    "        h = tf.zeros((1, self.hidden_dim))  # Initialize h to [0, ..., 0]\n",
    "        for t in range(n_timestamps):\n",
    "            h = ... # TODO HERE!!!!\n",
    "        return h"
   ]
  },
  {
   "cell_type": "code",
   "execution_count": null,
   "metadata": {
    "cell_id": "44037a28a95f4b8995c08087aab84cad",
    "deepnote_cell_type": "code",
    "deepnote_to_be_reexecuted": false,
    "execution_millis": 1,
    "execution_start": 1643388909228,
    "source_hash": "c136c338",
    "tags": []
   },
   "outputs": [],
   "source": [
    "from tensorflow.keras.callbacks import Callback\n",
    "\n",
    "class CustomLogging(Callback):\n",
    "    def __init__(self, every_n_epochs=10):\n",
    "        super().__init__()\n",
    "        self.every_n_epochs = every_n_epochs\n",
    "\n",
    "    def on_epoch_end(self, epoch, logs=None):\n",
    "        if epoch % self.every_n_epochs == self.every_n_epochs - 1:\n",
    "            # accuracy = self.model.evaluate(*self.training_data)\n",
    "            print(f\"Training loss after epoch {epoch}: {logs['loss']}\")"
   ]
  },
  {
   "cell_type": "markdown",
   "metadata": {
    "cell_id": "22e3c8897c91438d93e01354657534f7",
    "deepnote_cell_type": "markdown",
    "tags": []
   },
   "source": [
    "**Question #8.** Implement a network made of a `CustomRecurrentUnit` followed by a fully-connected layer\n",
    "for the classification task introduced above.\n",
    "Evaluate this model both in terms of training loss and test-set accuracy (you can use the above callback to limit the amount of logging)."
   ]
  },
  {
   "cell_type": "code",
   "execution_count": null,
   "metadata": {
    "cell_id": "b040773d7c16484e8a1ea1ab4a516996",
    "deepnote_cell_type": "code",
    "tags": []
   },
   "outputs": [],
   "source": []
  },
  {
   "cell_type": "markdown",
   "metadata": {
    "cell_id": "592d8ae6887f4bb9a7639bea3dfa6280",
    "deepnote_cell_type": "markdown",
    "tags": []
   },
   "source": [
    "**Question #9.** Update your dataset so that it includes a final padding of 15 timestamps (_cf._ signature of the `make_sines` function)\n",
    "and see how it impacts performance of your model."
   ]
  },
  {
   "cell_type": "code",
   "execution_count": null,
   "metadata": {
    "cell_id": "64253c69ae52450d913535407c8f0dc2",
    "deepnote_cell_type": "code",
    "tags": []
   },
   "outputs": [],
   "source": []
  },
  {
   "cell_type": "markdown",
   "metadata": {
    "cell_id": "8c515a15d64240d6b29af74010d8d52b",
    "deepnote_cell_type": "markdown",
    "tags": []
   },
   "source": [
    "**Question #10.** Build GRU (resp. LSTM) counterparts of the RNN-based model above.\n",
    "How do they compare experimentally to the previous model?"
   ]
  },
  {
   "cell_type": "code",
   "execution_count": null,
   "metadata": {
    "cell_id": "1e0462b0f9d6459782e117794c51ef4f",
    "deepnote_cell_type": "code",
    "tags": []
   },
   "outputs": [],
   "source": []
  },
  {
   "cell_type": "markdown",
   "metadata": {
    "cell_id": "9a3e4c2e84c041f7a18f34c6fb35cdb5",
    "deepnote_cell_type": "markdown",
    "tags": []
   },
   "source": [
    "## Recap\n",
    "\n",
    "**Question #11.** Come back to the \"Trace\" dataset used above and design a fair comparison between several convolutional and recurrent architectures to decide which one to choose for the problem at hand (feel free to play with the depth of the nets, as well as hidden representation dimensionality, etc.)."
   ]
  },
  {
   "cell_type": "code",
   "execution_count": null,
   "metadata": {
    "cell_id": "3020b8693ec140de8384108efb3d753e",
    "deepnote_cell_type": "code",
    "tags": []
   },
   "outputs": [],
   "source": []
  },
  {
   "cell_type": "markdown",
   "metadata": {
    "cell_id": "0fcd840481304a2498479ef2254049a4",
    "deepnote_cell_type": "markdown",
    "tags": []
   },
   "source": [
    "# Bonus: visualizing feature importance\n",
    "\n",
    "An important topic in machine learning is interpretability, which is about explaining model-based decisions.\n",
    "Regarding neural networks, a large body of the interpretability litterature relies on showing which parts of the input data is most important for a decision.\n",
    "\n",
    "A way to visualize the importance of input features on a given decision is to compute gradients of the model's output with respect to its input.\n",
    "\n",
    "The function below does it:"
   ]
  },
  {
   "cell_type": "code",
   "execution_count": null,
   "metadata": {
    "cell_id": "55d65e0c1a90465f8e55d360fcee72e9",
    "deepnote_cell_type": "code",
    "tags": []
   },
   "outputs": [],
   "source": [
    "import tensorflow as tf\n",
    "from tensorflow.keras.models import Model\n",
    "\n",
    "def make_gradient_heatmap(batch_of_time_series, model):\n",
    "    inputs = tf.convert_to_tensor(batch_of_time_series, dtype=tf.float32)\n",
    "    with tf.GradientTape() as tape:\n",
    "        tape.watch(inputs)\n",
    "        preds = model(inputs)\n",
    "        output_channel = preds[:, 0]\n",
    "\n",
    "    # This is the gradient of the output neuron\n",
    "    # with respect to the input data\n",
    "    grads = tf.abs(tape.gradient(output_channel, inputs))\n",
    "    grads = grads / tf.reduce_max(grads, axis=1, keepdims=True)\n",
    "\n",
    "    return grads.numpy()"
   ]
  },
  {
   "cell_type": "markdown",
   "metadata": {
    "cell_id": "9256450982bb4e6994cfbaf1805643ad",
    "deepnote_cell_type": "markdown",
    "tags": []
   },
   "source": [
    "**Question #12.** Getting back to the binary decision problem with padded sines, visualize the importance of input features in the final decision for:\n",
    "* a network with one LSTM layer\n",
    "* a network with one convolutional layer"
   ]
  },
  {
   "cell_type": "code",
   "execution_count": null,
   "metadata": {
    "cell_id": "38a86b80c3264bbe82241af7d9db92d9",
    "deepnote_cell_type": "code",
    "tags": []
   },
   "outputs": [],
   "source": []
  }
 ],
 "metadata": {
  "deepnote": {},
  "deepnote_execution_queue": [],
  "deepnote_notebook_id": "25ccbef48c0041259097a232f5d6522e",
  "kernelspec": {
   "display_name": "machinelearning",
   "language": "python",
   "name": "machinelearning"
  },
  "language_info": {
   "codemirror_mode": {
    "name": "ipython",
    "version": 3
   },
   "file_extension": ".py",
   "mimetype": "text/x-python",
   "name": "python",
   "nbconvert_exporter": "python",
   "pygments_lexer": "ipython3",
   "version": "3.10.6"
  },
  "vscode": {
   "interpreter": {
    "hash": "25f9a3951446179f6c2016b22a60b44495fe90f43bda7f3caedfe2c1a9cd31f9"
   }
  }
 },
 "nbformat": 4,
 "nbformat_minor": 1
}
