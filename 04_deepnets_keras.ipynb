{
 "cells": [
  {
   "cell_type": "markdown",
   "metadata": {
    "cell_id": "bb76fb5fef92490eabccbe7f31d7a262",
    "deepnote_cell_type": "markdown",
    "tags": []
   },
   "source": [
    "# Neural Networks for Time Series\n",
    "\n",
    "* Author: Romain Tavenard (@rtavenar)\n",
    "* License: CC-BY-NC-SA\n",
    "\n",
    "A notebook from a course on Machine Learning for Time Series at ENSAI.\n",
    "One can find lecture notes for this course [there](https://rtavenar.github.io/ml4ts_ensai/).\n"
   ]
  },
  {
   "cell_type": "markdown",
   "metadata": {
    "cell_id": "2d3210fdee8646a2b2aa29cf62c64e2f",
    "deepnote_cell_type": "markdown",
    "tags": []
   },
   "source": [
    "## Preamble\n",
    "\n",
    "This lab session deals with the use of neural networks for time series classification and forecasting.\n",
    "Two kinds of architectures are considered here: convolutional and recurrent models.\n",
    "\n",
    "## Time Series Classification using convolutional models (ConvNets)\n",
    "\n",
    "For a start, you will load the \"Trace\" dataset using [`tslearn` data loading tool](https://tslearn.readthedocs.io/en/latest/gen_modules/datasets/tslearn.datasets.CachedDatasets.html#tslearn.datasets.CachedDatasets.load_dataset).\n",
    "\n",
    "**Question #1.** What are the dimensions of the training data (`X_train`)? And what does each dimension correspond to (number of series, number of timestamps, number of features, ...)?\n",
    "Also, `keras` expects class information to be encoded as one-hot vectors. Use [`to_categorical`](https://www.tensorflow.org/api_docs/python/tf/keras/utils/to_categorical) to format your `y` arrays accordingly.\n"
   ]
  },
  {
   "cell_type": "code",
   "execution_count": 1,
   "metadata": {
    "cell_id": "0cdc8bbfe0914cc9bff67edbabd76e5b",
    "deepnote_cell_type": "code",
    "tags": []
   },
   "outputs": [],
   "source": [
    "from tslearn import datasets\n",
    "import numpy as np\n",
    "data_loader = datasets.CachedDatasets()\n",
    "X_train, y_train_raw, X_test, y_test_raw = data_loader.load_dataset(\"Trace\")"
   ]
  },
  {
   "cell_type": "code",
   "execution_count": null,
   "metadata": {},
   "outputs": [],
   "source": []
  },
  {
   "cell_type": "code",
   "execution_count": 2,
   "metadata": {},
   "outputs": [],
   "source": [
    "y_train=y_train_raw-1\n",
    "y_test=y_test_raw-1"
   ]
  },
  {
   "cell_type": "markdown",
   "metadata": {
    "cell_id": "8b1ec9d6bb1f4698b4857a2b60328708",
    "deepnote_cell_type": "markdown",
    "tags": []
   },
   "source": [
    "**Question #2.** In the following, you will be implementing a ConvNet using keras' [`Conv1D`](https://keras.io/api/layers/convolution_layers/convolution1d/) layers.\n",
    "What value should be passed to the `data_format` parameter to match `tslearn` format? Is it the default value?\n",
    "\n",
    "**YOUR ANSWER HERE** (double-click to edit)"
   ]
  },
  {
   "cell_type": "code",
   "execution_count": 3,
   "metadata": {
    "scrolled": true
   },
   "outputs": [
    {
     "data": {
      "text/plain": [
       "(100, 275, 1)"
      ]
     },
     "execution_count": 3,
     "metadata": {},
     "output_type": "execute_result"
    }
   ],
   "source": [
    "X_train.shape"
   ]
  },
  {
   "cell_type": "code",
   "execution_count": null,
   "metadata": {},
   "outputs": [],
   "source": []
  },
  {
   "cell_type": "markdown",
   "metadata": {
    "cell_id": "dceb1bf5722e40ab9cd95032758c0507",
    "deepnote_cell_type": "markdown",
    "tags": []
   },
   "source": [
    "**Question #3.** `keras` has a `Sequential` model class that allows to build models by stacking layers.\n",
    "Define a model that is made of the following layers (use ReLU activation wherever it makes sense):\n",
    "\n",
    "* a convolution layer made of 10 filters of size 3\n",
    "* a pooling layer of pool size 2\n",
    "* a flatten layer (that converts a time series of features into a flattened array that is suited to feed fully-connected layers)\n",
    "* a fully-connected layer that has as many neurons as the number of classes in the \"Trace\" problem, and an adequate activation function.\n",
    "\n",
    "Compile your model (use \"Adam\" optimizer) and fit it for 10 epochs."
   ]
  },
  {
   "cell_type": "code",
   "execution_count": 1,
   "metadata": {
    "cell_id": "986a1a9144e84fadb31729e71692a784",
    "deepnote_cell_type": "code",
    "deepnote_to_be_reexecuted": false,
    "execution_millis": 1869,
    "execution_start": 1643388899518,
    "output_cleared": true,
    "source_hash": "4ac327ac",
    "tags": []
   },
   "outputs": [],
   "source": [
    "from tensorflow.keras.models import Sequential\n",
    "from tensorflow.keras.layers import Conv1D, MaxPool1D, Flatten, Dense\n",
    "from tensorflow.keras.losses import SparseCategoricalCrossentropy"
   ]
  },
  {
   "cell_type": "code",
   "execution_count": 5,
   "metadata": {},
   "outputs": [],
   "source": [
    "model = Sequential([Conv1D(filters=16,kernel_size=3, activation='relu', input_shape=(275,1)),\n",
    "                             MaxPool1D(pool_size=2),\n",
    "                    Conv1D(filters=64,kernel_size=3, activation='relu'),\n",
    "                             Flatten(),\n",
    "                             Dense(4,activation=\"softmax\")\n",
    "])\n"
   ]
  },
  {
   "cell_type": "code",
   "execution_count": 6,
   "metadata": {},
   "outputs": [],
   "source": [
    "model.compile(\n",
    "  optimizer='adam',\n",
    "  loss=\"sparse_categorical_crossentropy\",metrics=[\"accuracy\"])"
   ]
  },
  {
   "cell_type": "code",
   "execution_count": 7,
   "metadata": {},
   "outputs": [
    {
     "name": "stdout",
     "output_type": "stream",
     "text": [
      "Epoch 1/10\n"
     ]
    },
    {
     "name": "stderr",
     "output_type": "stream",
     "text": [
      "2023-01-30 10:06:43.012271: W tensorflow/tsl/platform/profile_utils/cpu_utils.cc:128] Failed to get CPU frequency: 0 Hz\n"
     ]
    },
    {
     "name": "stdout",
     "output_type": "stream",
     "text": [
      "13/13 [==============================] - 0s 8ms/step - loss: 1.0258 - accuracy: 0.4100 - val_loss: 0.7253 - val_accuracy: 0.5900\n",
      "Epoch 2/10\n",
      "13/13 [==============================] - 0s 3ms/step - loss: 0.7539 - accuracy: 0.4900 - val_loss: 0.7435 - val_accuracy: 0.4700\n",
      "Epoch 3/10\n",
      "13/13 [==============================] - 0s 3ms/step - loss: 0.6160 - accuracy: 0.6100 - val_loss: 0.6853 - val_accuracy: 0.6200\n",
      "Epoch 4/10\n",
      "13/13 [==============================] - 0s 3ms/step - loss: 0.5775 - accuracy: 0.7300 - val_loss: 0.6514 - val_accuracy: 0.6100\n",
      "Epoch 5/10\n",
      "13/13 [==============================] - 0s 3ms/step - loss: 0.5171 - accuracy: 0.7400 - val_loss: 0.6578 - val_accuracy: 0.6400\n",
      "Epoch 6/10\n",
      "13/13 [==============================] - 0s 3ms/step - loss: 0.4765 - accuracy: 0.7700 - val_loss: 0.5823 - val_accuracy: 0.6300\n",
      "Epoch 7/10\n",
      "13/13 [==============================] - 0s 3ms/step - loss: 0.4381 - accuracy: 0.7900 - val_loss: 0.5943 - val_accuracy: 0.6500\n",
      "Epoch 8/10\n",
      "13/13 [==============================] - 0s 3ms/step - loss: 0.3937 - accuracy: 0.8400 - val_loss: 0.6067 - val_accuracy: 0.6700\n",
      "Epoch 9/10\n",
      "13/13 [==============================] - 0s 3ms/step - loss: 0.3908 - accuracy: 0.8200 - val_loss: 0.5906 - val_accuracy: 0.6500\n",
      "Epoch 10/10\n",
      "13/13 [==============================] - 0s 3ms/step - loss: 0.3928 - accuracy: 0.8100 - val_loss: 0.5139 - val_accuracy: 0.7000\n"
     ]
    }
   ],
   "source": [
    "history1=model.fit(X_train,y_train,batch_size = 8,\n",
    "                        epochs = 10, \n",
    "                        validation_data = (X_test,y_test),\n",
    "                        verbose = 1\n",
    "                        )"
   ]
  },
  {
   "cell_type": "markdown",
   "metadata": {
    "cell_id": "eb7b06ceddee4e479a36bb3a9495229a",
    "deepnote_cell_type": "markdown",
    "tags": []
   },
   "source": [
    "**Question #4.** Plot the evolution of accuracy through epochs on both training and validation sets."
   ]
  },
  {
   "cell_type": "code",
   "execution_count": 8,
   "metadata": {
    "cell_id": "2da15a19e0cc4f379eb30b1708ce6c33",
    "deepnote_cell_type": "code",
    "deepnote_output_heights": [
     250
    ],
    "deepnote_to_be_reexecuted": false,
    "execution_millis": 1484,
    "execution_start": 1643388901250,
    "output_cleared": true,
    "source_hash": "abb80127",
    "tags": []
   },
   "outputs": [
    {
     "data": {
      "image/png": "[encoded data removed]",
      "text/plain": [
       "<Figure size 640x480 with 1 Axes>"
      ]
     },
     "metadata": {},
     "output_type": "display_data"
    }
   ],
   "source": [
    "import matplotlib.pyplot as plt\n",
    "\n",
    "fig, ax = plt.subplots(1, 1)\n",
    "ax.plot(history1.history['loss'], color='b', label=\"Training loss\")\n",
    "ax.plot(history1.history['val_loss'], color='r', label=\"validation loss\", axes=ax)\n",
    "legend = ax.legend(loc='best', shadow=True)"
   ]
  },
  {
   "cell_type": "markdown",
   "metadata": {
    "cell_id": "a6cb7b7407934e2cb1a917bed0cd64da",
    "deepnote_cell_type": "markdown",
    "tags": []
   },
   "source": [
    "**Question #5.** Ten epochs of training might not be sufficient, yet we do not know how many epochs would be necessary for a decent training. Set up early stopping (cf. [this callback](https://keras.io/api/callbacks/early_stopping/)) and see how long it takes before the model stops training."
   ]
  },
  {
   "cell_type": "code",
   "execution_count": 9,
   "metadata": {
    "cell_id": "fc03a35f7df04656bf23a6212266a4fe",
    "deepnote_cell_type": "code",
    "deepnote_to_be_reexecuted": false,
    "execution_millis": 1523,
    "execution_start": 1643388902754,
    "output_cleared": true,
    "source_hash": "b57f1438",
    "tags": []
   },
   "outputs": [],
   "source": [
    "from tensorflow.keras.callbacks import EarlyStopping\n",
    "\n"
   ]
  },
  {
   "cell_type": "code",
   "execution_count": 112,
   "metadata": {},
   "outputs": [],
   "source": [
    "model = Sequential([Conv1D(filters=16,kernel_size=3, activation='relu', input_shape=(275,1)),\n",
    "                        MaxPool1D(pool_size=2),\n",
    "                        Conv1D(filters=64,kernel_size=3, activation='relu'),\n",
    "                        MaxPool1D(pool_size=2),\n",
    "                        Flatten(),\n",
    "                        Dense(32,activation=\"relu\"),\n",
    "                        Dense(16,activation=\"relu\"),\n",
    "                             Dense(4,activation=\"softmax\")\n",
    "])\n",
    "model.compile(\n",
    "  optimizer='adam',\n",
    "  loss=\"sparse_categorical_crossentropy\",metrics=[\"accuracy\"])"
   ]
  },
  {
   "cell_type": "code",
   "execution_count": 14,
   "metadata": {},
   "outputs": [
    {
     "name": "stdout",
     "output_type": "stream",
     "text": [
      "Epoch 1/100\n",
      "13/13 - 0s - loss: 0.0919 - accuracy: 0.9900 - val_loss: 0.4375 - val_accuracy: 0.8800 - 56ms/epoch - 4ms/step\n",
      "Epoch 2/100\n",
      "13/13 - 0s - loss: 0.0677 - accuracy: 1.0000 - val_loss: 0.4316 - val_accuracy: 0.8900 - 37ms/epoch - 3ms/step\n",
      "Epoch 3/100\n",
      "13/13 - 0s - loss: 0.0635 - accuracy: 1.0000 - val_loss: 0.5440 - val_accuracy: 0.8000 - 38ms/epoch - 3ms/step\n",
      "Epoch 4/100\n",
      "13/13 - 0s - loss: 0.0565 - accuracy: 1.0000 - val_loss: 0.4203 - val_accuracy: 0.8900 - 37ms/epoch - 3ms/step\n",
      "Epoch 5/100\n",
      "13/13 - 0s - loss: 0.0499 - accuracy: 1.0000 - val_loss: 0.4208 - val_accuracy: 0.8900 - 36ms/epoch - 3ms/step\n",
      "Epoch 6/100\n",
      "13/13 - 0s - loss: 0.0396 - accuracy: 1.0000 - val_loss: 0.4756 - val_accuracy: 0.8900 - 36ms/epoch - 3ms/step\n",
      "Epoch 7/100\n",
      "13/13 - 0s - loss: 0.0357 - accuracy: 1.0000 - val_loss: 0.4725 - val_accuracy: 0.8900 - 36ms/epoch - 3ms/step\n",
      "Epoch 8/100\n",
      "13/13 - 0s - loss: 0.0341 - accuracy: 1.0000 - val_loss: 0.5022 - val_accuracy: 0.8900 - 36ms/epoch - 3ms/step\n",
      "Epoch 9/100\n",
      "13/13 - 0s - loss: 0.0281 - accuracy: 1.0000 - val_loss: 0.5395 - val_accuracy: 0.8900 - 37ms/epoch - 3ms/step\n",
      "Epoch 10/100\n",
      "13/13 - 0s - loss: 0.0267 - accuracy: 1.0000 - val_loss: 0.4822 - val_accuracy: 0.8900 - 37ms/epoch - 3ms/step\n",
      "Epoch 11/100\n",
      "13/13 - 0s - loss: 0.0232 - accuracy: 1.0000 - val_loss: 0.5219 - val_accuracy: 0.8900 - 36ms/epoch - 3ms/step\n",
      "Epoch 12/100\n",
      "13/13 - 0s - loss: 0.0195 - accuracy: 1.0000 - val_loss: 0.5241 - val_accuracy: 0.8900 - 37ms/epoch - 3ms/step\n",
      "Epoch 13/100\n",
      "13/13 - 0s - loss: 0.0219 - accuracy: 1.0000 - val_loss: 0.4615 - val_accuracy: 0.8900 - 38ms/epoch - 3ms/step\n",
      "Epoch 14/100\n",
      "Restoring model weights from the end of the best epoch: 4.\n",
      "13/13 - 0s - loss: 0.0188 - accuracy: 1.0000 - val_loss: 0.5315 - val_accuracy: 0.8900 - 37ms/epoch - 3ms/step\n",
      "Epoch 14: early stopping\n"
     ]
    }
   ],
   "source": [
    "history2=model.fit(X_train,y_train,batch_size = 8,\n",
    "                        epochs = 100, \n",
    "                        validation_data = (X_test,y_test),\n",
    "                        verbose = 2,\n",
    "                        callbacks=EarlyStopping(\"val_loss\",patience=10,verbose=1,restore_best_weights=True)\n",
    "                        )"
   ]
  },
  {
   "cell_type": "markdown",
   "metadata": {
    "cell_id": "23a6010e38704d70931b751dc92f6378",
    "deepnote_cell_type": "markdown",
    "tags": []
   },
   "source": [
    "## Recurrent neural nets\n",
    "\n",
    "For this new part of the lab, we will use the data generated from the function below:"
   ]
  },
  {
   "cell_type": "code",
   "execution_count": 4,
   "metadata": {
    "cell_id": "7d66e1d72ce647f5aacf7a52058efbde",
    "deepnote_cell_type": "code",
    "deepnote_output_heights": [
     250
    ],
    "deepnote_to_be_reexecuted": false,
    "execution_millis": 497,
    "execution_start": 1643388908680,
    "source_hash": "613c393b",
    "tags": []
   },
   "outputs": [
    {
     "data": {
      "image/png": "[encoded data removed]",
      "text/plain": [
       "<Figure size 640x480 with 1 Axes>"
      ]
     },
     "metadata": {},
     "output_type": "display_data"
    }
   ],
   "source": [
    "import numpy as np\n",
    "import matplotlib.pyplot as plt\n",
    "\n",
    "def make_sines(n_series_per_class, length, length_padding=0):\n",
    "    t = np.linspace(0, 2 * np.pi, num=length)\n",
    "    X0 = .005 * np.random.randn(n_series_per_class, length + length_padding)\n",
    "    X0[:, :length] = np.sin(t).reshape((1, -1))\n",
    "    X0[:, length:] = np.sin(np.linspace(0, 2 * np.pi, num=length_padding))\n",
    "    \n",
    "    X1 = .005 * np.random.randn(n_series_per_class, length + length_padding)\n",
    "    X1[:, :length] = np.sin(-t).reshape((1, -1))\n",
    "    X1[:, length:] = np.sin(np.linspace(0, 2 * np.pi, num=length_padding))\n",
    "\n",
    "    dataset = np.array([X0, X1]).reshape((2 * n_series_per_class, length + length_padding, 1))\n",
    "    y = np.array([0] * n_series_per_class + [1] * n_series_per_class)\n",
    "\n",
    "    indices = np.random.permutation(2 * n_series_per_class)\n",
    "    return dataset[indices], y[indices]\n",
    "\n",
    "np.random.seed(0)\n",
    "X, y = make_sines(100, 50, length_padding=0)\n",
    "\n",
    "plt.figure()\n",
    "colors = [\"r\", \"b\"]\n",
    "for ts, yi in zip(X, y):\n",
    "    plt.plot(ts.ravel(), color=colors[yi])\n",
    "plt.show()"
   ]
  },
  {
   "cell_type": "markdown",
   "metadata": {
    "cell_id": "99ca95a36a3f45aeade6cc9565c6db94",
    "deepnote_cell_type": "markdown",
    "tags": []
   },
   "source": [
    "**Question #7.** Implement your own recurrent layer (_cf._ formulas in the course) using the skeleton below and train a network\n",
    "made of a single recurrent unit with a 8-dimensional hidden state followed by a fully connected layer, and evaluate its classification \n",
    "performance on the dataset provided above."
   ]
  },
  {
   "cell_type": "code",
   "execution_count": 5,
   "metadata": {
    "cell_id": "c8aa837080c744d8bc92d0e81b8945f0",
    "deepnote_cell_type": "code",
    "deepnote_to_be_reexecuted": false,
    "execution_millis": 3,
    "execution_start": 1643388909180,
    "source_hash": "2aab574a",
    "tags": []
   },
   "outputs": [],
   "source": [
    "from tensorflow.keras.layers import Layer\n",
    "import tensorflow as tf\n",
    "\n",
    "class CustomRecurrentUnit(Layer):\n",
    "    def __init__(self, input_dim, hidden_dim):\n",
    "        super().__init__()\n",
    "        self.hidden_dim = hidden_dim\n",
    "\n",
    "        # List sets of parameters here\n",
    "        self.w_h = self.add_weight(\n",
    "            shape=(hidden_dim, hidden_dim), initializer=\"random_normal\", trainable=True\n",
    "        )\n",
    "        self.b_h = self.add_weight(shape=(hidden_dim,), initializer=\"zeros\", trainable=True)\n",
    "        self.w_i = self.add_weight(\n",
    "            shape=(input_dim, hidden_dim), initializer=\"random_normal\", trainable=True\n",
    "        )\n",
    "        self.b_i = self.add_weight(shape=(hidden_dim,), initializer=\"zeros\", trainable=True)\n",
    "    \n",
    "    def linear_hidden(self, h_t):\n",
    "        return h_t @ self.w_h + self.b_h\n",
    "    \n",
    "    def linear_input(self, x_t):\n",
    "        return x_t @ self.w_i + self.b_i\n",
    "    \n",
    "    def call(self, x):\n",
    "        n_timestamps = x.shape[1]\n",
    "        h = tf.zeros((1, self.hidden_dim))  # Initialize h to [0, ..., 0]\n",
    "        for t in range(n_timestamps):\n",
    "            h = tf.tanh(self.linear_hidden(h)+self.linear_input(x[:,t]))\n",
    "        return h"
   ]
  },
  {
   "cell_type": "code",
   "execution_count": 6,
   "metadata": {
    "cell_id": "44037a28a95f4b8995c08087aab84cad",
    "deepnote_cell_type": "code",
    "deepnote_to_be_reexecuted": false,
    "execution_millis": 1,
    "execution_start": 1643388909228,
    "source_hash": "c136c338",
    "tags": []
   },
   "outputs": [],
   "source": [
    "from tensorflow.keras.callbacks import Callback\n",
    "\n",
    "class CustomLogging(Callback):\n",
    "    def __init__(self, every_n_epochs=10):\n",
    "        super().__init__()\n",
    "        self.every_n_epochs = every_n_epochs\n",
    "\n",
    "    def on_epoch_end(self, epoch, logs=None):\n",
    "        if epoch % self.every_n_epochs == self.every_n_epochs - 1:\n",
    "            # accuracy = self.model.evaluate(*self.training_data)\n",
    "            print(f\"Training loss after epoch {epoch}: {logs['loss']}\")"
   ]
  },
  {
   "cell_type": "markdown",
   "metadata": {
    "cell_id": "22e3c8897c91438d93e01354657534f7",
    "deepnote_cell_type": "markdown",
    "tags": []
   },
   "source": [
    "**Question #8.** Implement a network made of a `CustomRecurrentUnit` followed by a fully-connected layer\n",
    "for the classification task introduced above.\n",
    "Evaluate this model both in terms of training loss and test-set accuracy (you can use the above callback to limit the amount of logging)."
   ]
  },
  {
   "cell_type": "code",
   "execution_count": 104,
   "metadata": {
    "cell_id": "b040773d7c16484e8a1ea1ab4a516996",
    "deepnote_cell_type": "code",
    "tags": []
   },
   "outputs": [],
   "source": [
    "model = Sequential([CustomRecurrentUnit(input_dim=1,hidden_dim=100),\n",
    "                             Dense(1,activation=\"sigmoid\")\n",
    "])\n",
    "model.compile(\n",
    "  optimizer='adam',\n",
    "  loss='binary_crossentropy',metrics=[\"accuracy\"])"
   ]
  },
  {
   "cell_type": "code",
   "execution_count": 105,
   "metadata": {
    "scrolled": true
   },
   "outputs": [
    {
     "name": "stdout",
     "output_type": "stream",
     "text": [
      "Epoch 1/50\n",
      "7/7 [==============================] - 2s 4ms/step - loss: 0.6985 - accuracy: 0.4800\n",
      "Epoch 2/50\n",
      "7/7 [==============================] - 0s 4ms/step - loss: 0.6940 - accuracy: 0.5000\n",
      "Epoch 3/50\n",
      "7/7 [==============================] - 0s 4ms/step - loss: 0.6936 - accuracy: 0.4800\n",
      "Epoch 4/50\n",
      "7/7 [==============================] - 0s 4ms/step - loss: 0.6935 - accuracy: 0.5000\n",
      "Epoch 5/50\n",
      "7/7 [==============================] - 0s 4ms/step - loss: 0.6939 - accuracy: 0.4400\n",
      "Epoch 6/50\n",
      "7/7 [==============================] - 0s 4ms/step - loss: 0.6931 - accuracy: 0.5000\n",
      "Epoch 7/50\n",
      "7/7 [==============================] - 0s 4ms/step - loss: 0.6932 - accuracy: 0.5000\n",
      "Epoch 8/50\n",
      "7/7 [==============================] - 0s 4ms/step - loss: 0.6933 - accuracy: 0.5000\n",
      "Epoch 9/50\n",
      "7/7 [==============================] - 0s 4ms/step - loss: 0.6940 - accuracy: 0.4700\n",
      "Epoch 10/50\n",
      "7/7 [==============================] - 0s 4ms/step - loss: 0.6934 - accuracy: 0.4800\n",
      "Epoch 11/50\n",
      "7/7 [==============================] - 0s 4ms/step - loss: 0.6936 - accuracy: 0.4400\n",
      "Epoch 12/50\n",
      "7/7 [==============================] - 0s 4ms/step - loss: 0.6933 - accuracy: 0.4800\n",
      "Epoch 13/50\n",
      "7/7 [==============================] - 0s 4ms/step - loss: 0.6932 - accuracy: 0.5000\n",
      "Epoch 14/50\n",
      "7/7 [==============================] - 0s 4ms/step - loss: 0.6933 - accuracy: 0.4600\n",
      "Epoch 15/50\n",
      "7/7 [==============================] - 0s 4ms/step - loss: 0.6933 - accuracy: 0.5000\n",
      "Epoch 16/50\n",
      "7/7 [==============================] - 0s 4ms/step - loss: 0.6935 - accuracy: 0.5000\n",
      "Epoch 17/50\n",
      "7/7 [==============================] - 0s 4ms/step - loss: 0.6940 - accuracy: 0.5000\n",
      "Epoch 18/50\n",
      "7/7 [==============================] - 0s 4ms/step - loss: 0.6937 - accuracy: 0.5000\n",
      "Epoch 19/50\n",
      "7/7 [==============================] - 0s 5ms/step - loss: 0.6936 - accuracy: 0.5000\n",
      "Epoch 20/50\n",
      "7/7 [==============================] - 0s 4ms/step - loss: 0.6933 - accuracy: 0.5000\n",
      "Epoch 21/50\n",
      "7/7 [==============================] - 0s 4ms/step - loss: 0.6937 - accuracy: 0.5000\n",
      "Epoch 22/50\n",
      "7/7 [==============================] - 0s 4ms/step - loss: 0.6936 - accuracy: 0.5000\n",
      "Epoch 23/50\n",
      "7/7 [==============================] - 0s 4ms/step - loss: 0.6932 - accuracy: 0.5000\n",
      "Epoch 24/50\n",
      "7/7 [==============================] - 0s 4ms/step - loss: 0.6932 - accuracy: 0.5000\n",
      "Epoch 25/50\n",
      "7/7 [==============================] - 0s 4ms/step - loss: 0.6935 - accuracy: 0.5000\n",
      "Epoch 26/50\n",
      "7/7 [==============================] - 0s 4ms/step - loss: 0.6932 - accuracy: 0.5000\n",
      "Epoch 27/50\n",
      "7/7 [==============================] - 0s 4ms/step - loss: 0.6933 - accuracy: 0.5000\n",
      "Epoch 28/50\n",
      "7/7 [==============================] - 0s 5ms/step - loss: 0.6937 - accuracy: 0.5000\n",
      "Epoch 29/50\n",
      "7/7 [==============================] - 0s 5ms/step - loss: 0.6934 - accuracy: 0.5000\n",
      "Epoch 30/50\n",
      "7/7 [==============================] - 0s 4ms/step - loss: 0.6934 - accuracy: 0.5000\n",
      "Epoch 31/50\n",
      "7/7 [==============================] - 0s 4ms/step - loss: 0.6932 - accuracy: 0.4800\n",
      "Epoch 32/50\n",
      "7/7 [==============================] - 0s 4ms/step - loss: 0.6935 - accuracy: 0.5000\n",
      "Epoch 33/50\n",
      "7/7 [==============================] - 0s 4ms/step - loss: 0.6935 - accuracy: 0.5000\n",
      "Epoch 34/50\n",
      "7/7 [==============================] - 0s 4ms/step - loss: 0.6933 - accuracy: 0.5000\n",
      "Epoch 35/50\n",
      "7/7 [==============================] - 0s 4ms/step - loss: 0.6932 - accuracy: 0.5000\n",
      "Epoch 36/50\n",
      "7/7 [==============================] - 0s 4ms/step - loss: 0.6932 - accuracy: 0.5000\n",
      "Epoch 37/50\n",
      "7/7 [==============================] - 0s 4ms/step - loss: 0.6932 - accuracy: 0.5000\n",
      "Epoch 38/50\n",
      "7/7 [==============================] - 0s 4ms/step - loss: 0.6938 - accuracy: 0.5000\n",
      "Epoch 39/50\n",
      "7/7 [==============================] - 0s 5ms/step - loss: 0.6935 - accuracy: 0.5000\n",
      "Epoch 40/50\n",
      "7/7 [==============================] - 0s 5ms/step - loss: 0.6935 - accuracy: 0.5000\n",
      "Epoch 41/50\n",
      "7/7 [==============================] - 0s 5ms/step - loss: 0.6934 - accuracy: 0.5000\n",
      "Epoch 42/50\n",
      "7/7 [==============================] - 0s 4ms/step - loss: 0.6934 - accuracy: 0.5000\n",
      "Epoch 43/50\n",
      "7/7 [==============================] - 0s 4ms/step - loss: 0.6934 - accuracy: 0.5000\n",
      "Epoch 44/50\n",
      "7/7 [==============================] - 0s 4ms/step - loss: 0.6935 - accuracy: 0.5000\n",
      "Epoch 45/50\n",
      "7/7 [==============================] - 0s 4ms/step - loss: 0.6934 - accuracy: 0.5000\n",
      "Epoch 46/50\n",
      "7/7 [==============================] - 0s 4ms/step - loss: 0.6935 - accuracy: 0.5000\n",
      "Epoch 47/50\n",
      "7/7 [==============================] - 0s 5ms/step - loss: 0.6935 - accuracy: 0.5000\n",
      "Epoch 48/50\n",
      "7/7 [==============================] - 0s 4ms/step - loss: 0.6935 - accuracy: 0.5000\n",
      "Epoch 49/50\n",
      "7/7 [==============================] - 0s 4ms/step - loss: 0.6934 - accuracy: 0.5000\n",
      "Epoch 50/50\n",
      "7/7 [==============================] - 0s 5ms/step - loss: 0.6935 - accuracy: 0.5000\n"
     ]
    },
    {
     "data": {
      "text/plain": [
       "<keras.callbacks.History at 0x2dbc45150>"
      ]
     },
     "execution_count": 105,
     "metadata": {},
     "output_type": "execute_result"
    }
   ],
   "source": [
    "X, y = make_sines(100, 50, length_padding=5)\n",
    "model.fit(X,y,epochs=50)"
   ]
  },
  {
   "cell_type": "markdown",
   "metadata": {
    "cell_id": "592d8ae6887f4bb9a7639bea3dfa6280",
    "deepnote_cell_type": "markdown",
    "tags": []
   },
   "source": [
    "**Question #9.** Update your dataset so that it includes a final padding of 15 timestamps (_cf._ signature of the `make_sines` function)\n",
    "and see how it impacts performance of your model."
   ]
  },
  {
   "cell_type": "code",
   "execution_count": 106,
   "metadata": {
    "cell_id": "64253c69ae52450d913535407c8f0dc2",
    "deepnote_cell_type": "code",
    "scrolled": true,
    "tags": []
   },
   "outputs": [
    {
     "name": "stdout",
     "output_type": "stream",
     "text": [
      "Epoch 1/50\n",
      "7/7 [==============================] - 2s 4ms/step - loss: 0.6953 - accuracy: 0.5000\n",
      "Epoch 2/50\n",
      "7/7 [==============================] - 0s 4ms/step - loss: 0.6933 - accuracy: 0.4800\n",
      "Epoch 3/50\n",
      "7/7 [==============================] - 0s 4ms/step - loss: 0.6939 - accuracy: 0.4700\n",
      "Epoch 4/50\n",
      "7/7 [==============================] - 0s 4ms/step - loss: 0.6948 - accuracy: 0.5000\n",
      "Epoch 5/50\n",
      "7/7 [==============================] - 0s 4ms/step - loss: 0.6934 - accuracy: 0.4500\n",
      "Epoch 6/50\n",
      "7/7 [==============================] - 0s 4ms/step - loss: 0.6932 - accuracy: 0.5000\n",
      "Epoch 7/50\n",
      "7/7 [==============================] - 0s 4ms/step - loss: 0.6933 - accuracy: 0.5000\n",
      "Epoch 8/50\n",
      "7/7 [==============================] - 0s 4ms/step - loss: 0.6936 - accuracy: 0.5000\n",
      "Epoch 9/50\n",
      "7/7 [==============================] - 0s 4ms/step - loss: 0.6935 - accuracy: 0.5000\n",
      "Epoch 10/50\n",
      "7/7 [==============================] - 0s 4ms/step - loss: 0.6933 - accuracy: 0.5000\n",
      "Epoch 11/50\n",
      "7/7 [==============================] - 0s 4ms/step - loss: 0.6932 - accuracy: 0.5000\n",
      "Epoch 12/50\n",
      "7/7 [==============================] - 0s 4ms/step - loss: 0.6936 - accuracy: 0.4500\n",
      "Epoch 13/50\n",
      "7/7 [==============================] - 0s 4ms/step - loss: 0.6932 - accuracy: 0.5000\n",
      "Epoch 14/50\n",
      "7/7 [==============================] - 0s 4ms/step - loss: 0.6933 - accuracy: 0.5000\n",
      "Epoch 15/50\n",
      "7/7 [==============================] - 0s 4ms/step - loss: 0.6934 - accuracy: 0.5000\n",
      "Epoch 16/50\n",
      "7/7 [==============================] - 0s 4ms/step - loss: 0.6933 - accuracy: 0.5000\n",
      "Epoch 17/50\n",
      "7/7 [==============================] - 0s 5ms/step - loss: 0.6932 - accuracy: 0.5000\n",
      "Epoch 18/50\n",
      "7/7 [==============================] - 0s 4ms/step - loss: 0.6931 - accuracy: 0.5100\n",
      "Epoch 19/50\n",
      "7/7 [==============================] - 0s 4ms/step - loss: 0.6933 - accuracy: 0.5000\n",
      "Epoch 20/50\n",
      "7/7 [==============================] - 0s 4ms/step - loss: 0.6936 - accuracy: 0.5000\n",
      "Epoch 21/50\n",
      "7/7 [==============================] - 0s 4ms/step - loss: 0.6933 - accuracy: 0.5000\n",
      "Epoch 22/50\n",
      "7/7 [==============================] - 0s 4ms/step - loss: 0.6933 - accuracy: 0.4700\n",
      "Epoch 23/50\n",
      "7/7 [==============================] - 0s 5ms/step - loss: 0.6931 - accuracy: 0.5000\n",
      "Epoch 24/50\n",
      "7/7 [==============================] - 0s 4ms/step - loss: 0.6944 - accuracy: 0.5000\n",
      "Epoch 25/50\n",
      "7/7 [==============================] - 0s 4ms/step - loss: 0.6947 - accuracy: 0.5000\n",
      "Epoch 26/50\n",
      "7/7 [==============================] - 0s 4ms/step - loss: 0.6943 - accuracy: 0.5000\n",
      "Epoch 27/50\n",
      "7/7 [==============================] - 0s 4ms/step - loss: 0.6943 - accuracy: 0.5000\n",
      "Epoch 28/50\n",
      "7/7 [==============================] - 0s 4ms/step - loss: 0.6933 - accuracy: 0.5000\n",
      "Epoch 29/50\n",
      "7/7 [==============================] - 0s 4ms/step - loss: 0.6933 - accuracy: 0.5000\n",
      "Epoch 30/50\n",
      "7/7 [==============================] - 0s 4ms/step - loss: 0.6932 - accuracy: 0.5000\n",
      "Epoch 31/50\n",
      "7/7 [==============================] - 0s 4ms/step - loss: 0.6932 - accuracy: 0.5000\n",
      "Epoch 32/50\n",
      "7/7 [==============================] - 0s 5ms/step - loss: 0.6935 - accuracy: 0.4800\n",
      "Epoch 33/50\n",
      "7/7 [==============================] - 0s 4ms/step - loss: 0.6932 - accuracy: 0.5000\n",
      "Epoch 34/50\n",
      "7/7 [==============================] - 0s 5ms/step - loss: 0.6933 - accuracy: 0.5000\n",
      "Epoch 35/50\n",
      "7/7 [==============================] - 0s 4ms/step - loss: 0.6933 - accuracy: 0.5000\n",
      "Epoch 36/50\n",
      "7/7 [==============================] - 0s 5ms/step - loss: 0.6934 - accuracy: 0.5000\n",
      "Epoch 37/50\n",
      "7/7 [==============================] - 0s 4ms/step - loss: 0.6938 - accuracy: 0.5000\n",
      "Epoch 38/50\n",
      "7/7 [==============================] - 0s 4ms/step - loss: 0.6938 - accuracy: 0.5000\n",
      "Epoch 39/50\n",
      "7/7 [==============================] - 0s 5ms/step - loss: 0.6935 - accuracy: 0.5000\n",
      "Epoch 40/50\n",
      "7/7 [==============================] - 0s 4ms/step - loss: 0.6934 - accuracy: 0.5000\n",
      "Epoch 41/50\n",
      "7/7 [==============================] - 0s 4ms/step - loss: 0.6934 - accuracy: 0.5000\n",
      "Epoch 42/50\n",
      "7/7 [==============================] - 0s 4ms/step - loss: 0.6933 - accuracy: 0.5000\n",
      "Epoch 43/50\n",
      "7/7 [==============================] - 0s 4ms/step - loss: 0.6937 - accuracy: 0.5000\n",
      "Epoch 44/50\n",
      "7/7 [==============================] - 0s 5ms/step - loss: 0.6933 - accuracy: 0.5000\n",
      "Epoch 45/50\n",
      "7/7 [==============================] - 0s 4ms/step - loss: 0.6932 - accuracy: 0.5000\n",
      "Epoch 46/50\n",
      "7/7 [==============================] - 0s 4ms/step - loss: 0.6932 - accuracy: 0.5000\n",
      "Epoch 47/50\n",
      "7/7 [==============================] - 0s 5ms/step - loss: 0.6933 - accuracy: 0.5000\n",
      "Epoch 48/50\n",
      "7/7 [==============================] - 0s 4ms/step - loss: 0.6932 - accuracy: 0.4900\n",
      "Epoch 49/50\n",
      "7/7 [==============================] - 0s 4ms/step - loss: 0.6934 - accuracy: 0.5000\n",
      "Epoch 50/50\n",
      "7/7 [==============================] - 0s 4ms/step - loss: 0.6933 - accuracy: 0.5000\n"
     ]
    },
    {
     "data": {
      "text/plain": [
       "<keras.callbacks.History at 0x2de2c0f10>"
      ]
     },
     "execution_count": 106,
     "metadata": {},
     "output_type": "execute_result"
    }
   ],
   "source": [
    "model = Sequential([CustomRecurrentUnit(input_dim=1,hidden_dim=100),\n",
    "                             Dense(1,activation=\"sigmoid\")\n",
    "])\n",
    "model.compile(\n",
    "  optimizer='adam',\n",
    "  loss='binary_crossentropy',metrics=[\"accuracy\"])\n",
    "X, y = make_sines(100, 50, length_padding=15)\n",
    "model.fit(X,y,epochs=50)"
   ]
  },
  {
   "cell_type": "markdown",
   "metadata": {
    "cell_id": "8c515a15d64240d6b29af74010d8d52b",
    "deepnote_cell_type": "markdown",
    "tags": []
   },
   "source": [
    "**Question #10.** Build GRU (resp. LSTM) counterparts of the RNN-based model above.\n",
    "How do they compare experimentally to the previous model?"
   ]
  },
  {
   "cell_type": "code",
   "execution_count": 2,
   "metadata": {
    "cell_id": "1e0462b0f9d6459782e117794c51ef4f",
    "deepnote_cell_type": "code",
    "tags": []
   },
   "outputs": [],
   "source": [
    "from keras.layers import GRU, LSTM"
   ]
  },
  {
   "cell_type": "code",
   "execution_count": 109,
   "metadata": {
    "scrolled": true
   },
   "outputs": [
    {
     "name": "stdout",
     "output_type": "stream",
     "text": [
      "Epoch 1/50\n",
      "7/7 [==============================] - 1s 18ms/step - loss: 0.6946 - accuracy: 0.4900\n",
      "Epoch 2/50\n",
      "7/7 [==============================] - 0s 19ms/step - loss: 0.6942 - accuracy: 0.4700\n",
      "Epoch 3/50\n",
      "7/7 [==============================] - 0s 18ms/step - loss: 0.6929 - accuracy: 0.5500\n",
      "Epoch 4/50\n",
      "7/7 [==============================] - 0s 18ms/step - loss: 0.6934 - accuracy: 0.5000\n",
      "Epoch 5/50\n",
      "7/7 [==============================] - 0s 18ms/step - loss: 0.6943 - accuracy: 0.5000\n",
      "Epoch 6/50\n",
      "7/7 [==============================] - 0s 18ms/step - loss: 0.6933 - accuracy: 0.5000\n",
      "Epoch 7/50\n",
      "7/7 [==============================] - 0s 18ms/step - loss: 0.6935 - accuracy: 0.5000\n",
      "Epoch 8/50\n",
      "7/7 [==============================] - 0s 18ms/step - loss: 0.6940 - accuracy: 0.5000\n",
      "Epoch 9/50\n",
      "7/7 [==============================] - 0s 18ms/step - loss: 0.6934 - accuracy: 0.4500\n",
      "Epoch 10/50\n",
      "7/7 [==============================] - 0s 19ms/step - loss: 0.6944 - accuracy: 0.5000\n",
      "Epoch 11/50\n",
      "7/7 [==============================] - 0s 19ms/step - loss: 0.6936 - accuracy: 0.5000\n",
      "Epoch 12/50\n",
      "7/7 [==============================] - 0s 19ms/step - loss: 0.6935 - accuracy: 0.5000\n",
      "Epoch 13/50\n",
      "7/7 [==============================] - 0s 18ms/step - loss: 0.6939 - accuracy: 0.5000\n",
      "Epoch 14/50\n",
      "7/7 [==============================] - 0s 19ms/step - loss: 0.6942 - accuracy: 0.4600\n",
      "Epoch 15/50\n",
      "7/7 [==============================] - 0s 19ms/step - loss: 0.6935 - accuracy: 0.5000\n",
      "Epoch 16/50\n",
      "7/7 [==============================] - 0s 19ms/step - loss: 0.6931 - accuracy: 0.5000\n",
      "Epoch 17/50\n",
      "7/7 [==============================] - 0s 18ms/step - loss: 0.6935 - accuracy: 0.4600\n",
      "Epoch 18/50\n",
      "7/7 [==============================] - 0s 18ms/step - loss: 0.6929 - accuracy: 0.4800\n",
      "Epoch 19/50\n",
      "7/7 [==============================] - 0s 18ms/step - loss: 0.6898 - accuracy: 0.5600\n",
      "Epoch 20/50\n",
      "7/7 [==============================] - 0s 19ms/step - loss: 0.6281 - accuracy: 0.7700\n",
      "Epoch 21/50\n",
      "7/7 [==============================] - 0s 19ms/step - loss: 0.5847 - accuracy: 1.0000\n",
      "Epoch 22/50\n",
      "7/7 [==============================] - 0s 19ms/step - loss: 0.2397 - accuracy: 1.0000\n",
      "Epoch 23/50\n",
      "7/7 [==============================] - 0s 18ms/step - loss: 0.0846 - accuracy: 1.0000\n",
      "Epoch 24/50\n",
      "7/7 [==============================] - 0s 18ms/step - loss: 0.0157 - accuracy: 1.0000\n",
      "Epoch 25/50\n",
      "7/7 [==============================] - 0s 18ms/step - loss: 0.0031 - accuracy: 1.0000\n",
      "Epoch 26/50\n",
      "7/7 [==============================] - 0s 19ms/step - loss: 0.0016 - accuracy: 1.0000\n",
      "Epoch 27/50\n",
      "7/7 [==============================] - 0s 19ms/step - loss: 0.0011 - accuracy: 1.0000\n",
      "Epoch 28/50\n",
      "7/7 [==============================] - 0s 19ms/step - loss: 9.5262e-04 - accuracy: 1.0000\n",
      "Epoch 29/50\n",
      "7/7 [==============================] - 0s 19ms/step - loss: 8.3420e-04 - accuracy: 1.0000\n",
      "Epoch 30/50\n",
      "7/7 [==============================] - 0s 19ms/step - loss: 7.3453e-04 - accuracy: 1.0000\n",
      "Epoch 31/50\n",
      "7/7 [==============================] - 0s 19ms/step - loss: 6.6155e-04 - accuracy: 1.0000\n",
      "Epoch 32/50\n",
      "7/7 [==============================] - 0s 20ms/step - loss: 6.0846e-04 - accuracy: 1.0000\n",
      "Epoch 33/50\n",
      "7/7 [==============================] - 0s 19ms/step - loss: 5.6791e-04 - accuracy: 1.0000\n",
      "Epoch 34/50\n",
      "7/7 [==============================] - 0s 19ms/step - loss: 5.3354e-04 - accuracy: 1.0000\n",
      "Epoch 35/50\n",
      "7/7 [==============================] - 0s 19ms/step - loss: 5.0426e-04 - accuracy: 1.0000\n",
      "Epoch 36/50\n",
      "7/7 [==============================] - 0s 20ms/step - loss: 4.7835e-04 - accuracy: 1.0000\n",
      "Epoch 37/50\n",
      "7/7 [==============================] - 0s 20ms/step - loss: 4.5525e-04 - accuracy: 1.0000\n",
      "Epoch 38/50\n",
      "7/7 [==============================] - 0s 19ms/step - loss: 4.3424e-04 - accuracy: 1.0000\n",
      "Epoch 39/50\n",
      "7/7 [==============================] - 0s 19ms/step - loss: 4.1518e-04 - accuracy: 1.0000\n",
      "Epoch 40/50\n",
      "7/7 [==============================] - 0s 19ms/step - loss: 3.9775e-04 - accuracy: 1.0000\n",
      "Epoch 41/50\n",
      "7/7 [==============================] - 0s 19ms/step - loss: 3.8165e-04 - accuracy: 1.0000\n",
      "Epoch 42/50\n",
      "7/7 [==============================] - 0s 19ms/step - loss: 3.6676e-04 - accuracy: 1.0000\n",
      "Epoch 43/50\n",
      "7/7 [==============================] - 0s 19ms/step - loss: 3.5294e-04 - accuracy: 1.0000\n",
      "Epoch 44/50\n",
      "7/7 [==============================] - 0s 19ms/step - loss: 3.4006e-04 - accuracy: 1.0000\n",
      "Epoch 45/50\n",
      "7/7 [==============================] - 0s 19ms/step - loss: 3.2803e-04 - accuracy: 1.0000\n",
      "Epoch 46/50\n",
      "7/7 [==============================] - 0s 19ms/step - loss: 3.1673e-04 - accuracy: 1.0000\n",
      "Epoch 47/50\n",
      "7/7 [==============================] - 0s 19ms/step - loss: 3.0612e-04 - accuracy: 1.0000\n",
      "Epoch 48/50\n",
      "7/7 [==============================] - 0s 19ms/step - loss: 2.9614e-04 - accuracy: 1.0000\n",
      "Epoch 49/50\n",
      "7/7 [==============================] - 0s 20ms/step - loss: 2.8674e-04 - accuracy: 1.0000\n",
      "Epoch 50/50\n",
      "7/7 [==============================] - 0s 20ms/step - loss: 2.7781e-04 - accuracy: 1.0000\n"
     ]
    },
    {
     "data": {
      "text/plain": [
       "<keras.callbacks.History at 0x2e3633550>"
      ]
     },
     "execution_count": 109,
     "metadata": {},
     "output_type": "execute_result"
    }
   ],
   "source": [
    "model = Sequential([GRU(100),\n",
    "                             Dense(1,activation=\"sigmoid\")\n",
    "])\n",
    "model.compile(\n",
    "  optimizer='adam',\n",
    "  loss='binary_crossentropy',metrics=[\"accuracy\"])\n",
    "X, y = make_sines(100, 50, length_padding=15)\n",
    "model.fit(X,y,epochs=50)"
   ]
  },
  {
   "cell_type": "code",
   "execution_count": 132,
   "metadata": {
    "scrolled": true
   },
   "outputs": [
    {
     "name": "stdout",
     "output_type": "stream",
     "text": [
      "Epoch 1/30\n",
      "7/7 [==============================] - 1s 7ms/step - loss: 0.6959 - accuracy: 0.5000\n",
      "Epoch 2/30\n",
      "7/7 [==============================] - 0s 7ms/step - loss: 0.6952 - accuracy: 0.5000\n",
      "Epoch 3/30\n",
      "7/7 [==============================] - 0s 7ms/step - loss: 0.6947 - accuracy: 0.5000\n",
      "Epoch 4/30\n",
      "7/7 [==============================] - 0s 7ms/step - loss: 0.6943 - accuracy: 0.5000\n",
      "Epoch 5/30\n",
      "7/7 [==============================] - 0s 7ms/step - loss: 0.6942 - accuracy: 0.5000\n",
      "Epoch 6/30\n",
      "7/7 [==============================] - 0s 7ms/step - loss: 0.6937 - accuracy: 0.5000\n",
      "Epoch 7/30\n",
      "7/7 [==============================] - 0s 7ms/step - loss: 0.6934 - accuracy: 0.5000\n",
      "Epoch 8/30\n",
      "7/7 [==============================] - 0s 7ms/step - loss: 0.6932 - accuracy: 0.5000\n",
      "Epoch 9/30\n",
      "7/7 [==============================] - 0s 7ms/step - loss: 0.6930 - accuracy: 0.5000\n",
      "Epoch 10/30\n",
      "7/7 [==============================] - 0s 7ms/step - loss: 0.6928 - accuracy: 0.5000\n",
      "Epoch 11/30\n",
      "7/7 [==============================] - 0s 7ms/step - loss: 0.6925 - accuracy: 0.5000\n",
      "Epoch 12/30\n",
      "7/7 [==============================] - 0s 7ms/step - loss: 0.6921 - accuracy: 0.5000\n",
      "Epoch 13/30\n",
      "7/7 [==============================] - 0s 7ms/step - loss: 0.6917 - accuracy: 0.5000\n",
      "Epoch 14/30\n",
      "7/7 [==============================] - 0s 7ms/step - loss: 0.6914 - accuracy: 0.5000\n",
      "Epoch 15/30\n",
      "7/7 [==============================] - 0s 7ms/step - loss: 0.6907 - accuracy: 0.5000\n",
      "Epoch 16/30\n",
      "7/7 [==============================] - 0s 7ms/step - loss: 0.6899 - accuracy: 0.5000\n",
      "Epoch 17/30\n",
      "7/7 [==============================] - 0s 7ms/step - loss: 0.6888 - accuracy: 0.5000\n",
      "Epoch 18/30\n",
      "7/7 [==============================] - 0s 7ms/step - loss: 0.6869 - accuracy: 0.5000\n",
      "Epoch 19/30\n",
      "7/7 [==============================] - 0s 7ms/step - loss: 0.6841 - accuracy: 0.5000\n",
      "Epoch 20/30\n",
      "7/7 [==============================] - 0s 7ms/step - loss: 0.6791 - accuracy: 0.5000\n",
      "Epoch 21/30\n",
      "7/7 [==============================] - 0s 7ms/step - loss: 0.6711 - accuracy: 0.5000\n",
      "Epoch 22/30\n",
      "7/7 [==============================] - 0s 7ms/step - loss: 0.6585 - accuracy: 0.5000\n",
      "Epoch 23/30\n",
      "7/7 [==============================] - 0s 7ms/step - loss: 0.6403 - accuracy: 0.5000\n",
      "Epoch 24/30\n",
      "7/7 [==============================] - 0s 7ms/step - loss: 0.6161 - accuracy: 1.0000\n",
      "Epoch 25/30\n",
      "7/7 [==============================] - 0s 7ms/step - loss: 0.5861 - accuracy: 1.0000\n",
      "Epoch 26/30\n",
      "7/7 [==============================] - 0s 7ms/step - loss: 0.5534 - accuracy: 1.0000\n",
      "Epoch 27/30\n",
      "7/7 [==============================] - 0s 7ms/step - loss: 0.5209 - accuracy: 1.0000\n",
      "Epoch 28/30\n",
      "7/7 [==============================] - 0s 7ms/step - loss: 0.4919 - accuracy: 1.0000\n",
      "Epoch 29/30\n",
      "7/7 [==============================] - 0s 7ms/step - loss: 0.4673 - accuracy: 1.0000\n",
      "Epoch 30/30\n",
      "7/7 [==============================] - 0s 7ms/step - loss: 0.4465 - accuracy: 1.0000\n"
     ]
    },
    {
     "data": {
      "text/plain": [
       "<keras.callbacks.History at 0x30be0d930>"
      ]
     },
     "execution_count": 132,
     "metadata": {},
     "output_type": "execute_result"
    }
   ],
   "source": [
    "model = Sequential([LSTM(3),\n",
    "                             Dense(1,activation=\"sigmoid\")\n",
    "])\n",
    "model.compile(\n",
    "  optimizer='adam',\n",
    "  loss='binary_crossentropy',metrics=[\"accuracy\"])\n",
    "X, y = make_sines(100, 50, length_padding=15)\n",
    "model.fit(X,y,epochs=30)"
   ]
  },
  {
   "cell_type": "markdown",
   "metadata": {
    "cell_id": "9a3e4c2e84c041f7a18f34c6fb35cdb5",
    "deepnote_cell_type": "markdown",
    "tags": []
   },
   "source": [
    "## Recap\n",
    "\n",
    "**Question #11.** Come back to the \"Trace\" dataset used above and design a fair comparison between several convolutional and recurrent architectures to decide which one to choose for the problem at hand (feel free to play with the depth of the nets, as well as hidden representation dimensionality, etc.)."
   ]
  },
  {
   "cell_type": "code",
   "execution_count": 144,
   "metadata": {
    "cell_id": "3020b8693ec140de8384108efb3d753e",
    "deepnote_cell_type": "code",
    "scrolled": true,
    "tags": []
   },
   "outputs": [
    {
     "name": "stdout",
     "output_type": "stream",
     "text": [
      "Epoch 1/100\n",
      "13/13 - 0s - loss: 1.2730 - accuracy: 0.4100 - val_loss: 1.0779 - val_accuracy: 0.5000 - 375ms/epoch - 29ms/step\n",
      "Epoch 2/100\n",
      "13/13 - 0s - loss: 0.8664 - accuracy: 0.6200 - val_loss: 0.9183 - val_accuracy: 0.4300 - 46ms/epoch - 4ms/step\n",
      "Epoch 3/100\n",
      "13/13 - 0s - loss: 0.7328 - accuracy: 0.5700 - val_loss: 0.6945 - val_accuracy: 0.5900 - 49ms/epoch - 4ms/step\n",
      "Epoch 4/100\n",
      "13/13 - 0s - loss: 0.5565 - accuracy: 0.7200 - val_loss: 0.5685 - val_accuracy: 0.7200 - 47ms/epoch - 4ms/step\n",
      "Epoch 5/100\n",
      "13/13 - 0s - loss: 0.5001 - accuracy: 0.7100 - val_loss: 0.5197 - val_accuracy: 0.6300 - 47ms/epoch - 4ms/step\n",
      "Epoch 6/100\n",
      "13/13 - 0s - loss: 0.4372 - accuracy: 0.7700 - val_loss: 0.4662 - val_accuracy: 0.7500 - 48ms/epoch - 4ms/step\n",
      "Epoch 7/100\n",
      "13/13 - 0s - loss: 0.4343 - accuracy: 0.7400 - val_loss: 0.5556 - val_accuracy: 0.6800 - 48ms/epoch - 4ms/step\n",
      "Epoch 8/100\n",
      "13/13 - 0s - loss: 0.3785 - accuracy: 0.7400 - val_loss: 0.4113 - val_accuracy: 0.7200 - 53ms/epoch - 4ms/step\n",
      "Epoch 9/100\n",
      "13/13 - 0s - loss: 0.3875 - accuracy: 0.7300 - val_loss: 0.5348 - val_accuracy: 0.7000 - 55ms/epoch - 4ms/step\n",
      "Epoch 10/100\n",
      "13/13 - 0s - loss: 0.3740 - accuracy: 0.7600 - val_loss: 0.3928 - val_accuracy: 0.7500 - 58ms/epoch - 4ms/step\n",
      "Epoch 11/100\n",
      "13/13 - 0s - loss: 0.3444 - accuracy: 0.8000 - val_loss: 0.4025 - val_accuracy: 0.7200 - 56ms/epoch - 4ms/step\n",
      "Epoch 12/100\n",
      "13/13 - 0s - loss: 0.3314 - accuracy: 0.8200 - val_loss: 0.5958 - val_accuracy: 0.7000 - 58ms/epoch - 4ms/step\n",
      "Epoch 13/100\n",
      "13/13 - 0s - loss: 0.3507 - accuracy: 0.8200 - val_loss: 0.3820 - val_accuracy: 0.7300 - 56ms/epoch - 4ms/step\n",
      "Epoch 14/100\n",
      "13/13 - 0s - loss: 0.3180 - accuracy: 0.8400 - val_loss: 0.4317 - val_accuracy: 0.7300 - 55ms/epoch - 4ms/step\n",
      "Epoch 15/100\n",
      "13/13 - 0s - loss: 0.3052 - accuracy: 0.8400 - val_loss: 0.4102 - val_accuracy: 0.7400 - 57ms/epoch - 4ms/step\n",
      "Epoch 16/100\n",
      "13/13 - 0s - loss: 0.2959 - accuracy: 0.8600 - val_loss: 0.4253 - val_accuracy: 0.7300 - 56ms/epoch - 4ms/step\n",
      "Epoch 17/100\n",
      "13/13 - 0s - loss: 0.2986 - accuracy: 0.8700 - val_loss: 0.3725 - val_accuracy: 0.8100 - 59ms/epoch - 5ms/step\n",
      "Epoch 18/100\n",
      "13/13 - 0s - loss: 0.3037 - accuracy: 0.8900 - val_loss: 0.5125 - val_accuracy: 0.7200 - 58ms/epoch - 4ms/step\n",
      "Epoch 19/100\n",
      "13/13 - 0s - loss: 0.2878 - accuracy: 0.8200 - val_loss: 0.3466 - val_accuracy: 0.7800 - 60ms/epoch - 5ms/step\n",
      "Epoch 20/100\n",
      "13/13 - 0s - loss: 0.2868 - accuracy: 0.8500 - val_loss: 0.3546 - val_accuracy: 0.7800 - 56ms/epoch - 4ms/step\n",
      "Epoch 21/100\n",
      "13/13 - 0s - loss: 0.2413 - accuracy: 0.9400 - val_loss: 0.3495 - val_accuracy: 0.8200 - 57ms/epoch - 4ms/step\n",
      "Epoch 22/100\n",
      "13/13 - 0s - loss: 0.2233 - accuracy: 0.9300 - val_loss: 0.3533 - val_accuracy: 0.8200 - 56ms/epoch - 4ms/step\n",
      "Epoch 23/100\n",
      "13/13 - 0s - loss: 0.2025 - accuracy: 0.9600 - val_loss: 0.4823 - val_accuracy: 0.7300 - 58ms/epoch - 4ms/step\n",
      "Epoch 24/100\n",
      "13/13 - 0s - loss: 0.2872 - accuracy: 0.8400 - val_loss: 0.3473 - val_accuracy: 0.8200 - 56ms/epoch - 4ms/step\n",
      "Epoch 25/100\n",
      "13/13 - 0s - loss: 0.2773 - accuracy: 0.8300 - val_loss: 0.2793 - val_accuracy: 0.8500 - 56ms/epoch - 4ms/step\n",
      "Epoch 26/100\n",
      "13/13 - 0s - loss: 0.1848 - accuracy: 0.9400 - val_loss: 0.3257 - val_accuracy: 0.8400 - 58ms/epoch - 4ms/step\n",
      "Epoch 27/100\n",
      "13/13 - 0s - loss: 0.1582 - accuracy: 0.9700 - val_loss: 0.3130 - val_accuracy: 0.8500 - 58ms/epoch - 4ms/step\n",
      "Epoch 28/100\n",
      "13/13 - 0s - loss: 0.1254 - accuracy: 1.0000 - val_loss: 0.2952 - val_accuracy: 0.8900 - 57ms/epoch - 4ms/step\n",
      "Epoch 29/100\n",
      "13/13 - 0s - loss: 0.1099 - accuracy: 0.9800 - val_loss: 0.2349 - val_accuracy: 0.9400 - 62ms/epoch - 5ms/step\n",
      "Epoch 30/100\n",
      "13/13 - 0s - loss: 0.0969 - accuracy: 1.0000 - val_loss: 0.3791 - val_accuracy: 0.8200 - 59ms/epoch - 5ms/step\n",
      "Epoch 31/100\n",
      "13/13 - 0s - loss: 0.0782 - accuracy: 1.0000 - val_loss: 0.2361 - val_accuracy: 0.9400 - 60ms/epoch - 5ms/step\n",
      "Epoch 32/100\n",
      "13/13 - 0s - loss: 0.0677 - accuracy: 0.9900 - val_loss: 0.2809 - val_accuracy: 0.9200 - 57ms/epoch - 4ms/step\n",
      "Epoch 33/100\n",
      "13/13 - 0s - loss: 0.0552 - accuracy: 1.0000 - val_loss: 0.3994 - val_accuracy: 0.8500 - 61ms/epoch - 5ms/step\n",
      "Epoch 34/100\n",
      "13/13 - 0s - loss: 0.0545 - accuracy: 0.9800 - val_loss: 0.2387 - val_accuracy: 0.9300 - 56ms/epoch - 4ms/step\n",
      "Epoch 35/100\n",
      "13/13 - 0s - loss: 0.0277 - accuracy: 1.0000 - val_loss: 0.2533 - val_accuracy: 0.9300 - 57ms/epoch - 4ms/step\n",
      "Epoch 36/100\n",
      "13/13 - 0s - loss: 0.0179 - accuracy: 1.0000 - val_loss: 0.2523 - val_accuracy: 0.9300 - 56ms/epoch - 4ms/step\n",
      "Epoch 37/100\n",
      "13/13 - 0s - loss: 0.0135 - accuracy: 1.0000 - val_loss: 0.2256 - val_accuracy: 0.9400 - 59ms/epoch - 5ms/step\n",
      "Epoch 38/100\n",
      "13/13 - 0s - loss: 0.0105 - accuracy: 1.0000 - val_loss: 0.2849 - val_accuracy: 0.9400 - 57ms/epoch - 4ms/step\n",
      "Epoch 39/100\n",
      "13/13 - 0s - loss: 0.0069 - accuracy: 1.0000 - val_loss: 0.2794 - val_accuracy: 0.9400 - 57ms/epoch - 4ms/step\n",
      "Epoch 40/100\n",
      "13/13 - 0s - loss: 0.0057 - accuracy: 1.0000 - val_loss: 0.2966 - val_accuracy: 0.9400 - 61ms/epoch - 5ms/step\n",
      "Epoch 41/100\n",
      "13/13 - 0s - loss: 0.0047 - accuracy: 1.0000 - val_loss: 0.2716 - val_accuracy: 0.9400 - 59ms/epoch - 5ms/step\n",
      "Epoch 42/100\n",
      "13/13 - 0s - loss: 0.0039 - accuracy: 1.0000 - val_loss: 0.2756 - val_accuracy: 0.9400 - 56ms/epoch - 4ms/step\n",
      "Epoch 43/100\n",
      "13/13 - 0s - loss: 0.0038 - accuracy: 1.0000 - val_loss: 0.2764 - val_accuracy: 0.9400 - 59ms/epoch - 5ms/step\n",
      "Epoch 44/100\n",
      "13/13 - 0s - loss: 0.0035 - accuracy: 1.0000 - val_loss: 0.2980 - val_accuracy: 0.9400 - 56ms/epoch - 4ms/step\n",
      "Epoch 45/100\n",
      "13/13 - 0s - loss: 0.0032 - accuracy: 1.0000 - val_loss: 0.2854 - val_accuracy: 0.9400 - 56ms/epoch - 4ms/step\n",
      "Epoch 46/100\n",
      "13/13 - 0s - loss: 0.0027 - accuracy: 1.0000 - val_loss: 0.3121 - val_accuracy: 0.9400 - 55ms/epoch - 4ms/step\n",
      "Epoch 47/100\n",
      "Restoring model weights from the end of the best epoch: 37.\n",
      "13/13 - 0s - loss: 0.0027 - accuracy: 1.0000 - val_loss: 0.2830 - val_accuracy: 0.9500 - 62ms/epoch - 5ms/step\n",
      "Epoch 47: early stopping\n"
     ]
    }
   ],
   "source": [
    "model_cnn1 = Sequential([Conv1D(filters=32,kernel_size=3, activation='relu', input_shape=(275,1)),\n",
    "                        MaxPool1D(pool_size=2),\n",
    "                        Conv1D(filters=64,kernel_size=3, activation='relu'),\n",
    "                        MaxPool1D(pool_size=2),\n",
    "                        Flatten(),\n",
    "                        Dense(32,activation=\"relu\"),\n",
    "                        Dense(16,activation=\"relu\"),\n",
    "                             Dense(4,activation=\"softmax\")\n",
    "])\n",
    "model_cnn1.compile(\n",
    "  optimizer='adam',\n",
    "  loss=\"sparse_categorical_crossentropy\",metrics=[\"accuracy\"])\n",
    "history_cnn1=model_cnn1.fit(X_train,y_train,batch_size = 8,\n",
    "                        epochs = 100, \n",
    "                        validation_data = (X_test,y_test),\n",
    "                        verbose = 2,\n",
    "                        callbacks=EarlyStopping(\"val_loss\",patience=10,verbose=1,restore_best_weights=True)\n",
    "                        )"
   ]
  },
  {
   "cell_type": "code",
   "execution_count": 147,
   "metadata": {
    "scrolled": true
   },
   "outputs": [
    {
     "name": "stdout",
     "output_type": "stream",
     "text": [
      "Epoch 1/100\n",
      "13/13 - 0s - loss: 0.9885 - accuracy: 0.4800 - val_loss: 0.8140 - val_accuracy: 0.4900 - 318ms/epoch - 24ms/step\n",
      "Epoch 2/100\n",
      "13/13 - 0s - loss: 0.6777 - accuracy: 0.6700 - val_loss: 0.7214 - val_accuracy: 0.5300 - 52ms/epoch - 4ms/step\n",
      "Epoch 3/100\n",
      "13/13 - 0s - loss: 0.6222 - accuracy: 0.6500 - val_loss: 0.7620 - val_accuracy: 0.5600 - 50ms/epoch - 4ms/step\n",
      "Epoch 4/100\n",
      "13/13 - 0s - loss: 0.6122 - accuracy: 0.7000 - val_loss: 0.6522 - val_accuracy: 0.5700 - 47ms/epoch - 4ms/step\n",
      "Epoch 5/100\n",
      "13/13 - 0s - loss: 0.5391 - accuracy: 0.7200 - val_loss: 0.6789 - val_accuracy: 0.6100 - 48ms/epoch - 4ms/step\n",
      "Epoch 6/100\n",
      "13/13 - 0s - loss: 0.5280 - accuracy: 0.7200 - val_loss: 0.5899 - val_accuracy: 0.6300 - 48ms/epoch - 4ms/step\n",
      "Epoch 7/100\n",
      "13/13 - 0s - loss: 0.5047 - accuracy: 0.7200 - val_loss: 0.6678 - val_accuracy: 0.5500 - 49ms/epoch - 4ms/step\n",
      "Epoch 8/100\n",
      "13/13 - 0s - loss: 0.4659 - accuracy: 0.7600 - val_loss: 0.6275 - val_accuracy: 0.6400 - 51ms/epoch - 4ms/step\n",
      "Epoch 9/100\n",
      "13/13 - 0s - loss: 0.4815 - accuracy: 0.7400 - val_loss: 0.5072 - val_accuracy: 0.7200 - 54ms/epoch - 4ms/step\n",
      "Epoch 10/100\n",
      "13/13 - 0s - loss: 0.4025 - accuracy: 0.8000 - val_loss: 0.5386 - val_accuracy: 0.6600 - 57ms/epoch - 4ms/step\n",
      "Epoch 11/100\n",
      "13/13 - 0s - loss: 0.3845 - accuracy: 0.7800 - val_loss: 0.5045 - val_accuracy: 0.6800 - 52ms/epoch - 4ms/step\n",
      "Epoch 12/100\n",
      "13/13 - 0s - loss: 0.3860 - accuracy: 0.7300 - val_loss: 0.5309 - val_accuracy: 0.6700 - 58ms/epoch - 4ms/step\n",
      "Epoch 13/100\n",
      "13/13 - 0s - loss: 0.3811 - accuracy: 0.7800 - val_loss: 0.5081 - val_accuracy: 0.6900 - 53ms/epoch - 4ms/step\n",
      "Epoch 14/100\n",
      "13/13 - 0s - loss: 0.3669 - accuracy: 0.8000 - val_loss: 0.5510 - val_accuracy: 0.6700 - 53ms/epoch - 4ms/step\n",
      "Epoch 15/100\n",
      "13/13 - 0s - loss: 0.3573 - accuracy: 0.8200 - val_loss: 0.4851 - val_accuracy: 0.7000 - 52ms/epoch - 4ms/step\n",
      "Epoch 16/100\n",
      "13/13 - 0s - loss: 0.3472 - accuracy: 0.8400 - val_loss: 0.5302 - val_accuracy: 0.6800 - 54ms/epoch - 4ms/step\n",
      "Epoch 17/100\n",
      "13/13 - 0s - loss: 0.3546 - accuracy: 0.7800 - val_loss: 0.5250 - val_accuracy: 0.6800 - 51ms/epoch - 4ms/step\n",
      "Epoch 18/100\n",
      "13/13 - 0s - loss: 0.3464 - accuracy: 0.8000 - val_loss: 0.5369 - val_accuracy: 0.6700 - 55ms/epoch - 4ms/step\n",
      "Epoch 19/100\n",
      "13/13 - 0s - loss: 0.3593 - accuracy: 0.7600 - val_loss: 0.5523 - val_accuracy: 0.6700 - 52ms/epoch - 4ms/step\n",
      "Epoch 20/100\n",
      "13/13 - 0s - loss: 0.3639 - accuracy: 0.7700 - val_loss: 0.5221 - val_accuracy: 0.6700 - 51ms/epoch - 4ms/step\n",
      "Epoch 21/100\n",
      "13/13 - 0s - loss: 0.3336 - accuracy: 0.8200 - val_loss: 0.5719 - val_accuracy: 0.6700 - 54ms/epoch - 4ms/step\n",
      "Epoch 22/100\n",
      "13/13 - 0s - loss: 0.3453 - accuracy: 0.8000 - val_loss: 0.5125 - val_accuracy: 0.6400 - 53ms/epoch - 4ms/step\n",
      "Epoch 23/100\n",
      "13/13 - 0s - loss: 0.3410 - accuracy: 0.7800 - val_loss: 0.5419 - val_accuracy: 0.7000 - 51ms/epoch - 4ms/step\n",
      "Epoch 24/100\n",
      "13/13 - 0s - loss: 0.3519 - accuracy: 0.7700 - val_loss: 0.5209 - val_accuracy: 0.6600 - 52ms/epoch - 4ms/step\n",
      "Epoch 25/100\n",
      "Restoring model weights from the end of the best epoch: 15.\n",
      "13/13 - 0s - loss: 0.3251 - accuracy: 0.8600 - val_loss: 0.5358 - val_accuracy: 0.6500 - 55ms/epoch - 4ms/step\n",
      "Epoch 25: early stopping\n"
     ]
    }
   ],
   "source": [
    "model_cnn2 = Sequential([Conv1D(filters=64,kernel_size=3, activation='relu', input_shape=(275,1)),\n",
    "                        MaxPool1D(pool_size=2),\n",
    "                        Flatten(),\n",
    "                        Dense(32,activation=\"relu\"),\n",
    "                        Dense(16,activation=\"relu\"),\n",
    "                             Dense(4,activation=\"softmax\")\n",
    "])\n",
    "model_cnn2.compile(\n",
    "  optimizer='adam',\n",
    "  loss=\"sparse_categorical_crossentropy\",metrics=[\"accuracy\"])\n",
    "history_cnn2=model_cnn2.fit(X_train,y_train,batch_size = 8,\n",
    "                        epochs = 100, \n",
    "                        validation_data = (X_test,y_test),\n",
    "                        verbose = 2,\n",
    "                        callbacks=EarlyStopping(\"val_loss\",patience=10,verbose=1,restore_best_weights=True)\n",
    "                        )"
   ]
  },
  {
   "cell_type": "code",
   "execution_count": 123,
   "metadata": {
    "scrolled": true
   },
   "outputs": [
    {
     "name": "stdout",
     "output_type": "stream",
     "text": [
      "Epoch 1/100\n",
      "13/13 - 9s - loss: 1.3887 - accuracy: 0.2700 - val_loss: 1.4154 - val_accuracy: 0.1900 - 9s/epoch - 723ms/step\n",
      "Epoch 2/100\n",
      "13/13 - 0s - loss: 1.3826 - accuracy: 0.3100 - val_loss: 1.4037 - val_accuracy: 0.1900 - 166ms/epoch - 13ms/step\n",
      "Epoch 3/100\n",
      "13/13 - 0s - loss: 1.3831 - accuracy: 0.3100 - val_loss: 1.4098 - val_accuracy: 0.1900 - 168ms/epoch - 13ms/step\n",
      "Epoch 4/100\n",
      "13/13 - 0s - loss: 1.3771 - accuracy: 0.3100 - val_loss: 1.4090 - val_accuracy: 0.1900 - 167ms/epoch - 13ms/step\n",
      "Epoch 5/100\n",
      "13/13 - 0s - loss: 1.3754 - accuracy: 0.3100 - val_loss: 1.4218 - val_accuracy: 0.1900 - 165ms/epoch - 13ms/step\n",
      "Epoch 6/100\n",
      "13/13 - 0s - loss: 1.3743 - accuracy: 0.3100 - val_loss: 1.4079 - val_accuracy: 0.1900 - 167ms/epoch - 13ms/step\n",
      "Epoch 7/100\n",
      "13/13 - 0s - loss: 1.3715 - accuracy: 0.3100 - val_loss: 1.4161 - val_accuracy: 0.1900 - 169ms/epoch - 13ms/step\n",
      "Epoch 8/100\n",
      "13/13 - 0s - loss: 1.3678 - accuracy: 0.3100 - val_loss: 1.3977 - val_accuracy: 0.1900 - 171ms/epoch - 13ms/step\n",
      "Epoch 9/100\n",
      "13/13 - 0s - loss: 1.3736 - accuracy: 0.3300 - val_loss: 1.4156 - val_accuracy: 0.3500 - 172ms/epoch - 13ms/step\n",
      "Epoch 10/100\n",
      "13/13 - 0s - loss: 1.3654 - accuracy: 0.3700 - val_loss: 1.3949 - val_accuracy: 0.1900 - 171ms/epoch - 13ms/step\n",
      "Epoch 11/100\n",
      "13/13 - 0s - loss: 1.3625 - accuracy: 0.3100 - val_loss: 1.3829 - val_accuracy: 0.3600 - 171ms/epoch - 13ms/step\n",
      "Epoch 12/100\n",
      "13/13 - 0s - loss: 1.3714 - accuracy: 0.2900 - val_loss: 1.3470 - val_accuracy: 0.3600 - 172ms/epoch - 13ms/step\n",
      "Epoch 13/100\n",
      "13/13 - 0s - loss: 1.3888 - accuracy: 0.3000 - val_loss: 1.4094 - val_accuracy: 0.2500 - 171ms/epoch - 13ms/step\n",
      "Epoch 14/100\n",
      "13/13 - 0s - loss: 1.3718 - accuracy: 0.3400 - val_loss: 1.4026 - val_accuracy: 0.2700 - 171ms/epoch - 13ms/step\n",
      "Epoch 15/100\n",
      "13/13 - 0s - loss: 1.3668 - accuracy: 0.3300 - val_loss: 1.4057 - val_accuracy: 0.1800 - 171ms/epoch - 13ms/step\n",
      "Epoch 16/100\n",
      "13/13 - 0s - loss: 1.3662 - accuracy: 0.3000 - val_loss: 1.4078 - val_accuracy: 0.1800 - 171ms/epoch - 13ms/step\n",
      "Epoch 17/100\n",
      "13/13 - 0s - loss: 1.3657 - accuracy: 0.3100 - val_loss: 1.4063 - val_accuracy: 0.1900 - 173ms/epoch - 13ms/step\n",
      "Epoch 18/100\n",
      "13/13 - 0s - loss: 1.3607 - accuracy: 0.3100 - val_loss: 1.4021 - val_accuracy: 0.1900 - 175ms/epoch - 13ms/step\n",
      "Epoch 19/100\n",
      "13/13 - 0s - loss: 1.3600 - accuracy: 0.3100 - val_loss: 1.3971 - val_accuracy: 0.1800 - 174ms/epoch - 13ms/step\n",
      "Epoch 20/100\n",
      "13/13 - 0s - loss: 1.3539 - accuracy: 0.3100 - val_loss: 1.3989 - val_accuracy: 0.1800 - 175ms/epoch - 13ms/step\n",
      "Epoch 21/100\n",
      "13/13 - 0s - loss: 1.3400 - accuracy: 0.3500 - val_loss: 1.3581 - val_accuracy: 0.3700 - 180ms/epoch - 14ms/step\n",
      "Epoch 22/100\n",
      "Restoring model weights from the end of the best epoch: 12.\n",
      "13/13 - 0s - loss: 1.3127 - accuracy: 0.3400 - val_loss: 1.3811 - val_accuracy: 0.1700 - 182ms/epoch - 14ms/step\n",
      "Epoch 22: early stopping\n"
     ]
    }
   ],
   "source": [
    "model_cru = Sequential([CustomRecurrentUnit(input_dim=1,hidden_dim=100),\n",
    "                             Dense(4,activation=\"softmax\")\n",
    "])\n",
    "model_cru.compile(\n",
    "  optimizer='adam',\n",
    "  loss=\"sparse_categorical_crossentropy\",metrics=[\"accuracy\"])\n",
    "history_cru=model_cru.fit(X_train,y_train,batch_size = 8,\n",
    "                        epochs = 100, \n",
    "                        validation_data = (X_test,y_test),\n",
    "                        verbose = 2,\n",
    "                        callbacks=EarlyStopping(\"val_loss\",patience=10,verbose=1,restore_best_weights=True)\n",
    "                        )"
   ]
  },
  {
   "cell_type": "code",
   "execution_count": 139,
   "metadata": {},
   "outputs": [
    {
     "name": "stdout",
     "output_type": "stream",
     "text": [
      "Epoch 1/100\n",
      "13/13 - 1s - loss: 0.9182 - accuracy: 0.4200 - val_loss: 0.8820 - val_accuracy: 0.4800 - 1s/epoch - 98ms/step\n",
      "Epoch 2/100\n",
      "13/13 - 0s - loss: 0.7266 - accuracy: 0.5800 - val_loss: 0.9508 - val_accuracy: 0.5000 - 472ms/epoch - 36ms/step\n",
      "Epoch 3/100\n",
      "13/13 - 0s - loss: 0.7193 - accuracy: 0.6700 - val_loss: 0.7802 - val_accuracy: 0.5600 - 477ms/epoch - 37ms/step\n",
      "Epoch 4/100\n",
      "13/13 - 0s - loss: 0.6954 - accuracy: 0.6000 - val_loss: 0.8475 - val_accuracy: 0.5400 - 461ms/epoch - 35ms/step\n",
      "Epoch 5/100\n",
      "13/13 - 0s - loss: 0.6317 - accuracy: 0.7100 - val_loss: 0.7624 - val_accuracy: 0.4600 - 481ms/epoch - 37ms/step\n",
      "Epoch 6/100\n",
      "13/13 - 0s - loss: 0.6215 - accuracy: 0.6700 - val_loss: 0.7776 - val_accuracy: 0.5100 - 453ms/epoch - 35ms/step\n",
      "Epoch 7/100\n",
      "13/13 - 0s - loss: 0.6189 - accuracy: 0.6400 - val_loss: 0.8083 - val_accuracy: 0.4800 - 448ms/epoch - 34ms/step\n",
      "Epoch 8/100\n",
      "13/13 - 0s - loss: 0.5687 - accuracy: 0.7300 - val_loss: 0.7608 - val_accuracy: 0.5300 - 466ms/epoch - 36ms/step\n",
      "Epoch 9/100\n",
      "13/13 - 1s - loss: 0.5746 - accuracy: 0.7300 - val_loss: 0.7666 - val_accuracy: 0.5100 - 504ms/epoch - 39ms/step\n",
      "Epoch 10/100\n",
      "13/13 - 0s - loss: 0.5527 - accuracy: 0.7000 - val_loss: 0.7860 - val_accuracy: 0.5600 - 480ms/epoch - 37ms/step\n",
      "Epoch 11/100\n",
      "13/13 - 0s - loss: 0.5178 - accuracy: 0.7100 - val_loss: 0.7826 - val_accuracy: 0.5800 - 454ms/epoch - 35ms/step\n",
      "Epoch 12/100\n",
      "13/13 - 0s - loss: 0.5238 - accuracy: 0.7500 - val_loss: 0.8202 - val_accuracy: 0.5100 - 452ms/epoch - 35ms/step\n",
      "Epoch 13/100\n",
      "13/13 - 0s - loss: 0.5087 - accuracy: 0.7100 - val_loss: 0.7527 - val_accuracy: 0.5400 - 452ms/epoch - 35ms/step\n",
      "Epoch 14/100\n",
      "13/13 - 0s - loss: 0.5249 - accuracy: 0.7500 - val_loss: 0.8625 - val_accuracy: 0.5700 - 454ms/epoch - 35ms/step\n",
      "Epoch 15/100\n",
      "13/13 - 0s - loss: 0.4448 - accuracy: 0.7700 - val_loss: 0.7096 - val_accuracy: 0.6100 - 455ms/epoch - 35ms/step\n",
      "Epoch 16/100\n",
      "13/13 - 0s - loss: 0.4411 - accuracy: 0.8000 - val_loss: 0.8520 - val_accuracy: 0.5800 - 454ms/epoch - 35ms/step\n",
      "Epoch 17/100\n",
      "13/13 - 0s - loss: 0.4304 - accuracy: 0.7800 - val_loss: 0.6933 - val_accuracy: 0.5500 - 453ms/epoch - 35ms/step\n",
      "Epoch 18/100\n",
      "13/13 - 0s - loss: 0.4157 - accuracy: 0.8100 - val_loss: 0.7267 - val_accuracy: 0.6000 - 454ms/epoch - 35ms/step\n",
      "Epoch 19/100\n",
      "13/13 - 0s - loss: 0.3933 - accuracy: 0.7900 - val_loss: 0.6836 - val_accuracy: 0.6500 - 454ms/epoch - 35ms/step\n",
      "Epoch 20/100\n",
      "13/13 - 0s - loss: 0.3715 - accuracy: 0.8300 - val_loss: 0.6262 - val_accuracy: 0.6900 - 458ms/epoch - 35ms/step\n",
      "Epoch 21/100\n",
      "13/13 - 0s - loss: 0.4042 - accuracy: 0.7700 - val_loss: 0.8082 - val_accuracy: 0.6500 - 473ms/epoch - 36ms/step\n",
      "Epoch 22/100\n",
      "13/13 - 0s - loss: 0.3919 - accuracy: 0.7500 - val_loss: 0.6147 - val_accuracy: 0.6100 - 462ms/epoch - 36ms/step\n",
      "Epoch 23/100\n",
      "13/13 - 0s - loss: 0.4242 - accuracy: 0.8100 - val_loss: 0.5765 - val_accuracy: 0.6700 - 460ms/epoch - 35ms/step\n",
      "Epoch 24/100\n",
      "13/13 - 0s - loss: 0.3194 - accuracy: 0.8400 - val_loss: 0.6573 - val_accuracy: 0.6800 - 462ms/epoch - 36ms/step\n",
      "Epoch 25/100\n",
      "13/13 - 0s - loss: 0.3035 - accuracy: 0.8300 - val_loss: 0.6043 - val_accuracy: 0.6900 - 460ms/epoch - 35ms/step\n",
      "Epoch 26/100\n",
      "13/13 - 0s - loss: 0.2837 - accuracy: 0.8900 - val_loss: 0.6856 - val_accuracy: 0.6900 - 455ms/epoch - 35ms/step\n",
      "Epoch 27/100\n",
      "13/13 - 0s - loss: 0.2661 - accuracy: 0.8500 - val_loss: 0.5621 - val_accuracy: 0.6800 - 453ms/epoch - 35ms/step\n",
      "Epoch 28/100\n",
      "13/13 - 0s - loss: 0.2656 - accuracy: 0.8700 - val_loss: 0.5344 - val_accuracy: 0.7700 - 453ms/epoch - 35ms/step\n",
      "Epoch 29/100\n",
      "13/13 - 0s - loss: 0.2040 - accuracy: 0.9400 - val_loss: 0.7342 - val_accuracy: 0.6800 - 450ms/epoch - 35ms/step\n",
      "Epoch 30/100\n",
      "13/13 - 0s - loss: 0.1988 - accuracy: 0.9300 - val_loss: 0.4990 - val_accuracy: 0.7700 - 454ms/epoch - 35ms/step\n",
      "Epoch 31/100\n",
      "13/13 - 0s - loss: 0.2011 - accuracy: 0.9400 - val_loss: 0.6457 - val_accuracy: 0.7500 - 473ms/epoch - 36ms/step\n",
      "Epoch 32/100\n",
      "13/13 - 0s - loss: 0.1010 - accuracy: 1.0000 - val_loss: 0.5079 - val_accuracy: 0.8600 - 455ms/epoch - 35ms/step\n",
      "Epoch 33/100\n",
      "13/13 - 0s - loss: 0.0763 - accuracy: 1.0000 - val_loss: 0.5842 - val_accuracy: 0.8600 - 467ms/epoch - 36ms/step\n",
      "Epoch 34/100\n",
      "13/13 - 0s - loss: 0.0490 - accuracy: 1.0000 - val_loss: 0.4197 - val_accuracy: 0.9100 - 454ms/epoch - 35ms/step\n",
      "Epoch 35/100\n",
      "13/13 - 0s - loss: 0.0535 - accuracy: 0.9900 - val_loss: 0.4921 - val_accuracy: 0.8800 - 466ms/epoch - 36ms/step\n",
      "Epoch 36/100\n",
      "13/13 - 0s - loss: 0.0304 - accuracy: 1.0000 - val_loss: 0.4338 - val_accuracy: 0.9000 - 460ms/epoch - 35ms/step\n",
      "Epoch 37/100\n",
      "13/13 - 0s - loss: 0.0190 - accuracy: 1.0000 - val_loss: 0.4639 - val_accuracy: 0.8900 - 451ms/epoch - 35ms/step\n",
      "Epoch 38/100\n",
      "13/13 - 0s - loss: 0.0107 - accuracy: 1.0000 - val_loss: 0.3854 - val_accuracy: 0.9000 - 455ms/epoch - 35ms/step\n",
      "Epoch 39/100\n",
      "13/13 - 0s - loss: 0.0106 - accuracy: 1.0000 - val_loss: 0.4192 - val_accuracy: 0.9100 - 450ms/epoch - 35ms/step\n",
      "Epoch 40/100\n",
      "13/13 - 0s - loss: 0.0074 - accuracy: 1.0000 - val_loss: 0.4009 - val_accuracy: 0.9200 - 452ms/epoch - 35ms/step\n",
      "Epoch 41/100\n",
      "13/13 - 0s - loss: 0.0062 - accuracy: 1.0000 - val_loss: 0.3887 - val_accuracy: 0.9200 - 463ms/epoch - 36ms/step\n",
      "Epoch 42/100\n",
      "13/13 - 0s - loss: 0.0048 - accuracy: 1.0000 - val_loss: 0.3911 - val_accuracy: 0.9200 - 461ms/epoch - 35ms/step\n",
      "Epoch 43/100\n",
      "13/13 - 0s - loss: 0.0043 - accuracy: 1.0000 - val_loss: 0.3811 - val_accuracy: 0.9200 - 455ms/epoch - 35ms/step\n",
      "Epoch 44/100\n",
      "13/13 - 0s - loss: 0.0036 - accuracy: 1.0000 - val_loss: 0.3811 - val_accuracy: 0.9200 - 467ms/epoch - 36ms/step\n",
      "Epoch 45/100\n",
      "13/13 - 0s - loss: 0.0033 - accuracy: 1.0000 - val_loss: 0.3668 - val_accuracy: 0.9200 - 453ms/epoch - 35ms/step\n",
      "Epoch 46/100\n",
      "13/13 - 0s - loss: 0.0028 - accuracy: 1.0000 - val_loss: 0.3750 - val_accuracy: 0.9200 - 459ms/epoch - 35ms/step\n",
      "Epoch 47/100\n",
      "13/13 - 0s - loss: 0.0025 - accuracy: 1.0000 - val_loss: 0.3703 - val_accuracy: 0.9200 - 451ms/epoch - 35ms/step\n",
      "Epoch 48/100\n",
      "13/13 - 0s - loss: 0.0023 - accuracy: 1.0000 - val_loss: 0.3613 - val_accuracy: 0.9200 - 459ms/epoch - 35ms/step\n",
      "Epoch 49/100\n",
      "13/13 - 0s - loss: 0.0021 - accuracy: 1.0000 - val_loss: 0.3586 - val_accuracy: 0.9200 - 454ms/epoch - 35ms/step\n",
      "Epoch 50/100\n",
      "13/13 - 0s - loss: 0.0020 - accuracy: 1.0000 - val_loss: 0.3506 - val_accuracy: 0.9200 - 454ms/epoch - 35ms/step\n",
      "Epoch 51/100\n",
      "13/13 - 0s - loss: 0.0017 - accuracy: 1.0000 - val_loss: 0.3637 - val_accuracy: 0.9200 - 452ms/epoch - 35ms/step\n",
      "Epoch 52/100\n",
      "13/13 - 0s - loss: 0.0016 - accuracy: 1.0000 - val_loss: 0.3567 - val_accuracy: 0.9200 - 464ms/epoch - 36ms/step\n",
      "Epoch 53/100\n",
      "13/13 - 0s - loss: 0.0014 - accuracy: 1.0000 - val_loss: 0.3449 - val_accuracy: 0.9200 - 460ms/epoch - 35ms/step\n",
      "Epoch 54/100\n",
      "13/13 - 0s - loss: 0.0013 - accuracy: 1.0000 - val_loss: 0.3406 - val_accuracy: 0.9200 - 457ms/epoch - 35ms/step\n",
      "Epoch 55/100\n",
      "13/13 - 0s - loss: 0.0012 - accuracy: 1.0000 - val_loss: 0.3388 - val_accuracy: 0.9200 - 477ms/epoch - 37ms/step\n",
      "Epoch 56/100\n",
      "13/13 - 0s - loss: 0.0011 - accuracy: 1.0000 - val_loss: 0.3429 - val_accuracy: 0.9200 - 472ms/epoch - 36ms/step\n",
      "Epoch 57/100\n",
      "13/13 - 0s - loss: 0.0011 - accuracy: 1.0000 - val_loss: 0.3376 - val_accuracy: 0.9200 - 456ms/epoch - 35ms/step\n",
      "Epoch 58/100\n",
      "13/13 - 0s - loss: 0.0010 - accuracy: 1.0000 - val_loss: 0.3403 - val_accuracy: 0.9200 - 475ms/epoch - 37ms/step\n",
      "Epoch 59/100\n",
      "13/13 - 0s - loss: 9.5399e-04 - accuracy: 1.0000 - val_loss: 0.3236 - val_accuracy: 0.9200 - 477ms/epoch - 37ms/step\n",
      "Epoch 60/100\n",
      "13/13 - 0s - loss: 8.4874e-04 - accuracy: 1.0000 - val_loss: 0.3281 - val_accuracy: 0.9200 - 473ms/epoch - 36ms/step\n",
      "Epoch 61/100\n",
      "13/13 - 0s - loss: 8.0510e-04 - accuracy: 1.0000 - val_loss: 0.3264 - val_accuracy: 0.9200 - 458ms/epoch - 35ms/step\n",
      "Epoch 62/100\n",
      "13/13 - 0s - loss: 7.5060e-04 - accuracy: 1.0000 - val_loss: 0.3263 - val_accuracy: 0.9200 - 458ms/epoch - 35ms/step\n",
      "Epoch 63/100\n",
      "13/13 - 0s - loss: 7.1266e-04 - accuracy: 1.0000 - val_loss: 0.3245 - val_accuracy: 0.9200 - 476ms/epoch - 37ms/step\n",
      "Epoch 64/100\n",
      "13/13 - 0s - loss: 6.7378e-04 - accuracy: 1.0000 - val_loss: 0.3212 - val_accuracy: 0.9200 - 477ms/epoch - 37ms/step\n",
      "Epoch 65/100\n",
      "13/13 - 0s - loss: 6.2932e-04 - accuracy: 1.0000 - val_loss: 0.3172 - val_accuracy: 0.9200 - 468ms/epoch - 36ms/step\n"
     ]
    },
    {
     "name": "stdout",
     "output_type": "stream",
     "text": [
      "Epoch 66/100\n",
      "13/13 - 0s - loss: 6.0377e-04 - accuracy: 1.0000 - val_loss: 0.3101 - val_accuracy: 0.9200 - 471ms/epoch - 36ms/step\n",
      "Epoch 67/100\n",
      "13/13 - 0s - loss: 5.7849e-04 - accuracy: 1.0000 - val_loss: 0.3092 - val_accuracy: 0.9200 - 471ms/epoch - 36ms/step\n",
      "Epoch 68/100\n",
      "13/13 - 0s - loss: 5.4091e-04 - accuracy: 1.0000 - val_loss: 0.3135 - val_accuracy: 0.9300 - 458ms/epoch - 35ms/step\n",
      "Epoch 69/100\n",
      "13/13 - 0s - loss: 5.1398e-04 - accuracy: 1.0000 - val_loss: 0.3134 - val_accuracy: 0.9300 - 459ms/epoch - 35ms/step\n",
      "Epoch 70/100\n",
      "13/13 - 0s - loss: 4.9273e-04 - accuracy: 1.0000 - val_loss: 0.3099 - val_accuracy: 0.9300 - 461ms/epoch - 35ms/step\n",
      "Epoch 71/100\n",
      "13/13 - 0s - loss: 4.6254e-04 - accuracy: 1.0000 - val_loss: 0.3040 - val_accuracy: 0.9300 - 488ms/epoch - 38ms/step\n",
      "Epoch 72/100\n",
      "13/13 - 0s - loss: 4.5099e-04 - accuracy: 1.0000 - val_loss: 0.3022 - val_accuracy: 0.9300 - 459ms/epoch - 35ms/step\n",
      "Epoch 73/100\n",
      "13/13 - 0s - loss: 4.3016e-04 - accuracy: 1.0000 - val_loss: 0.3042 - val_accuracy: 0.9300 - 454ms/epoch - 35ms/step\n",
      "Epoch 74/100\n",
      "13/13 - 0s - loss: 4.0815e-04 - accuracy: 1.0000 - val_loss: 0.3013 - val_accuracy: 0.9300 - 465ms/epoch - 36ms/step\n",
      "Epoch 75/100\n",
      "13/13 - 0s - loss: 3.8658e-04 - accuracy: 1.0000 - val_loss: 0.2960 - val_accuracy: 0.9300 - 469ms/epoch - 36ms/step\n",
      "Epoch 76/100\n",
      "13/13 - 0s - loss: 3.7451e-04 - accuracy: 1.0000 - val_loss: 0.2934 - val_accuracy: 0.9300 - 459ms/epoch - 35ms/step\n",
      "Epoch 77/100\n",
      "13/13 - 0s - loss: 3.6153e-04 - accuracy: 1.0000 - val_loss: 0.2928 - val_accuracy: 0.9300 - 480ms/epoch - 37ms/step\n",
      "Epoch 78/100\n",
      "13/13 - 0s - loss: 3.4996e-04 - accuracy: 1.0000 - val_loss: 0.2907 - val_accuracy: 0.9300 - 469ms/epoch - 36ms/step\n",
      "Epoch 79/100\n",
      "13/13 - 0s - loss: 3.4093e-04 - accuracy: 1.0000 - val_loss: 0.2942 - val_accuracy: 0.9300 - 459ms/epoch - 35ms/step\n",
      "Epoch 80/100\n",
      "13/13 - 0s - loss: 3.2302e-04 - accuracy: 1.0000 - val_loss: 0.2919 - val_accuracy: 0.9300 - 456ms/epoch - 35ms/step\n",
      "Epoch 81/100\n",
      "13/13 - 0s - loss: 3.1253e-04 - accuracy: 1.0000 - val_loss: 0.2860 - val_accuracy: 0.9300 - 456ms/epoch - 35ms/step\n",
      "Epoch 82/100\n",
      "13/13 - 0s - loss: 3.0081e-04 - accuracy: 1.0000 - val_loss: 0.2846 - val_accuracy: 0.9300 - 460ms/epoch - 35ms/step\n",
      "Epoch 83/100\n",
      "13/13 - 0s - loss: 2.9088e-04 - accuracy: 1.0000 - val_loss: 0.2836 - val_accuracy: 0.9300 - 461ms/epoch - 35ms/step\n",
      "Epoch 84/100\n",
      "13/13 - 0s - loss: 2.8806e-04 - accuracy: 1.0000 - val_loss: 0.2879 - val_accuracy: 0.9300 - 455ms/epoch - 35ms/step\n",
      "Epoch 85/100\n",
      "13/13 - 0s - loss: 2.7780e-04 - accuracy: 1.0000 - val_loss: 0.2806 - val_accuracy: 0.9300 - 458ms/epoch - 35ms/step\n",
      "Epoch 86/100\n",
      "13/13 - 0s - loss: 2.6292e-04 - accuracy: 1.0000 - val_loss: 0.2813 - val_accuracy: 0.9300 - 465ms/epoch - 36ms/step\n",
      "Epoch 87/100\n",
      "13/13 - 0s - loss: 2.5149e-04 - accuracy: 1.0000 - val_loss: 0.2801 - val_accuracy: 0.9300 - 471ms/epoch - 36ms/step\n",
      "Epoch 88/100\n",
      "13/13 - 0s - loss: 2.4768e-04 - accuracy: 1.0000 - val_loss: 0.2827 - val_accuracy: 0.9300 - 481ms/epoch - 37ms/step\n",
      "Epoch 89/100\n",
      "13/13 - 0s - loss: 2.3649e-04 - accuracy: 1.0000 - val_loss: 0.2766 - val_accuracy: 0.9300 - 479ms/epoch - 37ms/step\n",
      "Epoch 90/100\n",
      "13/13 - 0s - loss: 2.3180e-04 - accuracy: 1.0000 - val_loss: 0.2760 - val_accuracy: 0.9300 - 462ms/epoch - 36ms/step\n",
      "Epoch 91/100\n",
      "13/13 - 0s - loss: 2.2938e-04 - accuracy: 1.0000 - val_loss: 0.2692 - val_accuracy: 0.9300 - 476ms/epoch - 37ms/step\n",
      "Epoch 92/100\n",
      "13/13 - 0s - loss: 2.2012e-04 - accuracy: 1.0000 - val_loss: 0.2760 - val_accuracy: 0.9300 - 461ms/epoch - 35ms/step\n",
      "Epoch 93/100\n",
      "13/13 - 0s - loss: 2.1283e-04 - accuracy: 1.0000 - val_loss: 0.2769 - val_accuracy: 0.9300 - 464ms/epoch - 36ms/step\n",
      "Epoch 94/100\n",
      "13/13 - 0s - loss: 2.0398e-04 - accuracy: 1.0000 - val_loss: 0.2717 - val_accuracy: 0.9300 - 456ms/epoch - 35ms/step\n",
      "Epoch 95/100\n",
      "13/13 - 0s - loss: 1.9771e-04 - accuracy: 1.0000 - val_loss: 0.2714 - val_accuracy: 0.9300 - 455ms/epoch - 35ms/step\n",
      "Epoch 96/100\n",
      "13/13 - 0s - loss: 1.9365e-04 - accuracy: 1.0000 - val_loss: 0.2726 - val_accuracy: 0.9300 - 456ms/epoch - 35ms/step\n",
      "Epoch 97/100\n",
      "13/13 - 0s - loss: 1.8781e-04 - accuracy: 1.0000 - val_loss: 0.2696 - val_accuracy: 0.9300 - 453ms/epoch - 35ms/step\n",
      "Epoch 98/100\n",
      "13/13 - 0s - loss: 1.8565e-04 - accuracy: 1.0000 - val_loss: 0.2677 - val_accuracy: 0.9300 - 457ms/epoch - 35ms/step\n",
      "Epoch 99/100\n",
      "13/13 - 0s - loss: 1.7999e-04 - accuracy: 1.0000 - val_loss: 0.2717 - val_accuracy: 0.9300 - 455ms/epoch - 35ms/step\n",
      "Epoch 100/100\n",
      "13/13 - 0s - loss: 1.7234e-04 - accuracy: 1.0000 - val_loss: 0.2693 - val_accuracy: 0.9300 - 455ms/epoch - 35ms/step\n"
     ]
    }
   ],
   "source": [
    "model_gru = Sequential([GRU(20,return_sequences=True),\n",
    "                            Flatten(),\n",
    "                            Dense(32,activation=\"relu\"),\n",
    "                             Dense(4,activation=\"softmax\")\n",
    "])\n",
    "model_gru.compile(\n",
    "  optimizer='adam',\n",
    "  loss=\"sparse_categorical_crossentropy\",metrics=[\"accuracy\"])\n",
    "history_gru=model_gru.fit(X_train,y_train,batch_size = 8,\n",
    "                        epochs = 100, \n",
    "                        validation_data = (X_test,y_test),\n",
    "                        verbose = 2,\n",
    "                        callbacks=EarlyStopping(\"val_loss\",patience=10,verbose=1,restore_best_weights=True)\n",
    "                        )"
   ]
  },
  {
   "cell_type": "code",
   "execution_count": 143,
   "metadata": {
    "scrolled": true
   },
   "outputs": [
    {
     "name": "stdout",
     "output_type": "stream",
     "text": [
      "Epoch 1/100\n",
      "13/13 - 1s - loss: 1.0779 - accuracy: 0.4600 - val_loss: 0.8457 - val_accuracy: 0.5100 - 1s/epoch - 92ms/step\n",
      "Epoch 2/100\n",
      "13/13 - 0s - loss: 0.8029 - accuracy: 0.5500 - val_loss: 0.7238 - val_accuracy: 0.5700 - 400ms/epoch - 31ms/step\n",
      "Epoch 3/100\n",
      "13/13 - 0s - loss: 0.6792 - accuracy: 0.5600 - val_loss: 0.7119 - val_accuracy: 0.5400 - 400ms/epoch - 31ms/step\n",
      "Epoch 4/100\n",
      "13/13 - 0s - loss: 0.6357 - accuracy: 0.6600 - val_loss: 0.7506 - val_accuracy: 0.5400 - 401ms/epoch - 31ms/step\n",
      "Epoch 5/100\n",
      "13/13 - 0s - loss: 0.6245 - accuracy: 0.6600 - val_loss: 0.6896 - val_accuracy: 0.6000 - 399ms/epoch - 31ms/step\n",
      "Epoch 6/100\n",
      "13/13 - 0s - loss: 0.6482 - accuracy: 0.6300 - val_loss: 0.8160 - val_accuracy: 0.5600 - 400ms/epoch - 31ms/step\n",
      "Epoch 7/100\n",
      "13/13 - 0s - loss: 0.5814 - accuracy: 0.7400 - val_loss: 0.6841 - val_accuracy: 0.5300 - 399ms/epoch - 31ms/step\n",
      "Epoch 8/100\n",
      "13/13 - 0s - loss: 0.5650 - accuracy: 0.7000 - val_loss: 0.7252 - val_accuracy: 0.5900 - 405ms/epoch - 31ms/step\n",
      "Epoch 9/100\n",
      "13/13 - 0s - loss: 0.5556 - accuracy: 0.7500 - val_loss: 0.6645 - val_accuracy: 0.5800 - 403ms/epoch - 31ms/step\n",
      "Epoch 10/100\n",
      "13/13 - 0s - loss: 0.5049 - accuracy: 0.7400 - val_loss: 0.7093 - val_accuracy: 0.5900 - 405ms/epoch - 31ms/step\n",
      "Epoch 11/100\n",
      "13/13 - 0s - loss: 0.4787 - accuracy: 0.7600 - val_loss: 0.6310 - val_accuracy: 0.6000 - 403ms/epoch - 31ms/step\n",
      "Epoch 12/100\n",
      "13/13 - 0s - loss: 0.4396 - accuracy: 0.7500 - val_loss: 0.6155 - val_accuracy: 0.6600 - 404ms/epoch - 31ms/step\n",
      "Epoch 13/100\n",
      "13/13 - 0s - loss: 0.3954 - accuracy: 0.8100 - val_loss: 0.5075 - val_accuracy: 0.6500 - 418ms/epoch - 32ms/step\n",
      "Epoch 14/100\n",
      "13/13 - 0s - loss: 0.3633 - accuracy: 0.8000 - val_loss: 0.4873 - val_accuracy: 0.7200 - 410ms/epoch - 32ms/step\n",
      "Epoch 15/100\n",
      "13/13 - 0s - loss: 0.3206 - accuracy: 0.8400 - val_loss: 0.4425 - val_accuracy: 0.6800 - 405ms/epoch - 31ms/step\n",
      "Epoch 16/100\n",
      "13/13 - 0s - loss: 0.3074 - accuracy: 0.8100 - val_loss: 0.4598 - val_accuracy: 0.7300 - 410ms/epoch - 32ms/step\n",
      "Epoch 17/100\n",
      "13/13 - 0s - loss: 0.3612 - accuracy: 0.7900 - val_loss: 0.4391 - val_accuracy: 0.7700 - 420ms/epoch - 32ms/step\n",
      "Epoch 18/100\n",
      "13/13 - 0s - loss: 0.3890 - accuracy: 0.8100 - val_loss: 0.4688 - val_accuracy: 0.7200 - 407ms/epoch - 31ms/step\n",
      "Epoch 19/100\n",
      "13/13 - 0s - loss: 0.3191 - accuracy: 0.8400 - val_loss: 0.5567 - val_accuracy: 0.7300 - 416ms/epoch - 32ms/step\n",
      "Epoch 20/100\n",
      "13/13 - 0s - loss: 0.3127 - accuracy: 0.8400 - val_loss: 0.3738 - val_accuracy: 0.8100 - 410ms/epoch - 32ms/step\n",
      "Epoch 21/100\n",
      "13/13 - 0s - loss: 0.2630 - accuracy: 0.8500 - val_loss: 0.3238 - val_accuracy: 0.8000 - 404ms/epoch - 31ms/step\n",
      "Epoch 22/100\n",
      "13/13 - 0s - loss: 0.3007 - accuracy: 0.8700 - val_loss: 0.3416 - val_accuracy: 0.8000 - 427ms/epoch - 33ms/step\n",
      "Epoch 23/100\n",
      "13/13 - 0s - loss: 0.3295 - accuracy: 0.8300 - val_loss: 0.3806 - val_accuracy: 0.7800 - 407ms/epoch - 31ms/step\n",
      "Epoch 24/100\n",
      "13/13 - 0s - loss: 0.2714 - accuracy: 0.8500 - val_loss: 0.4267 - val_accuracy: 0.7500 - 416ms/epoch - 32ms/step\n",
      "Epoch 25/100\n",
      "13/13 - 0s - loss: 0.2499 - accuracy: 0.8800 - val_loss: 0.3633 - val_accuracy: 0.8200 - 414ms/epoch - 32ms/step\n",
      "Epoch 26/100\n",
      "13/13 - 0s - loss: 0.2470 - accuracy: 0.9000 - val_loss: 0.4137 - val_accuracy: 0.7800 - 408ms/epoch - 31ms/step\n",
      "Epoch 27/100\n",
      "13/13 - 0s - loss: 0.2471 - accuracy: 0.9000 - val_loss: 0.4373 - val_accuracy: 0.7500 - 404ms/epoch - 31ms/step\n",
      "Epoch 28/100\n",
      "13/13 - 0s - loss: 0.2239 - accuracy: 0.8800 - val_loss: 0.3549 - val_accuracy: 0.8500 - 406ms/epoch - 31ms/step\n",
      "Epoch 29/100\n",
      "13/13 - 0s - loss: 0.2008 - accuracy: 0.9400 - val_loss: 0.4019 - val_accuracy: 0.8600 - 419ms/epoch - 32ms/step\n",
      "Epoch 30/100\n",
      "13/13 - 0s - loss: 0.1806 - accuracy: 0.9500 - val_loss: 0.4012 - val_accuracy: 0.8600 - 409ms/epoch - 31ms/step\n",
      "Epoch 31/100\n",
      "13/13 - 0s - loss: 0.1479 - accuracy: 0.9600 - val_loss: 0.2896 - val_accuracy: 0.9100 - 408ms/epoch - 31ms/step\n",
      "Epoch 32/100\n",
      "13/13 - 0s - loss: 0.1309 - accuracy: 0.9700 - val_loss: 0.3007 - val_accuracy: 0.9000 - 409ms/epoch - 31ms/step\n",
      "Epoch 33/100\n",
      "13/13 - 0s - loss: 0.1093 - accuracy: 0.9700 - val_loss: 0.2487 - val_accuracy: 0.9100 - 406ms/epoch - 31ms/step\n",
      "Epoch 34/100\n",
      "13/13 - 0s - loss: 0.0915 - accuracy: 0.9800 - val_loss: 0.2899 - val_accuracy: 0.9100 - 408ms/epoch - 31ms/step\n",
      "Epoch 35/100\n",
      "13/13 - 0s - loss: 0.0788 - accuracy: 0.9800 - val_loss: 0.2532 - val_accuracy: 0.9500 - 410ms/epoch - 32ms/step\n",
      "Epoch 36/100\n",
      "13/13 - 0s - loss: 0.0621 - accuracy: 0.9800 - val_loss: 0.2198 - val_accuracy: 0.9400 - 419ms/epoch - 32ms/step\n",
      "Epoch 37/100\n",
      "13/13 - 0s - loss: 0.0463 - accuracy: 0.9900 - val_loss: 0.2369 - val_accuracy: 0.9500 - 408ms/epoch - 31ms/step\n",
      "Epoch 38/100\n",
      "13/13 - 0s - loss: 0.0370 - accuracy: 0.9900 - val_loss: 0.2621 - val_accuracy: 0.9500 - 412ms/epoch - 32ms/step\n",
      "Epoch 39/100\n",
      "13/13 - 0s - loss: 0.0334 - accuracy: 0.9900 - val_loss: 0.2068 - val_accuracy: 0.9500 - 427ms/epoch - 33ms/step\n",
      "Epoch 40/100\n",
      "13/13 - 0s - loss: 0.0226 - accuracy: 0.9900 - val_loss: 0.2720 - val_accuracy: 0.9500 - 405ms/epoch - 31ms/step\n",
      "Epoch 41/100\n",
      "13/13 - 0s - loss: 0.0218 - accuracy: 1.0000 - val_loss: 0.2280 - val_accuracy: 0.9600 - 422ms/epoch - 32ms/step\n",
      "Epoch 42/100\n",
      "13/13 - 0s - loss: 0.0143 - accuracy: 1.0000 - val_loss: 0.2425 - val_accuracy: 0.9600 - 409ms/epoch - 31ms/step\n",
      "Epoch 43/100\n",
      "13/13 - 0s - loss: 0.0117 - accuracy: 1.0000 - val_loss: 0.2114 - val_accuracy: 0.9600 - 427ms/epoch - 33ms/step\n",
      "Epoch 44/100\n",
      "13/13 - 0s - loss: 0.0099 - accuracy: 1.0000 - val_loss: 0.2149 - val_accuracy: 0.9600 - 413ms/epoch - 32ms/step\n",
      "Epoch 45/100\n",
      "13/13 - 0s - loss: 0.0082 - accuracy: 1.0000 - val_loss: 0.2423 - val_accuracy: 0.9600 - 416ms/epoch - 32ms/step\n",
      "Epoch 46/100\n",
      "13/13 - 0s - loss: 0.0063 - accuracy: 1.0000 - val_loss: 0.2197 - val_accuracy: 0.9600 - 405ms/epoch - 31ms/step\n",
      "Epoch 47/100\n",
      "13/13 - 0s - loss: 0.0057 - accuracy: 1.0000 - val_loss: 0.2233 - val_accuracy: 0.9600 - 410ms/epoch - 32ms/step\n",
      "Epoch 48/100\n",
      "13/13 - 0s - loss: 0.0059 - accuracy: 1.0000 - val_loss: 0.2018 - val_accuracy: 0.9600 - 409ms/epoch - 31ms/step\n",
      "Epoch 49/100\n",
      "13/13 - 0s - loss: 0.0052 - accuracy: 1.0000 - val_loss: 0.2667 - val_accuracy: 0.9500 - 407ms/epoch - 31ms/step\n",
      "Epoch 50/100\n",
      "13/13 - 0s - loss: 0.0106 - accuracy: 1.0000 - val_loss: 0.2036 - val_accuracy: 0.9700 - 418ms/epoch - 32ms/step\n",
      "Epoch 51/100\n",
      "13/13 - 0s - loss: 0.0308 - accuracy: 0.9900 - val_loss: 0.2687 - val_accuracy: 0.9200 - 423ms/epoch - 33ms/step\n",
      "Epoch 52/100\n",
      "13/13 - 0s - loss: 0.0551 - accuracy: 0.9900 - val_loss: 0.2431 - val_accuracy: 0.9300 - 406ms/epoch - 31ms/step\n",
      "Epoch 53/100\n",
      "13/13 - 0s - loss: 0.0231 - accuracy: 1.0000 - val_loss: 0.2308 - val_accuracy: 0.9700 - 409ms/epoch - 31ms/step\n",
      "Epoch 54/100\n",
      "13/13 - 0s - loss: 0.0121 - accuracy: 1.0000 - val_loss: 0.2894 - val_accuracy: 0.9500 - 416ms/epoch - 32ms/step\n",
      "Epoch 55/100\n",
      "13/13 - 0s - loss: 0.0086 - accuracy: 1.0000 - val_loss: 0.2746 - val_accuracy: 0.9700 - 409ms/epoch - 31ms/step\n",
      "Epoch 56/100\n",
      "13/13 - 0s - loss: 0.0054 - accuracy: 1.0000 - val_loss: 0.2535 - val_accuracy: 0.9700 - 427ms/epoch - 33ms/step\n",
      "Epoch 57/100\n",
      "13/13 - 0s - loss: 0.0045 - accuracy: 1.0000 - val_loss: 0.2792 - val_accuracy: 0.9500 - 417ms/epoch - 32ms/step\n",
      "Epoch 58/100\n",
      "Restoring model weights from the end of the best epoch: 48.\n",
      "13/13 - 0s - loss: 0.0032 - accuracy: 1.0000 - val_loss: 0.2657 - val_accuracy: 0.9600 - 422ms/epoch - 32ms/step\n",
      "Epoch 58: early stopping\n"
     ]
    }
   ],
   "source": [
    "model_lstm = Sequential([LSTM(20,return_sequences=True),\n",
    "                            Flatten(),\n",
    "                            Dense(32,activation=\"relu\"),\n",
    "                             Dense(4,activation=\"softmax\")\n",
    "])\n",
    "model_lstm.compile(\n",
    "  optimizer='adam',\n",
    "  loss=\"sparse_categorical_crossentropy\",metrics=[\"accuracy\"])\n",
    "history_lstm=model_lstm.fit(X_train,y_train,batch_size = 8,\n",
    "                        epochs = 100, \n",
    "                        validation_data = (X_test,y_test),\n",
    "                        verbose = 2,\n",
    "                        callbacks=EarlyStopping(\"val_loss\",patience=10,verbose=1,restore_best_weights=True)\n",
    "                        )"
   ]
  },
  {
   "cell_type": "code",
   "execution_count": null,
   "metadata": {},
   "outputs": [],
   "source": [
    "feature_extractors"
   ]
  },
  {
   "cell_type": "markdown",
   "metadata": {
    "cell_id": "0fcd840481304a2498479ef2254049a4",
    "deepnote_cell_type": "markdown",
    "tags": []
   },
   "source": [
    "# Bonus: visualizing feature importance\n",
    "\n",
    "An important topic in machine learning is interpretability, which is about explaining model-based decisions.\n",
    "Regarding neural networks, a large body of the interpretability litterature relies on showing which parts of the input data is most important for a decision.\n",
    "\n",
    "A way to visualize the importance of input features on a given decision is to compute gradients of the model's output with respect to its input.\n",
    "\n",
    "The function below does it:"
   ]
  },
  {
   "cell_type": "code",
   "execution_count": 9,
   "metadata": {
    "cell_id": "55d65e0c1a90465f8e55d360fcee72e9",
    "deepnote_cell_type": "code",
    "tags": []
   },
   "outputs": [],
   "source": [
    "import tensorflow as tf\n",
    "from tensorflow.keras.models import Model\n",
    "\n",
    "def make_gradient_heatmap(batch_of_time_series, model):\n",
    "    inputs = tf.convert_to_tensor(batch_of_time_series, dtype=tf.float32)\n",
    "    with tf.GradientTape() as tape:\n",
    "        tape.watch(inputs)\n",
    "        preds = model(inputs)\n",
    "        output_channel = preds[:, 0]\n",
    "\n",
    "    # This is the gradient of the output neuron\n",
    "    # with respect to the input data\n",
    "    grads = tf.abs(tape.gradient(output_channel, inputs))\n",
    "    grads = grads / tf.reduce_max(grads, axis=1, keepdims=True)\n",
    "\n",
    "    return grads.numpy()"
   ]
  },
  {
   "cell_type": "markdown",
   "metadata": {
    "cell_id": "9256450982bb4e6994cfbaf1805643ad",
    "deepnote_cell_type": "markdown",
    "tags": []
   },
   "source": [
    "**Question #12.** Getting back to the binary decision problem with padded sines, visualize the importance of input features in the final decision for:\n",
    "* a network with one LSTM layer\n",
    "* a network with one convolutional layer"
   ]
  },
  {
   "cell_type": "code",
   "execution_count": 16,
   "metadata": {
    "cell_id": "38a86b80c3264bbe82241af7d9db92d9",
    "deepnote_cell_type": "code",
    "scrolled": true,
    "tags": []
   },
   "outputs": [],
   "source": [
    "X, y = make_sines(100, 50, length_padding=100)\n",
    "\n",
    "rec_model = Sequential([\n",
    "    LSTM(units=25,return_sequences=True),\n",
    "    Flatten(),\n",
    "    Dense(10,activation=\"relu\"),\n",
    "    Dense(units=1, activation=\"sigmoid\")\n",
    "])\n",
    "rec_model.compile(loss=\"binary_crossentropy\", optimizer=\"adam\", metrics=[\"accuracy\"])\n",
    "h = rec_model.fit(X, y, epochs=30, verbose=0)\n"
   ]
  },
  {
   "cell_type": "code",
   "execution_count": 17,
   "metadata": {},
   "outputs": [],
   "source": [
    "\n",
    "conv_model = Sequential([\n",
    "    Conv1D(filters=25, kernel_size=5),\n",
    "    Flatten(),\n",
    "    Dense(units=1, activation=\"sigmoid\")\n",
    "])\n",
    "conv_model.compile(loss=\"binary_crossentropy\", optimizer=\"adam\", metrics=[\"accuracy\"])\n",
    "h = conv_model.fit(X, y, epochs=30, verbose=0)"
   ]
  },
  {
   "cell_type": "code",
   "execution_count": 18,
   "metadata": {},
   "outputs": [
    {
     "data": {
      "text/plain": [
       "[<matplotlib.lines.Line2D at 0x16a7904c0>]"
      ]
     },
     "execution_count": 18,
     "metadata": {},
     "output_type": "execute_result"
    },
    {
     "data": {
      "image/png": "[encoded data removed]",
      "text/plain": [
       "<Figure size 640x480 with 1 Axes>"
      ]
     },
     "metadata": {},
     "output_type": "display_data"
    }
   ],
   "source": [
    "grads= make_gradient_heatmap(X, rec_model)\n",
    "plt.subplot(2,1,1)\n",
    "plt.plot(X[0,:,0])\n",
    "plt.plot(grads[0,:,0])"
   ]
  },
  {
   "cell_type": "code",
   "execution_count": null,
   "metadata": {},
   "outputs": [],
   "source": []
  }
 ],
 "metadata": {
  "deepnote": {},
  "deepnote_execution_queue": [],
  "deepnote_notebook_id": "25ccbef48c0041259097a232f5d6522e",
  "kernelspec": {
   "display_name": "machinelearning",
   "language": "python",
   "name": "machinelearning"
  },
  "language_info": {
   "codemirror_mode": {
    "name": "ipython",
    "version": 3
   },
   "file_extension": ".py",
   "mimetype": "text/x-python",
   "name": "python",
   "nbconvert_exporter": "python",
   "pygments_lexer": "ipython3",
   "version": "3.10.6"
  },
  "vscode": {
   "interpreter": {
    "hash": "25f9a3951446179f6c2016b22a60b44495fe90f43bda7f3caedfe2c1a9cd31f9"
   }
  }
 },
 "nbformat": 4,
 "nbformat_minor": 1
}
