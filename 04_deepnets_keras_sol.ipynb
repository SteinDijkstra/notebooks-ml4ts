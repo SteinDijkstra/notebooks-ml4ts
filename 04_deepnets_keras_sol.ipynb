{
 "cells": [
  {
   "cell_type": "markdown",
   "metadata": {
    "cell_id": "bb76fb5fef92490eabccbe7f31d7a262",
    "deepnote_cell_type": "markdown",
    "tags": []
   },
   "source": [
    "# Neural Networks for Time Series\n",
    "\n",
    "* Author: Romain Tavenard (@rtavenar)\n",
    "* License: CC-BY-NC-SA\n",
    "\n",
    "A notebook from a course on Machine Learning for Time Series at ENSAI.\n",
    "One can find lecture notes for this course [there](https://rtavenar.github.io/ml4ts_ensai/).\n"
   ]
  },
  {
   "cell_type": "markdown",
   "metadata": {
    "cell_id": "2d3210fdee8646a2b2aa29cf62c64e2f",
    "deepnote_cell_type": "markdown",
    "tags": []
   },
   "source": [
    "## Preamble\n",
    "\n",
    "This lab session deals with the use of neural networks for time series classification and forecasting.\n",
    "Two kinds of architectures are considered here: convolutional and recurrent models.\n",
    "\n",
    "## Time Series Classification using convolutional models (ConvNets)\n",
    "\n",
    "For a start, you will load the \"Trace\" dataset using [`tslearn` data loading tool](https://tslearn.readthedocs.io/en/latest/gen_modules/datasets/tslearn.datasets.CachedDatasets.html#tslearn.datasets.CachedDatasets.load_dataset).\n",
    "\n",
    "**Question #1.** What are the dimensions of the training data (`X_train`)? And what does each dimension correspond to (number of series, number of timestamps, number of features, ...)?\n",
    "Also, `keras` expects class information to be encoded as one-hot vectors. Use [`to_categorical`](https://www.tensorflow.org/api_docs/python/tf/keras/utils/to_categorical) to format your `y` arrays accordingly.\n"
   ]
  },
  {
   "cell_type": "code",
   "execution_count": 2,
   "metadata": {
    "cell_id": "0cdc8bbfe0914cc9bff67edbabd76e5b",
    "deepnote_cell_type": "code",
    "tags": []
   },
   "outputs": [
    {
     "name": "stdout",
     "output_type": "stream",
     "text": [
      "(100, 275, 1)\n",
      "{0, 1, 2, 3}\n"
     ]
    }
   ],
   "source": [
    "from tslearn.datasets import CachedDatasets\n",
    "\n",
    "data_loader = CachedDatasets()\n",
    "X_train, y_train, X_test, y_test = data_loader.load_dataset(\"Trace\")\n",
    "print(X_train.shape)\n",
    "\n",
    "y_train -= 1\n",
    "y_test -= 1\n",
    "\n",
    "print(set(y_train))"
   ]
  },
  {
   "cell_type": "markdown",
   "metadata": {
    "cell_id": "8b1ec9d6bb1f4698b4857a2b60328708",
    "deepnote_cell_type": "markdown",
    "tags": []
   },
   "source": [
    "**Question #2.** In the following, you will be implementing a ConvNet using keras' [`Conv1D`](https://keras.io/api/layers/convolution_layers/convolution1d/) layers.\n",
    "What value should be passed to the `data_format` parameter to match `tslearn` format? Is it the default value?\n",
    "\n",
    "The default is `\"channels_last\"`, which is what we need."
   ]
  },
  {
   "cell_type": "markdown",
   "metadata": {
    "cell_id": "dceb1bf5722e40ab9cd95032758c0507",
    "deepnote_cell_type": "markdown",
    "tags": []
   },
   "source": [
    "**Question #3.** `keras` has a `Sequential` model class that allows to build models by stacking layers.\n",
    "Define a model that is made of the following layers (use ReLU activation wherever it makes sense):\n",
    "\n",
    "* a convolution layer made of 10 filters of size 3\n",
    "* a pooling layer of pool size 2\n",
    "* a flatten layer (that converts a time series of features into a flattened array that is suited to feed fully-connected layers)\n",
    "* a fully-connected layer that has as many neurons as the number of classes in the \"Trace\" problem, and an adequate activation function.\n",
    "\n",
    "Compile your model (use \"Adam\" optimizer) and fit it for 10 epochs."
   ]
  },
  {
   "cell_type": "code",
   "execution_count": 3,
   "metadata": {
    "cell_id": "986a1a9144e84fadb31729e71692a784",
    "deepnote_cell_type": "code",
    "deepnote_to_be_reexecuted": false,
    "execution_millis": 1869,
    "execution_start": 1643388899518,
    "output_cleared": true,
    "source_hash": "4ac327ac",
    "tags": []
   },
   "outputs": [
    {
     "name": "stderr",
     "output_type": "stream",
     "text": [
      "2023-01-30 09:41:14.913425: I tensorflow/core/platform/cpu_feature_guard.cc:193] This TensorFlow binary is optimized with oneAPI Deep Neural Network Library (oneDNN) to use the following CPU instructions in performance-critical operations:  AVX2 FMA\n",
      "To enable them in other operations, rebuild TensorFlow with the appropriate compiler flags.\n"
     ]
    },
    {
     "name": "stdout",
     "output_type": "stream",
     "text": [
      "Epoch 1/10\n"
     ]
    },
    {
     "name": "stderr",
     "output_type": "stream",
     "text": [
      "2023-01-30 09:41:26.584385: I tensorflow/core/platform/cpu_feature_guard.cc:193] This TensorFlow binary is optimized with oneAPI Deep Neural Network Library (oneDNN) to use the following CPU instructions in performance-critical operations:  AVX2 FMA\n",
      "To enable them in other operations, rebuild TensorFlow with the appropriate compiler flags.\n"
     ]
    },
    {
     "name": "stdout",
     "output_type": "stream",
     "text": [
      "4/4 [==============================] - 1s 105ms/step - loss: 1.6205 - accuracy: 0.1900 - val_loss: 1.2165 - val_accuracy: 0.4900\n",
      "Epoch 2/10\n",
      "4/4 [==============================] - 0s 20ms/step - loss: 1.1082 - accuracy: 0.5100 - val_loss: 0.9785 - val_accuracy: 0.4300\n",
      "Epoch 3/10\n",
      "4/4 [==============================] - 0s 36ms/step - loss: 0.8931 - accuracy: 0.5800 - val_loss: 0.8946 - val_accuracy: 0.4900\n",
      "Epoch 4/10\n",
      "4/4 [==============================] - 0s 32ms/step - loss: 0.7843 - accuracy: 0.6000 - val_loss: 0.8033 - val_accuracy: 0.4800\n",
      "Epoch 5/10\n",
      "4/4 [==============================] - 0s 35ms/step - loss: 0.7124 - accuracy: 0.6500 - val_loss: 0.7453 - val_accuracy: 0.4800\n",
      "Epoch 6/10\n",
      "4/4 [==============================] - 0s 24ms/step - loss: 0.6859 - accuracy: 0.6700 - val_loss: 0.7427 - val_accuracy: 0.5500\n",
      "Epoch 7/10\n",
      "4/4 [==============================] - 0s 21ms/step - loss: 0.6619 - accuracy: 0.7100 - val_loss: 0.7598 - val_accuracy: 0.4600\n",
      "Epoch 8/10\n",
      "4/4 [==============================] - 0s 35ms/step - loss: 0.6570 - accuracy: 0.6200 - val_loss: 0.7617 - val_accuracy: 0.4500\n",
      "Epoch 9/10\n",
      "4/4 [==============================] - 0s 49ms/step - loss: 0.6559 - accuracy: 0.6200 - val_loss: 0.7698 - val_accuracy: 0.4700\n",
      "Epoch 10/10\n",
      "4/4 [==============================] - 0s 22ms/step - loss: 0.6377 - accuracy: 0.6400 - val_loss: 0.7407 - val_accuracy: 0.5200\n"
     ]
    }
   ],
   "source": [
    "from tensorflow.keras.models import Sequential\n",
    "from tensorflow.keras.layers import Conv1D, MaxPool1D, Flatten, Dense\n",
    "\n",
    "model = Sequential([\n",
    "    Conv1D(filters=10, kernel_size=3, activation=\"relu\"),\n",
    "    MaxPool1D(pool_size=2),\n",
    "    Flatten(),\n",
    "    Dense(units=4, activation=\"softmax\")\n",
    "])\n",
    "model.compile(loss=\"sparse_categorical_crossentropy\", optimizer=\"adam\", metrics=[\"accuracy\"])\n",
    "h = model.fit(X_train, y_train, epochs=10, validation_data=(X_test, y_test))"
   ]
  },
  {
   "cell_type": "markdown",
   "metadata": {
    "cell_id": "eb7b06ceddee4e479a36bb3a9495229a",
    "deepnote_cell_type": "markdown",
    "tags": []
   },
   "source": [
    "**Question #4.** Plot the evolution of accuracy through epochs on both training and validation sets."
   ]
  },
  {
   "cell_type": "code",
   "execution_count": 4,
   "metadata": {
    "cell_id": "2da15a19e0cc4f379eb30b1708ce6c33",
    "deepnote_cell_type": "code",
    "deepnote_output_heights": [
     250
    ],
    "deepnote_to_be_reexecuted": false,
    "execution_millis": 1484,
    "execution_start": 1643388901250,
    "output_cleared": true,
    "source_hash": "abb80127",
    "tags": []
   },
   "outputs": [
    {
     "data": {
      "image/png": "[encoded data removed]",
      "text/plain": [
       "<Figure size 640x480 with 1 Axes>"
      ]
     },
     "metadata": {},
     "output_type": "display_data"
    }
   ],
   "source": [
    "import matplotlib.pyplot as plt\n",
    "\n",
    "plt.plot(h.history[\"accuracy\"], label=\"Train\")\n",
    "plt.plot(h.history[\"val_accuracy\"], label=\"Test\")\n",
    "plt.legend();"
   ]
  },
  {
   "cell_type": "markdown",
   "metadata": {
    "cell_id": "a6cb7b7407934e2cb1a917bed0cd64da",
    "deepnote_cell_type": "markdown",
    "tags": []
   },
   "source": [
    "**Question #5.** Ten epochs of training might not be sufficient, yet we do not know how many epochs would be necessary for a decent training. Set up early stopping (cf. [this callback](https://keras.io/api/callbacks/early_stopping/)) and see how long it takes before the model stops training."
   ]
  },
  {
   "cell_type": "code",
   "execution_count": 6,
   "metadata": {
    "cell_id": "fc03a35f7df04656bf23a6212266a4fe",
    "deepnote_cell_type": "code",
    "deepnote_to_be_reexecuted": false,
    "execution_millis": 1523,
    "execution_start": 1643388902754,
    "output_cleared": true,
    "source_hash": "b57f1438",
    "tags": []
   },
   "outputs": [
    {
     "name": "stdout",
     "output_type": "stream",
     "text": [
      "Epoch 1/100\n",
      "4/4 [==============================] - 1s 68ms/step - loss: 1.4240 - accuracy: 0.0400 - val_loss: 1.3020 - val_accuracy: 0.3900\n",
      "Epoch 2/100\n",
      "4/4 [==============================] - 0s 19ms/step - loss: 1.2484 - accuracy: 0.5200 - val_loss: 1.1617 - val_accuracy: 0.4900\n",
      "Epoch 3/100\n",
      "4/4 [==============================] - 0s 20ms/step - loss: 1.1090 - accuracy: 0.5800 - val_loss: 1.0360 - val_accuracy: 0.5000\n",
      "Epoch 4/100\n",
      "4/4 [==============================] - 0s 31ms/step - loss: 0.9947 - accuracy: 0.5600 - val_loss: 0.9319 - val_accuracy: 0.4700\n",
      "Epoch 5/100\n",
      "4/4 [==============================] - 0s 20ms/step - loss: 0.8899 - accuracy: 0.5500 - val_loss: 0.8522 - val_accuracy: 0.4700\n",
      "Epoch 6/100\n",
      "4/4 [==============================] - 0s 26ms/step - loss: 0.8086 - accuracy: 0.5700 - val_loss: 0.7873 - val_accuracy: 0.5200\n",
      "Epoch 7/100\n",
      "4/4 [==============================] - 0s 28ms/step - loss: 0.7479 - accuracy: 0.6400 - val_loss: 0.7471 - val_accuracy: 0.5600\n",
      "Epoch 8/100\n",
      "4/4 [==============================] - 0s 19ms/step - loss: 0.7109 - accuracy: 0.7300 - val_loss: 0.7427 - val_accuracy: 0.5000\n",
      "Epoch 9/100\n",
      "4/4 [==============================] - 0s 25ms/step - loss: 0.6989 - accuracy: 0.6100 - val_loss: 0.7853 - val_accuracy: 0.4600\n",
      "Epoch 10/100\n",
      "4/4 [==============================] - 0s 23ms/step - loss: 0.6738 - accuracy: 0.6400 - val_loss: 0.7633 - val_accuracy: 0.5900\n",
      "Epoch 11/100\n",
      "4/4 [==============================] - 0s 23ms/step - loss: 0.6500 - accuracy: 0.7100 - val_loss: 0.7262 - val_accuracy: 0.5600\n",
      "Epoch 12/100\n",
      "4/4 [==============================] - 0s 31ms/step - loss: 0.6272 - accuracy: 0.7000 - val_loss: 0.7061 - val_accuracy: 0.5700\n",
      "Epoch 13/100\n",
      "4/4 [==============================] - 0s 21ms/step - loss: 0.6385 - accuracy: 0.6600 - val_loss: 0.7112 - val_accuracy: 0.5400\n",
      "Epoch 14/100\n",
      "4/4 [==============================] - 0s 18ms/step - loss: 0.6326 - accuracy: 0.6400 - val_loss: 0.7175 - val_accuracy: 0.5300\n",
      "Epoch 15/100\n",
      "4/4 [==============================] - 0s 22ms/step - loss: 0.6056 - accuracy: 0.6800 - val_loss: 0.7026 - val_accuracy: 0.6200\n",
      "Epoch 16/100\n",
      "4/4 [==============================] - 0s 28ms/step - loss: 0.5858 - accuracy: 0.7700 - val_loss: 0.6877 - val_accuracy: 0.5700\n",
      "Epoch 17/100\n",
      "4/4 [==============================] - 0s 25ms/step - loss: 0.5719 - accuracy: 0.8000 - val_loss: 0.6785 - val_accuracy: 0.5600\n",
      "Epoch 18/100\n",
      "4/4 [==============================] - 0s 40ms/step - loss: 0.5601 - accuracy: 0.7900 - val_loss: 0.6741 - val_accuracy: 0.5600\n",
      "Epoch 19/100\n",
      "4/4 [==============================] - 0s 19ms/step - loss: 0.5547 - accuracy: 0.7700 - val_loss: 0.6875 - val_accuracy: 0.6000\n",
      "Epoch 20/100\n",
      "4/4 [==============================] - 0s 38ms/step - loss: 0.5477 - accuracy: 0.7400 - val_loss: 0.7030 - val_accuracy: 0.5900\n",
      "Epoch 21/100\n",
      "4/4 [==============================] - 0s 24ms/step - loss: 0.5411 - accuracy: 0.6800 - val_loss: 0.6904 - val_accuracy: 0.5800\n",
      "Epoch 22/100\n",
      "4/4 [==============================] - 0s 21ms/step - loss: 0.5319 - accuracy: 0.7400 - val_loss: 0.6352 - val_accuracy: 0.6000\n",
      "Epoch 23/100\n",
      "4/4 [==============================] - 0s 21ms/step - loss: 0.5197 - accuracy: 0.8000 - val_loss: 0.6347 - val_accuracy: 0.6100\n",
      "Epoch 24/100\n",
      "4/4 [==============================] - 0s 26ms/step - loss: 0.4979 - accuracy: 0.8000 - val_loss: 0.6755 - val_accuracy: 0.5800\n",
      "Epoch 25/100\n",
      "4/4 [==============================] - 0s 25ms/step - loss: 0.5079 - accuracy: 0.7200 - val_loss: 0.7016 - val_accuracy: 0.5800\n",
      "Epoch 26/100\n",
      "4/4 [==============================] - 0s 22ms/step - loss: 0.4991 - accuracy: 0.7300 - val_loss: 0.6624 - val_accuracy: 0.6100\n",
      "Epoch 27/100\n",
      "4/4 [==============================] - 0s 23ms/step - loss: 0.4847 - accuracy: 0.7700 - val_loss: 0.6115 - val_accuracy: 0.6100\n",
      "Epoch 28/100\n",
      "4/4 [==============================] - 0s 23ms/step - loss: 0.4773 - accuracy: 0.7900 - val_loss: 0.5839 - val_accuracy: 0.6500\n",
      "Epoch 29/100\n",
      "4/4 [==============================] - 0s 31ms/step - loss: 0.4796 - accuracy: 0.7900 - val_loss: 0.6279 - val_accuracy: 0.6100\n",
      "Epoch 30/100\n",
      "4/4 [==============================] - 0s 22ms/step - loss: 0.4580 - accuracy: 0.8300 - val_loss: 0.6075 - val_accuracy: 0.6100\n",
      "Epoch 31/100\n",
      "4/4 [==============================] - 0s 23ms/step - loss: 0.4422 - accuracy: 0.8100 - val_loss: 0.5949 - val_accuracy: 0.6600\n",
      "Epoch 32/100\n",
      "4/4 [==============================] - 0s 24ms/step - loss: 0.4291 - accuracy: 0.8400 - val_loss: 0.6128 - val_accuracy: 0.6500\n",
      "Epoch 33/100\n",
      "4/4 [==============================] - 0s 20ms/step - loss: 0.4301 - accuracy: 0.8200 - val_loss: 0.6165 - val_accuracy: 0.6700\n",
      "Epoch 34/100\n",
      "4/4 [==============================] - 0s 22ms/step - loss: 0.4179 - accuracy: 0.8500 - val_loss: 0.5687 - val_accuracy: 0.6700\n",
      "Epoch 35/100\n",
      "4/4 [==============================] - 0s 20ms/step - loss: 0.4182 - accuracy: 0.8700 - val_loss: 0.5368 - val_accuracy: 0.7400\n",
      "Epoch 36/100\n",
      "4/4 [==============================] - 0s 22ms/step - loss: 0.4371 - accuracy: 0.7800 - val_loss: 0.5290 - val_accuracy: 0.7400\n",
      "Epoch 37/100\n",
      "4/4 [==============================] - 0s 20ms/step - loss: 0.4255 - accuracy: 0.7800 - val_loss: 0.5392 - val_accuracy: 0.6400\n",
      "Epoch 38/100\n",
      "4/4 [==============================] - 0s 18ms/step - loss: 0.3945 - accuracy: 0.8400 - val_loss: 0.5650 - val_accuracy: 0.6600\n",
      "Epoch 39/100\n",
      "4/4 [==============================] - 0s 23ms/step - loss: 0.3810 - accuracy: 0.8500 - val_loss: 0.5722 - val_accuracy: 0.7000\n",
      "Epoch 40/100\n",
      "4/4 [==============================] - 0s 24ms/step - loss: 0.3817 - accuracy: 0.8700 - val_loss: 0.5444 - val_accuracy: 0.7100\n",
      "Epoch 41/100\n",
      "4/4 [==============================] - 0s 21ms/step - loss: 0.4063 - accuracy: 0.8000 - val_loss: 0.5225 - val_accuracy: 0.7500\n",
      "Epoch 42/100\n",
      "4/4 [==============================] - 0s 33ms/step - loss: 0.3880 - accuracy: 0.8300 - val_loss: 0.5116 - val_accuracy: 0.6800\n",
      "Epoch 43/100\n",
      "4/4 [==============================] - 0s 50ms/step - loss: 0.3660 - accuracy: 0.8500 - val_loss: 0.5589 - val_accuracy: 0.6600\n",
      "Epoch 44/100\n",
      "4/4 [==============================] - 0s 26ms/step - loss: 0.3598 - accuracy: 0.8700 - val_loss: 0.5249 - val_accuracy: 0.6600\n",
      "Epoch 45/100\n",
      "4/4 [==============================] - 0s 23ms/step - loss: 0.3475 - accuracy: 0.8700 - val_loss: 0.5126 - val_accuracy: 0.6900\n",
      "Epoch 46/100\n",
      "4/4 [==============================] - 0s 18ms/step - loss: 0.3416 - accuracy: 0.8700 - val_loss: 0.4908 - val_accuracy: 0.7200\n",
      "Epoch 47/100\n",
      "4/4 [==============================] - 0s 18ms/step - loss: 0.3344 - accuracy: 0.8900 - val_loss: 0.5075 - val_accuracy: 0.7400\n",
      "Epoch 48/100\n",
      "4/4 [==============================] - 0s 19ms/step - loss: 0.3312 - accuracy: 0.9100 - val_loss: 0.4740 - val_accuracy: 0.7400\n",
      "Epoch 49/100\n",
      "4/4 [==============================] - 0s 22ms/step - loss: 0.3242 - accuracy: 0.9100 - val_loss: 0.4876 - val_accuracy: 0.7400\n",
      "Epoch 50/100\n",
      "4/4 [==============================] - 0s 23ms/step - loss: 0.3131 - accuracy: 0.9000 - val_loss: 0.4993 - val_accuracy: 0.7000\n",
      "Epoch 51/100\n",
      "4/4 [==============================] - 0s 19ms/step - loss: 0.3163 - accuracy: 0.8700 - val_loss: 0.5471 - val_accuracy: 0.6700\n",
      "Epoch 52/100\n",
      "4/4 [==============================] - 0s 19ms/step - loss: 0.3277 - accuracy: 0.8300 - val_loss: 0.5040 - val_accuracy: 0.6900\n",
      "Epoch 53/100\n",
      "4/4 [==============================] - 0s 28ms/step - loss: 0.2932 - accuracy: 0.9100 - val_loss: 0.4467 - val_accuracy: 0.8000\n",
      "Epoch 54/100\n",
      "4/4 [==============================] - 0s 26ms/step - loss: 0.3406 - accuracy: 0.8100 - val_loss: 0.4452 - val_accuracy: 0.7700\n",
      "Epoch 55/100\n",
      "4/4 [==============================] - 0s 22ms/step - loss: 0.3042 - accuracy: 0.8900 - val_loss: 0.4910 - val_accuracy: 0.7100\n",
      "Epoch 56/100\n",
      "4/4 [==============================] - 0s 27ms/step - loss: 0.2939 - accuracy: 0.8900 - val_loss: 0.5244 - val_accuracy: 0.7100\n",
      "Epoch 57/100\n",
      "4/4 [==============================] - 0s 19ms/step - loss: 0.2899 - accuracy: 0.8800 - val_loss: 0.4657 - val_accuracy: 0.7600\n",
      "Epoch 58/100\n",
      "4/4 [==============================] - 0s 18ms/step - loss: 0.2758 - accuracy: 0.9000 - val_loss: 0.4427 - val_accuracy: 0.7500\n",
      "Epoch 59/100\n",
      "4/4 [==============================] - 0s 21ms/step - loss: 0.2744 - accuracy: 0.9100 - val_loss: 0.4756 - val_accuracy: 0.7000\n",
      "Epoch 60/100\n",
      "4/4 [==============================] - 0s 22ms/step - loss: 0.2749 - accuracy: 0.8800 - val_loss: 0.4884 - val_accuracy: 0.7000\n",
      "Epoch 61/100\n",
      "4/4 [==============================] - 0s 23ms/step - loss: 0.2724 - accuracy: 0.9000 - val_loss: 0.4501 - val_accuracy: 0.7600\n",
      "Epoch 62/100\n",
      "4/4 [==============================] - 0s 26ms/step - loss: 0.2609 - accuracy: 0.9100 - val_loss: 0.4389 - val_accuracy: 0.7800\n",
      "Epoch 63/100\n",
      "4/4 [==============================] - 0s 29ms/step - loss: 0.2522 - accuracy: 0.9600 - val_loss: 0.4037 - val_accuracy: 0.8300\n",
      "Epoch 64/100\n",
      "4/4 [==============================] - 0s 20ms/step - loss: 0.2814 - accuracy: 0.9200 - val_loss: 0.4044 - val_accuracy: 0.8300\n",
      "Epoch 65/100\n",
      "4/4 [==============================] - 0s 27ms/step - loss: 0.2426 - accuracy: 0.9800 - val_loss: 0.5085 - val_accuracy: 0.7000\n",
      "Epoch 66/100\n",
      "4/4 [==============================] - 0s 24ms/step - loss: 0.2941 - accuracy: 0.8200 - val_loss: 0.5723 - val_accuracy: 0.6800\n",
      "Epoch 67/100\n",
      "4/4 [==============================] - 0s 21ms/step - loss: 0.2849 - accuracy: 0.8300 - val_loss: 0.4291 - val_accuracy: 0.7800\n",
      "Epoch 68/100\n",
      "4/4 [==============================] - 0s 46ms/step - loss: 0.2414 - accuracy: 0.9500 - val_loss: 0.3929 - val_accuracy: 0.8200\n",
      "Epoch 69/100\n",
      "4/4 [==============================] - 0s 23ms/step - loss: 0.2505 - accuracy: 0.9500 - val_loss: 0.4445 - val_accuracy: 0.7400\n",
      "Epoch 70/100\n",
      "4/4 [==============================] - 0s 28ms/step - loss: 0.2477 - accuracy: 0.9000 - val_loss: 0.4932 - val_accuracy: 0.7000\n",
      "Epoch 71/100\n",
      "4/4 [==============================] - 0s 29ms/step - loss: 0.2401 - accuracy: 0.9000 - val_loss: 0.4154 - val_accuracy: 0.7600\n",
      "Epoch 72/100\n",
      "4/4 [==============================] - 0s 17ms/step - loss: 0.2304 - accuracy: 0.9400 - val_loss: 0.4109 - val_accuracy: 0.7500\n",
      "Epoch 73/100\n",
      "4/4 [==============================] - 0s 24ms/step - loss: 0.2341 - accuracy: 0.9000 - val_loss: 0.4852 - val_accuracy: 0.7000\n",
      "Epoch 74/100\n",
      "4/4 [==============================] - 0s 22ms/step - loss: 0.2328 - accuracy: 0.9000 - val_loss: 0.4265 - val_accuracy: 0.7500\n",
      "Epoch 75/100\n",
      "4/4 [==============================] - 0s 20ms/step - loss: 0.2249 - accuracy: 0.9300 - val_loss: 0.4006 - val_accuracy: 0.8000\n",
      "Epoch 76/100\n",
      "4/4 [==============================] - 0s 45ms/step - loss: 0.2216 - accuracy: 0.9400 - val_loss: 0.4383 - val_accuracy: 0.7400\n",
      "Epoch 77/100\n",
      "4/4 [==============================] - 0s 39ms/step - loss: 0.2233 - accuracy: 0.9000 - val_loss: 0.5236 - val_accuracy: 0.7000\n",
      "Epoch 78/100\n",
      "1/4 [======>.......................] - ETA: 0s - loss: 0.1869 - accuracy: 0.9375Restoring model weights from the end of the best epoch: 68.\n",
      "4/4 [==============================] - 0s 25ms/step - loss: 0.2540 - accuracy: 0.8800 - val_loss: 0.4262 - val_accuracy: 0.7500\n",
      "Epoch 78: early stopping\n"
     ]
    }
   ],
   "source": [
    "from tensorflow.keras.callbacks import EarlyStopping\n",
    "\n",
    "cb = EarlyStopping(\n",
    "    monitor=\"val_loss\",\n",
    "    patience=10,\n",
    "    verbose=1,\n",
    "    restore_best_weights=True\n",
    ")\n",
    "model = Sequential([\n",
    "    Conv1D(filters=10, kernel_size=3, activation=\"relu\"),\n",
    "    MaxPool1D(pool_size=2),\n",
    "    Conv1D(filters=20, kernel_size=3, activation=\"relu\"),\n",
    "    MaxPool1D(pool_size=2),\n",
    "    Flatten(),\n",
    "    Dense(units=4, activation=\"softmax\")\n",
    "])\n",
    "model.compile(loss=\"sparse_categorical_crossentropy\", optimizer=\"adam\", metrics=[\"accuracy\"])\n",
    "h = model.fit(X_train, y_train, epochs=100, validation_data=(X_test, y_test), callbacks=[cb])"
   ]
  },
  {
   "cell_type": "markdown",
   "metadata": {
    "cell_id": "23a6010e38704d70931b751dc92f6378",
    "deepnote_cell_type": "markdown",
    "tags": []
   },
   "source": [
    "## Recurrent neural nets\n",
    "\n",
    "For this new part of the lab, we will use the data generated from the function below:"
   ]
  },
  {
   "cell_type": "code",
   "execution_count": 7,
   "metadata": {
    "cell_id": "7d66e1d72ce647f5aacf7a52058efbde",
    "deepnote_cell_type": "code",
    "deepnote_output_heights": [
     250
    ],
    "deepnote_to_be_reexecuted": false,
    "execution_millis": 497,
    "execution_start": 1643388908680,
    "source_hash": "613c393b",
    "tags": []
   },
   "outputs": [
    {
     "data": {
      "image/png": "[encoded data removed]",
      "text/plain": [
       "<Figure size 640x480 with 1 Axes>"
      ]
     },
     "metadata": {},
     "output_type": "display_data"
    }
   ],
   "source": [
    "import numpy as np\n",
    "import matplotlib.pyplot as plt\n",
    "\n",
    "def make_sines(n_series_per_class, length, length_padding=0):\n",
    "    t = np.linspace(0, 2 * np.pi, num=length)\n",
    "    X0 = .005 * np.random.randn(n_series_per_class, length + length_padding)\n",
    "    X0[:, :length] = np.sin(t).reshape((1, -1))\n",
    "    X0[:, length:] = np.sin(np.linspace(0, 2 * np.pi, num=length_padding))\n",
    "    \n",
    "    X1 = .005 * np.random.randn(n_series_per_class, length + length_padding)\n",
    "    X1[:, :length] = np.sin(-t).reshape((1, -1))\n",
    "    X1[:, length:] = np.sin(np.linspace(0, 2 * np.pi, num=length_padding))\n",
    "\n",
    "    dataset = np.array([X0, X1]).reshape((2 * n_series_per_class, length + length_padding, 1))\n",
    "    y = np.array([0] * n_series_per_class + [1] * n_series_per_class)\n",
    "\n",
    "    indices = np.random.permutation(2 * n_series_per_class)\n",
    "    return dataset[indices], y[indices]\n",
    "\n",
    "np.random.seed(0)\n",
    "X, y = make_sines(100, 50, length_padding=10)\n",
    "\n",
    "plt.figure()\n",
    "colors = [\"r\", \"b\"]\n",
    "for ts, yi in zip(X, y):\n",
    "    plt.plot(ts.ravel(), color=colors[yi])\n",
    "plt.show()"
   ]
  },
  {
   "cell_type": "markdown",
   "metadata": {
    "cell_id": "99ca95a36a3f45aeade6cc9565c6db94",
    "deepnote_cell_type": "markdown",
    "tags": []
   },
   "source": [
    "**Question #7.** Implement your own recurrent layer (_cf._ formulas in the course) using the skeleton below and train a network\n",
    "made of a single recurrent unit with a 8-dimensional hidden state followed by a fully connected layer, and evaluate its classification \n",
    "performance on the dataset provided above."
   ]
  },
  {
   "cell_type": "code",
   "execution_count": 8,
   "metadata": {
    "cell_id": "c8aa837080c744d8bc92d0e81b8945f0",
    "deepnote_cell_type": "code",
    "deepnote_to_be_reexecuted": false,
    "execution_millis": 3,
    "execution_start": 1643388909180,
    "source_hash": "2aab574a",
    "tags": []
   },
   "outputs": [],
   "source": [
    "from tensorflow.keras.layers import Layer\n",
    "import tensorflow as tf\n",
    "\n",
    "class CustomRecurrentUnit(Layer):\n",
    "    def __init__(self, input_dim, hidden_dim):\n",
    "        super().__init__()\n",
    "        self.hidden_dim = hidden_dim\n",
    "\n",
    "        # List sets of parameters here\n",
    "        self.w_h = self.add_weight(\n",
    "            shape=(hidden_dim, hidden_dim), initializer=\"random_normal\", trainable=True\n",
    "        )\n",
    "        self.b_h = self.add_weight(shape=(hidden_dim,), initializer=\"zeros\", trainable=True)\n",
    "        self.w_i = self.add_weight(\n",
    "            shape=(input_dim, hidden_dim), initializer=\"random_normal\", trainable=True\n",
    "        )\n",
    "        self.b_i = self.add_weight(shape=(hidden_dim,), initializer=\"zeros\", trainable=True)\n",
    "    \n",
    "    def linear_hidden(self, h_t):\n",
    "        return h_t @ self.w_h + self.b_h\n",
    "    \n",
    "    def linear_input(self, x_t):\n",
    "        return x_t @ self.w_i + self.b_i\n",
    "    \n",
    "    def call(self, x):\n",
    "        n_timestamps = x.shape[1]\n",
    "        h = tf.zeros((1, self.hidden_dim))  # Initialize h to [0, ..., 0]\n",
    "        for t in range(n_timestamps):\n",
    "            h = tf.tanh(self.linear_hidden(h) + self.linear_input(x[:, t]))\n",
    "        return h"
   ]
  },
  {
   "cell_type": "code",
   "execution_count": 9,
   "metadata": {
    "cell_id": "44037a28a95f4b8995c08087aab84cad",
    "deepnote_cell_type": "code",
    "deepnote_to_be_reexecuted": false,
    "execution_millis": 1,
    "execution_start": 1643388909228,
    "source_hash": "c136c338",
    "tags": []
   },
   "outputs": [],
   "source": [
    "from tensorflow.keras.callbacks import Callback\n",
    "\n",
    "class CustomLogging(Callback):\n",
    "    def __init__(self, every_n_epochs=10):\n",
    "        super().__init__()\n",
    "        self.every_n_epochs = every_n_epochs\n",
    "\n",
    "    def on_epoch_end(self, epoch, logs=None):\n",
    "        if epoch % self.every_n_epochs == self.every_n_epochs - 1:\n",
    "            # accuracy = self.model.evaluate(*self.training_data)\n",
    "            print(f\"Training loss after epoch {epoch}: {logs['loss']}\")"
   ]
  },
  {
   "cell_type": "markdown",
   "metadata": {
    "cell_id": "22e3c8897c91438d93e01354657534f7",
    "deepnote_cell_type": "markdown",
    "tags": []
   },
   "source": [
    "**Question #8.** Implement a network made of a `CustomRecurrentUnit` followed by a fully-connected layer\n",
    "for the classification task introduced above.\n",
    "Evaluate this model both in terms of training loss and test-set accuracy (you can use the above callback to limit the amount of logging)."
   ]
  },
  {
   "cell_type": "code",
   "execution_count": 15,
   "metadata": {
    "cell_id": "b040773d7c16484e8a1ea1ab4a516996",
    "deepnote_cell_type": "code",
    "tags": []
   },
   "outputs": [
    {
     "name": "stdout",
     "output_type": "stream",
     "text": [
      "Epoch 1/100\n",
      "7/7 [==============================] - 7s 255ms/step - loss: 0.6969 - accuracy: 0.5000 - val_loss: 0.6910 - val_accuracy: 0.5000\n",
      "Epoch 2/100\n",
      "7/7 [==============================] - 0s 24ms/step - loss: 0.6867 - accuracy: 0.5700 - val_loss: 0.6330 - val_accuracy: 0.5000\n",
      "Epoch 3/100\n",
      "7/7 [==============================] - 0s 24ms/step - loss: 0.3939 - accuracy: 0.9250 - val_loss: 0.0841 - val_accuracy: 1.0000\n",
      "Epoch 4/100\n",
      "7/7 [==============================] - 0s 22ms/step - loss: 0.0462 - accuracy: 1.0000 - val_loss: 0.0128 - val_accuracy: 1.0000\n",
      "Epoch 5/100\n",
      "7/7 [==============================] - 0s 24ms/step - loss: 0.0089 - accuracy: 1.0000 - val_loss: 0.0039 - val_accuracy: 1.0000\n",
      "Epoch 6/100\n",
      "7/7 [==============================] - 0s 20ms/step - loss: 0.0028 - accuracy: 1.0000 - val_loss: 0.0019 - val_accuracy: 1.0000\n",
      "Epoch 7/100\n",
      "7/7 [==============================] - 0s 20ms/step - loss: 0.0016 - accuracy: 1.0000 - val_loss: 0.0013 - val_accuracy: 1.0000\n",
      "Epoch 8/100\n",
      "7/7 [==============================] - 0s 22ms/step - loss: 0.0011 - accuracy: 1.0000 - val_loss: 9.1810e-04 - val_accuracy: 1.0000\n",
      "Epoch 9/100\n",
      "7/7 [==============================] - 0s 20ms/step - loss: 8.3927e-04 - accuracy: 1.0000 - val_loss: 7.3970e-04 - val_accuracy: 1.0000\n",
      "Epoch 10/100\n",
      "7/7 [==============================] - 0s 27ms/step - loss: 7.0168e-04 - accuracy: 1.0000 - val_loss: 6.5076e-04 - val_accuracy: 1.0000\n",
      "Epoch 11/100\n",
      "7/7 [==============================] - 0s 30ms/step - loss: 6.2813e-04 - accuracy: 1.0000 - val_loss: 5.9433e-04 - val_accuracy: 1.0000\n",
      "Epoch 12/100\n",
      "7/7 [==============================] - 0s 25ms/step - loss: 5.7623e-04 - accuracy: 1.0000 - val_loss: 5.4790e-04 - val_accuracy: 1.0000\n",
      "Epoch 13/100\n",
      "7/7 [==============================] - 0s 22ms/step - loss: 5.3251e-04 - accuracy: 1.0000 - val_loss: 5.0877e-04 - val_accuracy: 1.0000\n",
      "Epoch 14/100\n",
      "7/7 [==============================] - 0s 21ms/step - loss: 4.9603e-04 - accuracy: 1.0000 - val_loss: 4.7623e-04 - val_accuracy: 1.0000\n",
      "Epoch 15/100\n",
      "7/7 [==============================] - 0s 28ms/step - loss: 4.6531e-04 - accuracy: 1.0000 - val_loss: 4.4800e-04 - val_accuracy: 1.0000\n",
      "Epoch 16/100\n",
      "7/7 [==============================] - 0s 32ms/step - loss: 4.3820e-04 - accuracy: 1.0000 - val_loss: 4.2253e-04 - val_accuracy: 1.0000\n",
      "Epoch 17/100\n",
      "7/7 [==============================] - 0s 27ms/step - loss: 4.1356e-04 - accuracy: 1.0000 - val_loss: 3.9921e-04 - val_accuracy: 1.0000\n",
      "Epoch 18/100\n",
      "7/7 [==============================] - 0s 30ms/step - loss: 3.9099e-04 - accuracy: 1.0000 - val_loss: 3.7782e-04 - val_accuracy: 1.0000\n",
      "Epoch 19/100\n",
      "7/7 [==============================] - 0s 31ms/step - loss: 3.7027e-04 - accuracy: 1.0000 - val_loss: 3.5816e-04 - val_accuracy: 1.0000\n",
      "Epoch 20/100\n",
      "7/7 [==============================] - 0s 31ms/step - loss: 3.5120e-04 - accuracy: 1.0000 - val_loss: 3.4001e-04 - val_accuracy: 1.0000\n",
      "Epoch 21/100\n",
      "7/7 [==============================] - 0s 24ms/step - loss: 3.3356e-04 - accuracy: 1.0000 - val_loss: 3.2320e-04 - val_accuracy: 1.0000\n",
      "Epoch 22/100\n",
      "7/7 [==============================] - 0s 20ms/step - loss: 3.1723e-04 - accuracy: 1.0000 - val_loss: 3.0762e-04 - val_accuracy: 1.0000\n",
      "Epoch 23/100\n",
      "7/7 [==============================] - 0s 39ms/step - loss: 3.0208e-04 - accuracy: 1.0000 - val_loss: 2.9315e-04 - val_accuracy: 1.0000\n",
      "Epoch 24/100\n",
      "7/7 [==============================] - 0s 27ms/step - loss: 2.8800e-04 - accuracy: 1.0000 - val_loss: 2.7969e-04 - val_accuracy: 1.0000\n",
      "Epoch 25/100\n",
      "7/7 [==============================] - 0s 30ms/step - loss: 2.7489e-04 - accuracy: 1.0000 - val_loss: 2.6716e-04 - val_accuracy: 1.0000\n",
      "Epoch 26/100\n",
      "7/7 [==============================] - 0s 26ms/step - loss: 2.6268e-04 - accuracy: 1.0000 - val_loss: 2.5546e-04 - val_accuracy: 1.0000\n",
      "Epoch 27/100\n",
      "7/7 [==============================] - 0s 35ms/step - loss: 2.5128e-04 - accuracy: 1.0000 - val_loss: 2.4454e-04 - val_accuracy: 1.0000\n",
      "Epoch 28/100\n",
      "7/7 [==============================] - 0s 23ms/step - loss: 2.4063e-04 - accuracy: 1.0000 - val_loss: 2.3432e-04 - val_accuracy: 1.0000\n",
      "Epoch 29/100\n",
      "7/7 [==============================] - 0s 20ms/step - loss: 2.3066e-04 - accuracy: 1.0000 - val_loss: 2.2475e-04 - val_accuracy: 1.0000\n",
      "Epoch 30/100\n",
      "7/7 [==============================] - 0s 22ms/step - loss: 2.2131e-04 - accuracy: 1.0000 - val_loss: 2.1577e-04 - val_accuracy: 1.0000\n",
      "Epoch 31/100\n",
      "7/7 [==============================] - 0s 24ms/step - loss: 2.1255e-04 - accuracy: 1.0000 - val_loss: 2.0734e-04 - val_accuracy: 1.0000\n",
      "Epoch 32/100\n",
      "7/7 [==============================] - 0s 26ms/step - loss: 2.0431e-04 - accuracy: 1.0000 - val_loss: 1.9941e-04 - val_accuracy: 1.0000\n",
      "Epoch 33/100\n",
      "7/7 [==============================] - 0s 21ms/step - loss: 1.9656e-04 - accuracy: 1.0000 - val_loss: 1.9195e-04 - val_accuracy: 1.0000\n",
      "Epoch 34/100\n",
      "7/7 [==============================] - 0s 26ms/step - loss: 1.8927e-04 - accuracy: 1.0000 - val_loss: 1.8492e-04 - val_accuracy: 1.0000\n",
      "Epoch 35/100\n",
      "7/7 [==============================] - 0s 21ms/step - loss: 1.8238e-04 - accuracy: 1.0000 - val_loss: 1.7828e-04 - val_accuracy: 1.0000\n",
      "Epoch 36/100\n",
      "7/7 [==============================] - 0s 22ms/step - loss: 1.7589e-04 - accuracy: 1.0000 - val_loss: 1.7201e-04 - val_accuracy: 1.0000\n",
      "Epoch 37/100\n",
      "7/7 [==============================] - 0s 20ms/step - loss: 1.6974e-04 - accuracy: 1.0000 - val_loss: 1.6608e-04 - val_accuracy: 1.0000\n",
      "Epoch 38/100\n",
      "7/7 [==============================] - 0s 23ms/step - loss: 1.6394e-04 - accuracy: 1.0000 - val_loss: 1.6046e-04 - val_accuracy: 1.0000\n",
      "Epoch 39/100\n",
      "7/7 [==============================] - 0s 22ms/step - loss: 1.5843e-04 - accuracy: 1.0000 - val_loss: 1.5514e-04 - val_accuracy: 1.0000\n",
      "Epoch 40/100\n",
      "7/7 [==============================] - 0s 19ms/step - loss: 1.5321e-04 - accuracy: 1.0000 - val_loss: 1.5009e-04 - val_accuracy: 1.0000\n",
      "Epoch 41/100\n",
      "7/7 [==============================] - 0s 25ms/step - loss: 1.4826e-04 - accuracy: 1.0000 - val_loss: 1.4529e-04 - val_accuracy: 1.0000\n",
      "Epoch 42/100\n",
      "7/7 [==============================] - 0s 21ms/step - loss: 1.4356e-04 - accuracy: 1.0000 - val_loss: 1.4074e-04 - val_accuracy: 1.0000\n",
      "Epoch 43/100\n",
      "7/7 [==============================] - 0s 17ms/step - loss: 1.3908e-04 - accuracy: 1.0000 - val_loss: 1.3640e-04 - val_accuracy: 1.0000\n",
      "Epoch 44/100\n",
      "7/7 [==============================] - 0s 20ms/step - loss: 1.3483e-04 - accuracy: 1.0000 - val_loss: 1.3227e-04 - val_accuracy: 1.0000\n",
      "Epoch 45/100\n",
      "7/7 [==============================] - 0s 18ms/step - loss: 1.3077e-04 - accuracy: 1.0000 - val_loss: 1.2834e-04 - val_accuracy: 1.0000\n",
      "Epoch 46/100\n",
      "7/7 [==============================] - 0s 24ms/step - loss: 1.2691e-04 - accuracy: 1.0000 - val_loss: 1.2459e-04 - val_accuracy: 1.0000\n",
      "Epoch 47/100\n",
      "7/7 [==============================] - 0s 20ms/step - loss: 1.2322e-04 - accuracy: 1.0000 - val_loss: 1.2101e-04 - val_accuracy: 1.0000\n",
      "Epoch 48/100\n",
      "7/7 [==============================] - 0s 17ms/step - loss: 1.1971e-04 - accuracy: 1.0000 - val_loss: 1.1759e-04 - val_accuracy: 1.0000\n",
      "Epoch 49/100\n",
      "7/7 [==============================] - 0s 21ms/step - loss: 1.1634e-04 - accuracy: 1.0000 - val_loss: 1.1432e-04 - val_accuracy: 1.0000\n",
      "Epoch 50/100\n",
      "7/7 [==============================] - 0s 22ms/step - loss: 1.1313e-04 - accuracy: 1.0000 - val_loss: 1.1119e-04 - val_accuracy: 1.0000\n",
      "Epoch 51/100\n",
      "7/7 [==============================] - 0s 20ms/step - loss: 1.1005e-04 - accuracy: 1.0000 - val_loss: 1.0820e-04 - val_accuracy: 1.0000\n",
      "Epoch 52/100\n",
      "7/7 [==============================] - 0s 20ms/step - loss: 1.0710e-04 - accuracy: 1.0000 - val_loss: 1.0533e-04 - val_accuracy: 1.0000\n",
      "Epoch 53/100\n",
      "7/7 [==============================] - 0s 19ms/step - loss: 1.0428e-04 - accuracy: 1.0000 - val_loss: 1.0258e-04 - val_accuracy: 1.0000\n",
      "Epoch 54/100\n",
      "7/7 [==============================] - 0s 23ms/step - loss: 1.0157e-04 - accuracy: 1.0000 - val_loss: 9.9937e-05 - val_accuracy: 1.0000\n",
      "Epoch 55/100\n",
      "7/7 [==============================] - 0s 25ms/step - loss: 9.8973e-05 - accuracy: 1.0000 - val_loss: 9.7405e-05 - val_accuracy: 1.0000\n",
      "Epoch 56/100\n",
      "7/7 [==============================] - 0s 31ms/step - loss: 9.6480e-05 - accuracy: 1.0000 - val_loss: 9.4972e-05 - val_accuracy: 1.0000\n",
      "Epoch 57/100\n",
      "7/7 [==============================] - 0s 27ms/step - loss: 9.4084e-05 - accuracy: 1.0000 - val_loss: 9.2636e-05 - val_accuracy: 1.0000\n",
      "Epoch 58/100\n",
      "7/7 [==============================] - 0s 26ms/step - loss: 9.1781e-05 - accuracy: 1.0000 - val_loss: 9.0388e-05 - val_accuracy: 1.0000\n",
      "Epoch 59/100\n",
      "7/7 [==============================] - 0s 26ms/step - loss: 8.9566e-05 - accuracy: 1.0000 - val_loss: 8.8226e-05 - val_accuracy: 1.0000\n",
      "Epoch 60/100\n",
      "7/7 [==============================] - 0s 30ms/step - loss: 8.7434e-05 - accuracy: 1.0000 - val_loss: 8.6145e-05 - val_accuracy: 1.0000\n",
      "Epoch 61/100\n",
      "7/7 [==============================] - 0s 28ms/step - loss: 8.5382e-05 - accuracy: 1.0000 - val_loss: 8.4140e-05 - val_accuracy: 1.0000\n",
      "Epoch 62/100\n",
      "7/7 [==============================] - 0s 37ms/step - loss: 8.3406e-05 - accuracy: 1.0000 - val_loss: 8.2208e-05 - val_accuracy: 1.0000\n",
      "Epoch 63/100\n",
      "7/7 [==============================] - 0s 23ms/step - loss: 8.1499e-05 - accuracy: 1.0000 - val_loss: 8.0345e-05 - val_accuracy: 1.0000\n",
      "Epoch 64/100\n",
      "7/7 [==============================] - 0s 20ms/step - loss: 7.9662e-05 - accuracy: 1.0000 - val_loss: 7.8548e-05 - val_accuracy: 1.0000\n",
      "Epoch 65/100\n",
      "7/7 [==============================] - 0s 56ms/step - loss: 7.7889e-05 - accuracy: 1.0000 - val_loss: 7.6814e-05 - val_accuracy: 1.0000\n",
      "Epoch 66/100\n",
      "7/7 [==============================] - 0s 25ms/step - loss: 7.6178e-05 - accuracy: 1.0000 - val_loss: 7.5140e-05 - val_accuracy: 1.0000\n",
      "Epoch 67/100\n",
      "7/7 [==============================] - 0s 25ms/step - loss: 7.4525e-05 - accuracy: 1.0000 - val_loss: 7.3522e-05 - val_accuracy: 1.0000\n",
      "Epoch 68/100\n",
      "7/7 [==============================] - 0s 22ms/step - loss: 7.2928e-05 - accuracy: 1.0000 - val_loss: 7.1960e-05 - val_accuracy: 1.0000\n",
      "Epoch 69/100\n",
      "7/7 [==============================] - 0s 19ms/step - loss: 7.1385e-05 - accuracy: 1.0000 - val_loss: 7.0448e-05 - val_accuracy: 1.0000\n",
      "Epoch 70/100\n",
      "7/7 [==============================] - 0s 24ms/step - loss: 6.9894e-05 - accuracy: 1.0000 - val_loss: 6.8986e-05 - val_accuracy: 1.0000\n",
      "Epoch 71/100\n",
      "7/7 [==============================] - 0s 25ms/step - loss: 6.8449e-05 - accuracy: 1.0000 - val_loss: 6.7572e-05 - val_accuracy: 1.0000\n",
      "Epoch 72/100\n",
      "7/7 [==============================] - 0s 19ms/step - loss: 6.7052e-05 - accuracy: 1.0000 - val_loss: 6.6203e-05 - val_accuracy: 1.0000\n",
      "Epoch 73/100\n",
      "7/7 [==============================] - 0s 22ms/step - loss: 6.5699e-05 - accuracy: 1.0000 - val_loss: 6.4877e-05 - val_accuracy: 1.0000\n",
      "Epoch 74/100\n",
      "7/7 [==============================] - 0s 23ms/step - loss: 6.4389e-05 - accuracy: 1.0000 - val_loss: 6.3592e-05 - val_accuracy: 1.0000\n",
      "Epoch 75/100\n",
      "7/7 [==============================] - 0s 32ms/step - loss: 6.3119e-05 - accuracy: 1.0000 - val_loss: 6.2348e-05 - val_accuracy: 1.0000\n",
      "Epoch 76/100\n",
      "7/7 [==============================] - 0s 48ms/step - loss: 6.1890e-05 - accuracy: 1.0000 - val_loss: 6.1141e-05 - val_accuracy: 1.0000\n",
      "Epoch 77/100\n",
      "7/7 [==============================] - 0s 46ms/step - loss: 6.0696e-05 - accuracy: 1.0000 - val_loss: 5.9971e-05 - val_accuracy: 1.0000\n",
      "Epoch 78/100\n",
      "7/7 [==============================] - 0s 27ms/step - loss: 5.9540e-05 - accuracy: 1.0000 - val_loss: 5.8836e-05 - val_accuracy: 1.0000\n",
      "Epoch 79/100\n",
      "7/7 [==============================] - 0s 21ms/step - loss: 5.8417e-05 - accuracy: 1.0000 - val_loss: 5.7734e-05 - val_accuracy: 1.0000\n",
      "Epoch 80/100\n",
      "7/7 [==============================] - 0s 19ms/step - loss: 5.7328e-05 - accuracy: 1.0000 - val_loss: 5.6664e-05 - val_accuracy: 1.0000\n",
      "Epoch 81/100\n",
      "7/7 [==============================] - 0s 26ms/step - loss: 5.6270e-05 - accuracy: 1.0000 - val_loss: 5.5625e-05 - val_accuracy: 1.0000\n",
      "Epoch 82/100\n",
      "7/7 [==============================] - 0s 24ms/step - loss: 5.5242e-05 - accuracy: 1.0000 - val_loss: 5.4616e-05 - val_accuracy: 1.0000\n",
      "Epoch 83/100\n",
      "7/7 [==============================] - 0s 31ms/step - loss: 5.4243e-05 - accuracy: 1.0000 - val_loss: 5.3635e-05 - val_accuracy: 1.0000\n",
      "Epoch 84/100\n",
      "7/7 [==============================] - 0s 23ms/step - loss: 5.3273e-05 - accuracy: 1.0000 - val_loss: 5.2682e-05 - val_accuracy: 1.0000\n",
      "Epoch 85/100\n",
      "7/7 [==============================] - 0s 21ms/step - loss: 5.2330e-05 - accuracy: 1.0000 - val_loss: 5.1755e-05 - val_accuracy: 1.0000\n",
      "Epoch 86/100\n",
      "7/7 [==============================] - 0s 18ms/step - loss: 5.1413e-05 - accuracy: 1.0000 - val_loss: 5.0853e-05 - val_accuracy: 1.0000\n",
      "Epoch 87/100\n",
      "7/7 [==============================] - 0s 21ms/step - loss: 5.0520e-05 - accuracy: 1.0000 - val_loss: 4.9976e-05 - val_accuracy: 1.0000\n",
      "Epoch 88/100\n",
      "7/7 [==============================] - 0s 30ms/step - loss: 4.9652e-05 - accuracy: 1.0000 - val_loss: 4.9121e-05 - val_accuracy: 1.0000\n",
      "Epoch 89/100\n",
      "7/7 [==============================] - 0s 20ms/step - loss: 4.8806e-05 - accuracy: 1.0000 - val_loss: 4.8290e-05 - val_accuracy: 1.0000\n",
      "Epoch 90/100\n",
      "7/7 [==============================] - 0s 20ms/step - loss: 4.7983e-05 - accuracy: 1.0000 - val_loss: 4.7481e-05 - val_accuracy: 1.0000\n",
      "Epoch 91/100\n",
      "7/7 [==============================] - 0s 21ms/step - loss: 4.7182e-05 - accuracy: 1.0000 - val_loss: 4.6692e-05 - val_accuracy: 1.0000\n",
      "Epoch 92/100\n",
      "7/7 [==============================] - 0s 19ms/step - loss: 4.6401e-05 - accuracy: 1.0000 - val_loss: 4.5924e-05 - val_accuracy: 1.0000\n",
      "Epoch 93/100\n",
      "7/7 [==============================] - 0s 19ms/step - loss: 4.5641e-05 - accuracy: 1.0000 - val_loss: 4.5176e-05 - val_accuracy: 1.0000\n",
      "Epoch 94/100\n",
      "7/7 [==============================] - 0s 22ms/step - loss: 4.4899e-05 - accuracy: 1.0000 - val_loss: 4.4446e-05 - val_accuracy: 1.0000\n",
      "Epoch 95/100\n",
      "7/7 [==============================] - 0s 24ms/step - loss: 4.4176e-05 - accuracy: 1.0000 - val_loss: 4.3735e-05 - val_accuracy: 1.0000\n",
      "Epoch 96/100\n",
      "7/7 [==============================] - 0s 22ms/step - loss: 4.3472e-05 - accuracy: 1.0000 - val_loss: 4.3042e-05 - val_accuracy: 1.0000\n",
      "Epoch 97/100\n",
      "7/7 [==============================] - 0s 22ms/step - loss: 4.2785e-05 - accuracy: 1.0000 - val_loss: 4.2365e-05 - val_accuracy: 1.0000\n",
      "Epoch 98/100\n",
      "7/7 [==============================] - 0s 21ms/step - loss: 4.2114e-05 - accuracy: 1.0000 - val_loss: 4.1704e-05 - val_accuracy: 1.0000\n",
      "Epoch 99/100\n",
      "7/7 [==============================] - 0s 20ms/step - loss: 4.1460e-05 - accuracy: 1.0000 - val_loss: 4.1060e-05 - val_accuracy: 1.0000\n",
      "Epoch 100/100\n",
      "7/7 [==============================] - 0s 22ms/step - loss: 4.0822e-05 - accuracy: 1.0000 - val_loss: 4.0431e-05 - val_accuracy: 1.0000\n"
     ]
    }
   ],
   "source": [
    "X, y = make_sines(100, 50, length_padding=5)\n",
    "X_test, y_test = make_sines(100, 50, length_padding=5)\n",
    "\n",
    "model = Sequential([\n",
    "    CustomRecurrentUnit(input_dim=1, hidden_dim=100),\n",
    "    Dense(units=1, activation=\"sigmoid\")\n",
    "])\n",
    "model.compile(loss=\"binary_crossentropy\", optimizer=\"adam\", metrics=[\"accuracy\"])\n",
    "h = model.fit(X, y, validation_data=(X_test, y_test), epochs=100)"
   ]
  },
  {
   "cell_type": "code",
   "execution_count": 14,
   "metadata": {},
   "outputs": [
    {
     "data": {
      "image/png": "[encoded data removed]",
      "text/plain": [
       "<Figure size 640x480 with 1 Axes>"
      ]
     },
     "metadata": {},
     "output_type": "display_data"
    }
   ],
   "source": [
    "plt.figure()\n",
    "colors = [\"r\", \"b\"]\n",
    "for ts, yi in zip(X, y):\n",
    "    plt.plot(ts.ravel(), color=colors[yi])\n",
    "plt.show()"
   ]
  },
  {
   "cell_type": "markdown",
   "metadata": {
    "cell_id": "592d8ae6887f4bb9a7639bea3dfa6280",
    "deepnote_cell_type": "markdown",
    "tags": []
   },
   "source": [
    "**Question #9.** Update your dataset so that it includes a final padding of 15 timestamps (_cf._ signature of the `make_sines` function)\n",
    "and see how it impacts performance of your model."
   ]
  },
  {
   "cell_type": "code",
   "execution_count": 17,
   "metadata": {
    "cell_id": "64253c69ae52450d913535407c8f0dc2",
    "deepnote_cell_type": "code",
    "tags": []
   },
   "outputs": [
    {
     "name": "stdout",
     "output_type": "stream",
     "text": [
      "Epoch 1/100\n",
      "7/7 [==============================] - 9s 217ms/step - loss: 0.6961 - accuracy: 0.5000 - val_loss: 0.6934 - val_accuracy: 0.5000\n",
      "Epoch 2/100\n",
      "7/7 [==============================] - 0s 27ms/step - loss: 0.6937 - accuracy: 0.5000 - val_loss: 0.6933 - val_accuracy: 0.5000\n",
      "Epoch 3/100\n",
      "7/7 [==============================] - 0s 25ms/step - loss: 0.6934 - accuracy: 0.5000 - val_loss: 0.6933 - val_accuracy: 0.5000\n",
      "Epoch 4/100\n",
      "7/7 [==============================] - 0s 24ms/step - loss: 0.6933 - accuracy: 0.5000 - val_loss: 0.6933 - val_accuracy: 0.5000\n",
      "Epoch 5/100\n",
      "7/7 [==============================] - 0s 28ms/step - loss: 0.6936 - accuracy: 0.5000 - val_loss: 0.6932 - val_accuracy: 0.5000\n",
      "Epoch 6/100\n",
      "7/7 [==============================] - 0s 30ms/step - loss: 0.6933 - accuracy: 0.5000 - val_loss: 0.6932 - val_accuracy: 0.5000\n",
      "Epoch 7/100\n",
      "7/7 [==============================] - 0s 25ms/step - loss: 0.6936 - accuracy: 0.5000 - val_loss: 0.6933 - val_accuracy: 0.5000\n",
      "Epoch 8/100\n",
      "7/7 [==============================] - 0s 31ms/step - loss: 0.6935 - accuracy: 0.5000 - val_loss: 0.6934 - val_accuracy: 0.5000\n",
      "Epoch 9/100\n",
      "7/7 [==============================] - 0s 26ms/step - loss: 0.6938 - accuracy: 0.5000 - val_loss: 0.6934 - val_accuracy: 0.5000\n",
      "Epoch 10/100\n",
      "7/7 [==============================] - 0s 26ms/step - loss: 0.6933 - accuracy: 0.5000 - val_loss: 0.6932 - val_accuracy: 0.5000\n",
      "Epoch 11/100\n",
      "7/7 [==============================] - 0s 32ms/step - loss: 0.6931 - accuracy: 0.5000 - val_loss: 0.6931 - val_accuracy: 0.5000\n",
      "Epoch 12/100\n",
      "7/7 [==============================] - 0s 25ms/step - loss: 0.6937 - accuracy: 0.4500 - val_loss: 0.6932 - val_accuracy: 0.5000\n",
      "Epoch 13/100\n",
      "7/7 [==============================] - 0s 25ms/step - loss: 0.6935 - accuracy: 0.5000 - val_loss: 0.6932 - val_accuracy: 0.5000\n",
      "Epoch 14/100\n",
      "7/7 [==============================] - 0s 26ms/step - loss: 0.6933 - accuracy: 0.5000 - val_loss: 0.6932 - val_accuracy: 0.5000\n",
      "Epoch 15/100\n",
      "7/7 [==============================] - 0s 24ms/step - loss: 0.6932 - accuracy: 0.5000 - val_loss: 0.6932 - val_accuracy: 0.5000\n",
      "Epoch 16/100\n",
      "7/7 [==============================] - 0s 23ms/step - loss: 0.6932 - accuracy: 0.5000 - val_loss: 0.6932 - val_accuracy: 0.5000\n",
      "Epoch 17/100\n",
      "7/7 [==============================] - 0s 24ms/step - loss: 0.6930 - accuracy: 0.5200 - val_loss: 0.6932 - val_accuracy: 0.5000\n",
      "Epoch 18/100\n",
      "7/7 [==============================] - 0s 26ms/step - loss: 0.6934 - accuracy: 0.5000 - val_loss: 0.6932 - val_accuracy: 0.5000\n",
      "Epoch 19/100\n",
      "7/7 [==============================] - 0s 45ms/step - loss: 0.6936 - accuracy: 0.4300 - val_loss: 0.6931 - val_accuracy: 0.5000\n",
      "Epoch 20/100\n",
      "7/7 [==============================] - 0s 34ms/step - loss: 0.6933 - accuracy: 0.4300 - val_loss: 0.6931 - val_accuracy: 0.5000\n",
      "Epoch 21/100\n",
      "7/7 [==============================] - 0s 36ms/step - loss: 0.6936 - accuracy: 0.4800 - val_loss: 0.6932 - val_accuracy: 0.5000\n",
      "Epoch 22/100\n",
      "7/7 [==============================] - 0s 31ms/step - loss: 0.6931 - accuracy: 0.5000 - val_loss: 0.6931 - val_accuracy: 0.5000\n",
      "Epoch 23/100\n",
      "7/7 [==============================] - 0s 26ms/step - loss: 0.6932 - accuracy: 0.5000 - val_loss: 0.6932 - val_accuracy: 0.5000\n",
      "Epoch 24/100\n",
      "7/7 [==============================] - 0s 22ms/step - loss: 0.6933 - accuracy: 0.5000 - val_loss: 0.6932 - val_accuracy: 0.5000\n",
      "Epoch 25/100\n",
      "7/7 [==============================] - 0s 32ms/step - loss: 0.6935 - accuracy: 0.5000 - val_loss: 0.6932 - val_accuracy: 0.5000\n",
      "Epoch 26/100\n",
      "7/7 [==============================] - 0s 27ms/step - loss: 0.6933 - accuracy: 0.5000 - val_loss: 0.6932 - val_accuracy: 0.5000\n",
      "Epoch 27/100\n",
      "7/7 [==============================] - 0s 25ms/step - loss: 0.6933 - accuracy: 0.5000 - val_loss: 0.6932 - val_accuracy: 0.5000\n",
      "Epoch 28/100\n",
      "7/7 [==============================] - 0s 30ms/step - loss: 0.6936 - accuracy: 0.4800 - val_loss: 0.6932 - val_accuracy: 0.5000\n",
      "Epoch 29/100\n",
      "7/7 [==============================] - 0s 27ms/step - loss: 0.6934 - accuracy: 0.5000 - val_loss: 0.6932 - val_accuracy: 0.5000\n",
      "Epoch 30/100\n",
      "7/7 [==============================] - 0s 32ms/step - loss: 0.6932 - accuracy: 0.5000 - val_loss: 0.6932 - val_accuracy: 0.5000\n",
      "Epoch 31/100\n",
      "7/7 [==============================] - 0s 26ms/step - loss: 0.6933 - accuracy: 0.5000 - val_loss: 0.6932 - val_accuracy: 0.5000\n",
      "Epoch 32/100\n",
      "7/7 [==============================] - 0s 40ms/step - loss: 0.6932 - accuracy: 0.5000 - val_loss: 0.6932 - val_accuracy: 0.5000\n",
      "Epoch 33/100\n",
      "7/7 [==============================] - 0s 25ms/step - loss: 0.6933 - accuracy: 0.5000 - val_loss: 0.6932 - val_accuracy: 0.5000\n",
      "Epoch 34/100\n",
      "7/7 [==============================] - 0s 34ms/step - loss: 0.6933 - accuracy: 0.5000 - val_loss: 0.6932 - val_accuracy: 0.5000\n",
      "Epoch 35/100\n",
      "7/7 [==============================] - 0s 28ms/step - loss: 0.6932 - accuracy: 0.5000 - val_loss: 0.6932 - val_accuracy: 0.5000\n",
      "Epoch 36/100\n",
      "7/7 [==============================] - 0s 31ms/step - loss: 0.6934 - accuracy: 0.5000 - val_loss: 0.6931 - val_accuracy: 0.5000\n",
      "Epoch 37/100\n",
      "7/7 [==============================] - 0s 27ms/step - loss: 0.6932 - accuracy: 0.4700 - val_loss: 0.6931 - val_accuracy: 0.5000\n",
      "Epoch 38/100\n",
      "7/7 [==============================] - 0s 27ms/step - loss: 0.6932 - accuracy: 0.5000 - val_loss: 0.6932 - val_accuracy: 0.5000\n",
      "Epoch 39/100\n",
      "7/7 [==============================] - 0s 33ms/step - loss: 0.6933 - accuracy: 0.5000 - val_loss: 0.6932 - val_accuracy: 0.5000\n",
      "Epoch 40/100\n",
      "7/7 [==============================] - 0s 28ms/step - loss: 0.6932 - accuracy: 0.5000 - val_loss: 0.6932 - val_accuracy: 0.5000\n",
      "Epoch 41/100\n",
      "7/7 [==============================] - 0s 37ms/step - loss: 0.6932 - accuracy: 0.5000 - val_loss: 0.6932 - val_accuracy: 0.5000\n",
      "Epoch 42/100\n",
      "7/7 [==============================] - 0s 25ms/step - loss: 0.6932 - accuracy: 0.5000 - val_loss: 0.6932 - val_accuracy: 0.5000\n",
      "Epoch 43/100\n",
      "7/7 [==============================] - 0s 27ms/step - loss: 0.6934 - accuracy: 0.5000 - val_loss: 0.6932 - val_accuracy: 0.5000\n",
      "Epoch 44/100\n",
      "7/7 [==============================] - 0s 29ms/step - loss: 0.6933 - accuracy: 0.5000 - val_loss: 0.6932 - val_accuracy: 0.5000\n",
      "Epoch 45/100\n",
      "7/7 [==============================] - 0s 22ms/step - loss: 0.6934 - accuracy: 0.5000 - val_loss: 0.6931 - val_accuracy: 0.5000\n",
      "Epoch 46/100\n",
      "7/7 [==============================] - 0s 31ms/step - loss: 0.6934 - accuracy: 0.5000 - val_loss: 0.6932 - val_accuracy: 0.5000\n",
      "Epoch 47/100\n",
      "7/7 [==============================] - 0s 29ms/step - loss: 0.6932 - accuracy: 0.5000 - val_loss: 0.6932 - val_accuracy: 0.5000\n",
      "Epoch 48/100\n",
      "7/7 [==============================] - 0s 25ms/step - loss: 0.6932 - accuracy: 0.5000 - val_loss: 0.6931 - val_accuracy: 0.5000\n",
      "Epoch 49/100\n",
      "7/7 [==============================] - 0s 22ms/step - loss: 0.6931 - accuracy: 0.5100 - val_loss: 0.6932 - val_accuracy: 0.5000\n",
      "Epoch 50/100\n",
      "7/7 [==============================] - 0s 23ms/step - loss: 0.6932 - accuracy: 0.5000 - val_loss: 0.6932 - val_accuracy: 0.5000\n",
      "Epoch 51/100\n",
      "7/7 [==============================] - 0s 24ms/step - loss: 0.6932 - accuracy: 0.5000 - val_loss: 0.6932 - val_accuracy: 0.5000\n",
      "Epoch 52/100\n",
      "7/7 [==============================] - 0s 24ms/step - loss: 0.6932 - accuracy: 0.5000 - val_loss: 0.6933 - val_accuracy: 0.5000\n",
      "Epoch 53/100\n",
      "7/7 [==============================] - 0s 31ms/step - loss: 0.6939 - accuracy: 0.5000 - val_loss: 0.6934 - val_accuracy: 0.5000\n",
      "Epoch 54/100\n",
      "7/7 [==============================] - 0s 25ms/step - loss: 0.6933 - accuracy: 0.5000 - val_loss: 0.6932 - val_accuracy: 0.5000\n",
      "Epoch 55/100\n",
      "7/7 [==============================] - 0s 23ms/step - loss: 0.6931 - accuracy: 0.5000 - val_loss: 0.6932 - val_accuracy: 0.5000\n",
      "Epoch 56/100\n",
      "7/7 [==============================] - 0s 31ms/step - loss: 0.6931 - accuracy: 0.5000 - val_loss: 0.6931 - val_accuracy: 0.5000\n",
      "Epoch 57/100\n",
      "7/7 [==============================] - 0s 32ms/step - loss: 0.6932 - accuracy: 0.5000 - val_loss: 0.6932 - val_accuracy: 0.5000\n",
      "Epoch 58/100\n",
      "7/7 [==============================] - 0s 33ms/step - loss: 0.6932 - accuracy: 0.5000 - val_loss: 0.6932 - val_accuracy: 0.5000\n",
      "Epoch 59/100\n",
      "7/7 [==============================] - 0s 47ms/step - loss: 0.6933 - accuracy: 0.5000 - val_loss: 0.6931 - val_accuracy: 0.5000\n",
      "Epoch 60/100\n",
      "7/7 [==============================] - 0s 22ms/step - loss: 0.6933 - accuracy: 0.5000 - val_loss: 0.6931 - val_accuracy: 0.5000\n",
      "Epoch 61/100\n",
      "7/7 [==============================] - 0s 24ms/step - loss: 0.7829 - accuracy: 0.5000 - val_loss: 0.6931 - val_accuracy: 0.5000\n",
      "Epoch 62/100\n",
      "7/7 [==============================] - 0s 25ms/step - loss: 0.6932 - accuracy: 0.5000 - val_loss: 0.6943 - val_accuracy: 0.5000\n",
      "Epoch 63/100\n",
      "7/7 [==============================] - 0s 25ms/step - loss: 0.6949 - accuracy: 0.5000 - val_loss: 0.6959 - val_accuracy: 0.5000\n",
      "Epoch 64/100\n",
      "7/7 [==============================] - 0s 29ms/step - loss: 0.6959 - accuracy: 0.5000 - val_loss: 0.6952 - val_accuracy: 0.5000\n",
      "Epoch 65/100\n",
      "7/7 [==============================] - 0s 23ms/step - loss: 0.6949 - accuracy: 0.5000 - val_loss: 0.6946 - val_accuracy: 0.5000\n",
      "Epoch 66/100\n",
      "7/7 [==============================] - 0s 25ms/step - loss: 0.6943 - accuracy: 0.5000 - val_loss: 0.6936 - val_accuracy: 0.5000\n",
      "Epoch 67/100\n",
      "7/7 [==============================] - 0s 25ms/step - loss: 0.6934 - accuracy: 0.5000 - val_loss: 0.6932 - val_accuracy: 0.5000\n",
      "Epoch 68/100\n",
      "7/7 [==============================] - 0s 34ms/step - loss: 0.6933 - accuracy: 0.5000 - val_loss: 0.6931 - val_accuracy: 0.5000\n",
      "Epoch 69/100\n",
      "7/7 [==============================] - 0s 30ms/step - loss: 0.6932 - accuracy: 0.5000 - val_loss: 0.6931 - val_accuracy: 0.5000\n",
      "Epoch 70/100\n",
      "7/7 [==============================] - 0s 25ms/step - loss: 0.6932 - accuracy: 0.5000 - val_loss: 0.6932 - val_accuracy: 0.5000\n",
      "Epoch 71/100\n",
      "7/7 [==============================] - 0s 30ms/step - loss: 0.6932 - accuracy: 0.5000 - val_loss: 0.6932 - val_accuracy: 0.5000\n",
      "Epoch 72/100\n",
      "7/7 [==============================] - 0s 25ms/step - loss: 0.6932 - accuracy: 0.5000 - val_loss: 0.6932 - val_accuracy: 0.5000\n",
      "Epoch 73/100\n",
      "7/7 [==============================] - 0s 31ms/step - loss: 0.6932 - accuracy: 0.5000 - val_loss: 0.6932 - val_accuracy: 0.5000\n",
      "Epoch 74/100\n",
      "7/7 [==============================] - 0s 31ms/step - loss: 0.6933 - accuracy: 0.5000 - val_loss: 0.6933 - val_accuracy: 0.5000\n",
      "Epoch 75/100\n",
      "7/7 [==============================] - 0s 24ms/step - loss: 0.6939 - accuracy: 0.5000 - val_loss: 0.6934 - val_accuracy: 0.5000\n",
      "Epoch 76/100\n",
      "7/7 [==============================] - 0s 22ms/step - loss: 0.6934 - accuracy: 0.5000 - val_loss: 0.6934 - val_accuracy: 0.5000\n",
      "Epoch 77/100\n",
      "7/7 [==============================] - 0s 25ms/step - loss: 0.6933 - accuracy: 0.5000 - val_loss: 0.6932 - val_accuracy: 0.5000\n",
      "Epoch 78/100\n",
      "7/7 [==============================] - 0s 23ms/step - loss: 0.6932 - accuracy: 0.5000 - val_loss: 0.6932 - val_accuracy: 0.5000\n",
      "Epoch 79/100\n",
      "7/7 [==============================] - 0s 30ms/step - loss: 0.6934 - accuracy: 0.5000 - val_loss: 0.6932 - val_accuracy: 0.5000\n",
      "Epoch 80/100\n",
      "7/7 [==============================] - 0s 29ms/step - loss: 0.6933 - accuracy: 0.5000 - val_loss: 0.6932 - val_accuracy: 0.5000\n",
      "Epoch 81/100\n",
      "7/7 [==============================] - 0s 30ms/step - loss: 0.6933 - accuracy: 0.5000 - val_loss: 0.6932 - val_accuracy: 0.5000\n",
      "Epoch 82/100\n",
      "7/7 [==============================] - 0s 29ms/step - loss: 0.6932 - accuracy: 0.5000 - val_loss: 0.6932 - val_accuracy: 0.5000\n",
      "Epoch 83/100\n",
      "7/7 [==============================] - 0s 24ms/step - loss: 0.6932 - accuracy: 0.5000 - val_loss: 0.6932 - val_accuracy: 0.5000\n",
      "Epoch 84/100\n",
      "7/7 [==============================] - 0s 26ms/step - loss: 0.6932 - accuracy: 0.5000 - val_loss: 0.6932 - val_accuracy: 0.5000\n",
      "Epoch 85/100\n",
      "7/7 [==============================] - 0s 30ms/step - loss: 0.6931 - accuracy: 0.5000 - val_loss: 0.6931 - val_accuracy: 0.5000\n",
      "Epoch 86/100\n",
      "7/7 [==============================] - 0s 29ms/step - loss: 0.6932 - accuracy: 0.5000 - val_loss: 0.6932 - val_accuracy: 0.5000\n",
      "Epoch 87/100\n",
      "7/7 [==============================] - 0s 26ms/step - loss: 0.6932 - accuracy: 0.5000 - val_loss: 0.6932 - val_accuracy: 0.5000\n",
      "Epoch 88/100\n",
      "7/7 [==============================] - 0s 30ms/step - loss: 0.6933 - accuracy: 0.5000 - val_loss: 0.6932 - val_accuracy: 0.5000\n",
      "Epoch 89/100\n",
      "7/7 [==============================] - 0s 25ms/step - loss: 0.6934 - accuracy: 0.5000 - val_loss: 0.6932 - val_accuracy: 0.5000\n",
      "Epoch 90/100\n",
      "7/7 [==============================] - 0s 24ms/step - loss: 0.6932 - accuracy: 0.5000 - val_loss: 0.6932 - val_accuracy: 0.5000\n",
      "Epoch 91/100\n",
      "7/7 [==============================] - 0s 26ms/step - loss: 0.6932 - accuracy: 0.5000 - val_loss: 0.6932 - val_accuracy: 0.5000\n",
      "Epoch 92/100\n",
      "7/7 [==============================] - 0s 30ms/step - loss: 0.6933 - accuracy: 0.5000 - val_loss: 0.6933 - val_accuracy: 0.5000\n",
      "Epoch 93/100\n",
      "7/7 [==============================] - 0s 30ms/step - loss: 0.6933 - accuracy: 0.5000 - val_loss: 0.6932 - val_accuracy: 0.5000\n",
      "Epoch 94/100\n",
      "7/7 [==============================] - 0s 24ms/step - loss: 0.6937 - accuracy: 0.5000 - val_loss: 0.6932 - val_accuracy: 0.5000\n",
      "Epoch 95/100\n",
      "7/7 [==============================] - 0s 23ms/step - loss: 0.6934 - accuracy: 0.5000 - val_loss: 0.6932 - val_accuracy: 0.5000\n",
      "Epoch 96/100\n",
      "7/7 [==============================] - 0s 25ms/step - loss: 0.6934 - accuracy: 0.5000 - val_loss: 0.6932 - val_accuracy: 0.5000\n",
      "Epoch 97/100\n",
      "7/7 [==============================] - 0s 34ms/step - loss: 0.6933 - accuracy: 0.5000 - val_loss: 0.6931 - val_accuracy: 0.5000\n",
      "Epoch 98/100\n",
      "7/7 [==============================] - 0s 23ms/step - loss: 0.6932 - accuracy: 0.4800 - val_loss: 0.6931 - val_accuracy: 0.5000\n",
      "Epoch 99/100\n",
      "7/7 [==============================] - 0s 25ms/step - loss: 0.6934 - accuracy: 0.5000 - val_loss: 0.6932 - val_accuracy: 0.5000\n",
      "Epoch 100/100\n",
      "7/7 [==============================] - 0s 25ms/step - loss: 0.6932 - accuracy: 0.5000 - val_loss: 0.6932 - val_accuracy: 0.5000\n"
     ]
    }
   ],
   "source": [
    "X, y = make_sines(100, 50, length_padding=25)\n",
    "X_test, y_test = make_sines(100, 50, length_padding=25)\n",
    "\n",
    "model = Sequential([\n",
    "    CustomRecurrentUnit(input_dim=1, hidden_dim=100),\n",
    "    Dense(units=1, activation=\"sigmoid\")\n",
    "])\n",
    "model.compile(loss=\"binary_crossentropy\", optimizer=\"adam\", metrics=[\"accuracy\"])\n",
    "h = model.fit(X, y, validation_data=(X_test, y_test), epochs=100)"
   ]
  },
  {
   "cell_type": "markdown",
   "metadata": {
    "cell_id": "8c515a15d64240d6b29af74010d8d52b",
    "deepnote_cell_type": "markdown",
    "tags": []
   },
   "source": [
    "**Question #10.** Build GRU (resp. LSTM) counterparts of the RNN-based model above.\n",
    "How do they compare experimentally to the previous model?"
   ]
  },
  {
   "cell_type": "code",
   "execution_count": 19,
   "metadata": {
    "cell_id": "1e0462b0f9d6459782e117794c51ef4f",
    "deepnote_cell_type": "code",
    "tags": []
   },
   "outputs": [
    {
     "name": "stdout",
     "output_type": "stream",
     "text": [
      "Epoch 1/10\n",
      "7/7 [==============================] - 4s 166ms/step - loss: 0.6944 - accuracy: 0.4800 - val_loss: 0.6933 - val_accuracy: 0.5000\n",
      "Epoch 2/10\n",
      "7/7 [==============================] - 1s 97ms/step - loss: 0.6931 - accuracy: 0.5100 - val_loss: 0.6938 - val_accuracy: 0.5000\n",
      "Epoch 3/10\n",
      "7/7 [==============================] - 1s 91ms/step - loss: 0.6947 - accuracy: 0.5000 - val_loss: 0.6946 - val_accuracy: 0.5000\n",
      "Epoch 4/10\n",
      "7/7 [==============================] - 1s 91ms/step - loss: 0.6961 - accuracy: 0.5000 - val_loss: 0.6947 - val_accuracy: 0.5000\n",
      "Epoch 5/10\n",
      "7/7 [==============================] - 1s 91ms/step - loss: 0.6948 - accuracy: 0.5000 - val_loss: 0.6933 - val_accuracy: 0.5000\n",
      "Epoch 6/10\n",
      "7/7 [==============================] - 1s 163ms/step - loss: 0.6935 - accuracy: 0.5000 - val_loss: 0.6933 - val_accuracy: 0.5000\n",
      "Epoch 7/10\n",
      "7/7 [==============================] - 1s 96ms/step - loss: 0.6947 - accuracy: 0.4000 - val_loss: 0.6932 - val_accuracy: 0.5000\n",
      "Epoch 8/10\n",
      "7/7 [==============================] - 1s 126ms/step - loss: 0.6935 - accuracy: 0.5000 - val_loss: 0.6932 - val_accuracy: 0.5000\n",
      "Epoch 9/10\n",
      "7/7 [==============================] - 1s 132ms/step - loss: 0.6937 - accuracy: 0.5000 - val_loss: 0.6931 - val_accuracy: 0.5000\n",
      "Epoch 10/10\n",
      "7/7 [==============================] - 1s 168ms/step - loss: 0.6930 - accuracy: 0.5000 - val_loss: 0.6931 - val_accuracy: 0.5000\n"
     ]
    }
   ],
   "source": [
    "from tensorflow.keras.layers import LSTM\n",
    "\n",
    "X, y = make_sines(100, 50, length_padding=50)\n",
    "X_test, y_test = make_sines(100, 50, length_padding=50)\n",
    "\n",
    "model = Sequential([\n",
    "    LSTM(units=100),\n",
    "    Dense(units=1, activation=\"sigmoid\")\n",
    "])\n",
    "model.compile(loss=\"binary_crossentropy\", optimizer=\"adam\", metrics=[\"accuracy\"])\n",
    "h = model.fit(X, y, validation_data=(X_test, y_test), epochs=10)"
   ]
  },
  {
   "cell_type": "code",
   "execution_count": 27,
   "metadata": {},
   "outputs": [
    {
     "name": "stdout",
     "output_type": "stream",
     "text": [
      "Epoch 1/10\n",
      "7/7 [==============================] - 3s 151ms/step - loss: 0.7260 - accuracy: 0.2450 - val_loss: 0.6323 - val_accuracy: 1.0000\n",
      "Epoch 2/10\n",
      "7/7 [==============================] - 1s 79ms/step - loss: 0.5841 - accuracy: 1.0000 - val_loss: 0.5070 - val_accuracy: 1.0000\n",
      "Epoch 3/10\n",
      "7/7 [==============================] - 1s 74ms/step - loss: 0.4668 - accuracy: 1.0000 - val_loss: 0.3993 - val_accuracy: 1.0000\n",
      "Epoch 4/10\n",
      "7/7 [==============================] - 1s 81ms/step - loss: 0.3635 - accuracy: 1.0000 - val_loss: 0.3085 - val_accuracy: 1.0000\n",
      "Epoch 5/10\n",
      "7/7 [==============================] - 1s 76ms/step - loss: 0.2791 - accuracy: 1.0000 - val_loss: 0.2337 - val_accuracy: 1.0000\n",
      "Epoch 6/10\n",
      "7/7 [==============================] - 1s 84ms/step - loss: 0.2100 - accuracy: 1.0000 - val_loss: 0.1747 - val_accuracy: 1.0000\n",
      "Epoch 7/10\n",
      "7/7 [==============================] - 1s 75ms/step - loss: 0.1572 - accuracy: 1.0000 - val_loss: 0.1307 - val_accuracy: 1.0000\n",
      "Epoch 8/10\n",
      "7/7 [==============================] - 1s 77ms/step - loss: 0.1174 - accuracy: 1.0000 - val_loss: 0.0977 - val_accuracy: 1.0000\n",
      "Epoch 9/10\n",
      "7/7 [==============================] - 1s 77ms/step - loss: 0.0880 - accuracy: 1.0000 - val_loss: 0.0737 - val_accuracy: 1.0000\n",
      "Epoch 10/10\n",
      "7/7 [==============================] - 1s 87ms/step - loss: 0.0668 - accuracy: 1.0000 - val_loss: 0.0567 - val_accuracy: 1.0000\n"
     ]
    }
   ],
   "source": [
    "from tensorflow.keras.layers import GRU, GlobalMaxPooling1D, Flatten\n",
    "\n",
    "X, y = make_sines(100, 50, length_padding=100)\n",
    "X_test, y_test = make_sines(100, 50, length_padding=100)\n",
    "\n",
    "model = Sequential([\n",
    "    GRU(units=5, return_sequences=True),\n",
    "    Flatten(),\n",
    "    Dense(units=1, activation=\"sigmoid\")\n",
    "])\n",
    "model.compile(loss=\"binary_crossentropy\", optimizer=\"adam\", metrics=[\"accuracy\"])\n",
    "h = model.fit(X, y, validation_data=(X_test, y_test), epochs=10)"
   ]
  },
  {
   "cell_type": "markdown",
   "metadata": {
    "cell_id": "9a3e4c2e84c041f7a18f34c6fb35cdb5",
    "deepnote_cell_type": "markdown",
    "tags": []
   },
   "source": [
    "## Recap\n",
    "\n",
    "**Question #11.** Come back to the \"Trace\" dataset used above and design a fair comparison between several convolutional and recurrent architectures to decide which one to choose for the problem at hand (feel free to play with the depth of the nets, as well as hidden representation dimensionality, etc.)."
   ]
  },
  {
   "cell_type": "code",
   "execution_count": 30,
   "metadata": {
    "cell_id": "3020b8693ec140de8384108efb3d753e",
    "deepnote_cell_type": "code",
    "tags": []
   },
   "outputs": [
    {
     "name": "stdout",
     "output_type": "stream",
     "text": [
      "(100, 275, 1)\n",
      "4/4 [==============================] - 0s 3ms/step - loss: 0.7035 - accuracy: 0.5400\n",
      "Conv_1layer [0.7034642696380615, 0.5400000214576721]\n",
      "4/4 [==============================] - 0s 3ms/step - loss: 0.7139 - accuracy: 0.5600\n",
      "Conv_2layers [0.7138922214508057, 0.5600000023841858]\n",
      "4/4 [==============================] - 0s 13ms/step - loss: 0.7853 - accuracy: 0.5300\n",
      "Conv_3layers [0.7853028774261475, 0.5299999713897705]\n",
      "4/4 [==============================] - 1s 23ms/step - loss: 0.8034 - accuracy: 0.5400\n",
      "LSTM_1layer [0.8034000396728516, 0.5400000214576721]\n",
      "4/4 [==============================] - 1s 51ms/step - loss: 0.7201 - accuracy: 0.4800\n",
      "LSTM_2layers [0.7201007008552551, 0.47999998927116394]\n",
      "4/4 [==============================] - 1s 64ms/step - loss: 0.8098 - accuracy: 0.4900\n",
      "LSTM_3layers [0.8098486065864563, 0.49000000953674316]\n"
     ]
    }
   ],
   "source": [
    "from tslearn.datasets import CachedDatasets\n",
    "\n",
    "data_loader = CachedDatasets()\n",
    "X_train, y_train, X_test, y_test = data_loader.load_dataset(\"Trace\")\n",
    "print(X_train.shape)\n",
    "\n",
    "y_train -= 1\n",
    "y_test -= 1\n",
    "\n",
    "\n",
    "feature_extractors = {\n",
    "    \"Conv_1layer\": Sequential([\n",
    "        Conv1D(filters=25, kernel_size=5, activation=\"relu\")\n",
    "    ]),\n",
    "    \"Conv_2layers\": Sequential([\n",
    "        Conv1D(filters=25, kernel_size=5, activation=\"relu\"),\n",
    "        Conv1D(filters=25, kernel_size=5, activation=\"relu\"),\n",
    "    ]),\n",
    "    \"Conv_3layers\": Sequential([\n",
    "        Conv1D(filters=25, kernel_size=5, activation=\"relu\"),\n",
    "        Conv1D(filters=25, kernel_size=5, activation=\"relu\"),\n",
    "        Conv1D(filters=25, kernel_size=5, activation=\"relu\"),\n",
    "    ]),\n",
    "    \"LSTM_1layer\": Sequential([\n",
    "        LSTM(units=25, return_sequences=True)\n",
    "    ]),\n",
    "    \"LSTM_2layers\": Sequential([\n",
    "        LSTM(units=25, return_sequences=True),\n",
    "        LSTM(units=25, return_sequences=True),\n",
    "    ]),\n",
    "    \"LSTM_3layers\": Sequential([\n",
    "        LSTM(units=25, return_sequences=True),\n",
    "        LSTM(units=25, return_sequences=True),\n",
    "        LSTM(units=25, return_sequences=True)\n",
    "    ]),\n",
    "}\n",
    "\n",
    "for name, f in feature_extractors.items():\n",
    "    model = Sequential([\n",
    "        f,\n",
    "        Flatten(),\n",
    "        Dense(units=4, activation=\"softmax\")\n",
    "    ])\n",
    "    model.compile(loss=\"sparse_categorical_crossentropy\", optimizer=\"adam\", metrics=[\"accuracy\"])\n",
    "    h = model.fit(X_train, y_train, epochs=10, verbose=False)\n",
    "    print(name, model.evaluate(X_test, y_test))"
   ]
  },
  {
   "cell_type": "markdown",
   "metadata": {
    "cell_id": "0fcd840481304a2498479ef2254049a4",
    "deepnote_cell_type": "markdown",
    "tags": []
   },
   "source": [
    "# Bonus: visualizing feature importance\n",
    "\n",
    "An important topic in machine learning is interpretability, which is about explaining model-based decisions.\n",
    "Regarding neural networks, a large body of the interpretability litterature relies on showing which parts of the input data is most important for a decision.\n",
    "\n",
    "A way to visualize the importance of input features on a given decision is to compute gradients of the model's output with respect to its input.\n",
    "\n",
    "The function below does it:"
   ]
  },
  {
   "cell_type": "code",
   "execution_count": 32,
   "metadata": {
    "cell_id": "55d65e0c1a90465f8e55d360fcee72e9",
    "deepnote_cell_type": "code",
    "tags": []
   },
   "outputs": [],
   "source": [
    "import tensorflow as tf\n",
    "from tensorflow.keras.models import Model\n",
    "\n",
    "def make_gradient_heatmap(batch_of_time_series, model):\n",
    "    inputs = tf.convert_to_tensor(batch_of_time_series, dtype=tf.float32)\n",
    "    with tf.GradientTape() as tape:\n",
    "        tape.watch(inputs)\n",
    "        preds = model(inputs)\n",
    "        output_channel = preds[:, 0]\n",
    "\n",
    "    # This is the gradient of the output neuron\n",
    "    # with respect to the input data\n",
    "    grads = tf.abs(tape.gradient(output_channel, inputs))\n",
    "    grads = grads / tf.reduce_max(grads, axis=1, keepdims=True)\n",
    "\n",
    "    return grads.numpy()"
   ]
  },
  {
   "cell_type": "markdown",
   "metadata": {
    "cell_id": "9256450982bb4e6994cfbaf1805643ad",
    "deepnote_cell_type": "markdown",
    "tags": []
   },
   "source": [
    "**Question #12.** Getting back to the binary decision problem with padded sines, visualize the importance of input features in the final decision for:\n",
    "* a network with one LSTM layer\n",
    "* a network with one convolutional layer"
   ]
  },
  {
   "cell_type": "code",
   "execution_count": 31,
   "metadata": {
    "cell_id": "38a86b80c3264bbe82241af7d9db92d9",
    "deepnote_cell_type": "code",
    "tags": []
   },
   "outputs": [],
   "source": [
    "X, y = make_sines(100, 50, length_padding=100)\n",
    "\n",
    "rec_model = Sequential([\n",
    "    LSTM(units=25),\n",
    "    Flatten(),\n",
    "    Dense(units=1, activation=\"sigmoid\")\n",
    "])\n",
    "rec_model.compile(loss=\"binary_crossentropy\", optimizer=\"adam\", metrics=[\"accuracy\"])\n",
    "h = rec_model.fit(X, y, epochs=30, verbose=0)\n",
    "\n",
    "conv_model = Sequential([\n",
    "    Conv1D(filters=25, kernel_size=5),\n",
    "    Flatten(),\n",
    "    Dense(units=1, activation=\"sigmoid\")\n",
    "])\n",
    "conv_model.compile(loss=\"binary_crossentropy\", optimizer=\"adam\", metrics=[\"accuracy\"])\n",
    "h = conv_model.fit(X, y, epochs=30, verbose=0)"
   ]
  },
  {
   "cell_type": "code",
   "execution_count": 34,
   "metadata": {},
   "outputs": [
    {
     "data": {
      "text/plain": [
       "[<matplotlib.lines.Line2D at 0x12dc05460>]"
      ]
     },
     "execution_count": 34,
     "metadata": {},
     "output_type": "execute_result"
    },
    {
     "data": {
      "image/png": "[encoded data removed]",
      "text/plain": [
       "<Figure size 640x480 with 2 Axes>"
      ]
     },
     "metadata": {},
     "output_type": "display_data"
    }
   ],
   "source": [
    "grads = make_gradient_heatmap(X, conv_model)\n",
    "\n",
    "plt.subplot(2, 1, 1)\n",
    "plt.plot(X[0, :, 0])\n",
    "plt.subplot(2, 1, 2)\n",
    "plt.plot(grads[0, :, 0])"
   ]
  },
  {
   "cell_type": "code",
   "execution_count": 35,
   "metadata": {},
   "outputs": [
    {
     "data": {
      "text/plain": [
       "[<matplotlib.lines.Line2D at 0x12e3f6df0>]"
      ]
     },
     "execution_count": 35,
     "metadata": {},
     "output_type": "execute_result"
    },
    {
     "data": {
      "image/png": "[encoded data removed]",
      "text/plain": [
       "<Figure size 640x480 with 2 Axes>"
      ]
     },
     "metadata": {},
     "output_type": "display_data"
    }
   ],
   "source": [
    "grads = make_gradient_heatmap(X, rec_model)\n",
    "\n",
    "plt.subplot(2, 1, 1)\n",
    "plt.plot(X[0, :, 0])\n",
    "plt.subplot(2, 1, 2)\n",
    "plt.plot(grads[0, :, 0])"
   ]
  }
 ],
 "metadata": {
  "deepnote": {},
  "deepnote_execution_queue": [],
  "deepnote_notebook_id": "25ccbef48c0041259097a232f5d6522e",
  "kernelspec": {
   "display_name": "Python 3 (ipykernel)",
   "language": "python",
   "name": "python3"
  },
  "language_info": {
   "codemirror_mode": {
    "name": "ipython",
    "version": 3
   },
   "file_extension": ".py",
   "mimetype": "text/x-python",
   "name": "python",
   "nbconvert_exporter": "python",
   "pygments_lexer": "ipython3",
   "version": "3.9.13"
  },
  "vscode": {
   "interpreter": {
    "hash": "25f9a3951446179f6c2016b22a60b44495fe90f43bda7f3caedfe2c1a9cd31f9"
   }
  }
 },
 "nbformat": 4,
 "nbformat_minor": 1
}
