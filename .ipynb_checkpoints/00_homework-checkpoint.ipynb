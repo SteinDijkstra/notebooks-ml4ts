{
 "cells": [
  {
   "cell_type": "markdown",
   "metadata": {
    "cell_id": "60e8e917ea5b4762b1cc8a489aa30eb6",
    "deepnote_cell_type": "markdown",
    "tags": []
   },
   "source": [
    "# Home assignment\n",
    "\n",
    "* Author: Romain Tavenard (@rtavenar)\n",
    "* License: CC-BY-NC-SA\n",
    "\n",
    "A home assignment from a course on Machine Learning for Time Series at ENSAI.\n",
    "One can find lecture notes for this course [there](https://rtavenar.github.io/ml4ts_ensai/).\n",
    "\n",
    "## Problem statement\n",
    "\n",
    "A time series dataset is provided under the form of several files available from the `data/` folder.\n",
    "The dataset is called \"GesturePebbleZ2\" and is described [in this page](http://www.timeseriesclassification.com/description.php?Dataset=GesturePebbleZ2).\n",
    "\n",
    "You should load the data and analyze it under several angles:\n",
    "\n",
    "1. provide a fair comparison of a few (well-chosen) deep-learning-based models for the time series classification task at hand;\n",
    "2. illustrate the use of this data in 1 or 2 other scenarios (clustering, forecasting, ...)\n",
    "\n",
    "It is not asked here that you implement specific layers / methods by yourself, but rather that you use established implementations of the methods you need.\n",
    "Your focus should rather be on:\n",
    "* data preparation, \n",
    "* model architecture (for deep networks),\n",
    "* experiment design,\n",
    "* result analysis\n",
    "\n",
    "## Deadline\n",
    "\n",
    "Deadline for this home assignment is February 26th, 2023.\n",
    "You should use the link on moodle to hand in your assignment.\n",
    "A single ipynb file should be provided, \n",
    "with execution traces.\n",
    "This assignment is to be done **individually**."
   ]
  },
  {
   "cell_type": "code",
   "execution_count": 1,
   "metadata": {},
   "outputs": [],
   "source": [
    "import numpy as np\n",
    "import pandas as pd"
   ]
  },
  {
   "cell_type": "code",
   "execution_count": 2,
   "metadata": {},
   "outputs": [
    {
     "data": {
      "text/html": [
       "<div>\n",
       "<style scoped>\n",
       "    .dataframe tbody tr th:only-of-type {\n",
       "        vertical-align: middle;\n",
       "    }\n",
       "\n",
       "    .dataframe tbody tr th {\n",
       "        vertical-align: top;\n",
       "    }\n",
       "\n",
       "    .dataframe thead th {\n",
       "        text-align: right;\n",
       "    }\n",
       "</style>\n",
       "<table border=\"1\" class=\"dataframe\">\n",
       "  <thead>\n",
       "    <tr style=\"text-align: right;\">\n",
       "      <th></th>\n",
       "      <th>9.86;14.81;12.68;11.77;1.0;-4.36;-6.07;-6.03;-4.75;-4.04;-4.1;-4.08;-4.3;-3.51;-3.02;-3.69;-4.08;-2.9;-1.85;-1.95;-2.59;-3.2;-3.69;-4.68;-5.34;-5.5;-5.48;-5.64;-6.16;-6.6;-6.7;-6.7;-6.78;-6.92;-6.85;-8.07;-8.15;-8.46;-8.69;-9.04;-9.11;-9.37;-9.75;-9.64;-9.47;-9.52;-9.39;-9.35;-9.3;-9.5;-9.53;-9.59;-9.97;-9.96;-10.23;-10.11;-10.18;-9.74;-9.55;-9.24;-8.72;-8.31;-8.29;-7.82;-8.19;-8.37;-8.19;-8.24;-7.71;-7.52;-8.48;-8.45;-8.53;-8.64;-8.62;-8.47;-8.73;-8.89;-9.05;-9.4;-9.56;-9.51;-9.29;-9.17;-9.03;-8.94;-8.81;-8.6;-8.51;-8.48;-8.44;-8.48;-8.38;-8.43;-8.37;-8.18;-8.08;-8.08;-8.03;-8.18;-8.26;-8.38;-8.4;-8.52;-8.95;-9.23;-9.29;-9.22;-9.07;-8.96;-9.25;-8.85;-9.2;-9.94;-10.18;-10.28;-10.34;-9.9;-9.7;-9.97;-10.67;-11.07;-11.13;-10.74;-10.27;-10.14;-9.89;-9.87;-9.91;-10.1;-10.38;-10.67;-10.87;-11.07;-11.35;-12.07;-13.02;-13.54;-13.5;-12.06</th>\n",
       "    </tr>\n",
       "  </thead>\n",
       "  <tbody>\n",
       "    <tr>\n",
       "      <th>0</th>\n",
       "      <td>33.68;36.51;20.01;-11.66;-12.46;6.79;29.99;30....</td>\n",
       "    </tr>\n",
       "    <tr>\n",
       "      <th>1</th>\n",
       "      <td>23.9;1.72;-13.61;-10.85;12.3;24.37;14.85;5.62;...</td>\n",
       "    </tr>\n",
       "    <tr>\n",
       "      <th>2</th>\n",
       "      <td>-5.75;0.74;10.25;10.44;16.53;21.25;10.97;-4.07...</td>\n",
       "    </tr>\n",
       "    <tr>\n",
       "      <th>3</th>\n",
       "      <td>8.82;-9.37;-4.77;11.58;23.57;17.08;12.14;7.13;...</td>\n",
       "    </tr>\n",
       "    <tr>\n",
       "      <th>4</th>\n",
       "      <td>13.07;12.76;25.36;38.06;35.89;20.84;4.88;-4.05...</td>\n",
       "    </tr>\n",
       "    <tr>\n",
       "      <th>...</th>\n",
       "      <td>...</td>\n",
       "    </tr>\n",
       "    <tr>\n",
       "      <th>140</th>\n",
       "      <td>3.88;5.07;-3.86;-26.02;12.32;39.13;33.43;1.63;...</td>\n",
       "    </tr>\n",
       "    <tr>\n",
       "      <th>141</th>\n",
       "      <td>-0.45;-2.74;1.4;9.48;12.87;-10.9;-0.67;37.48;3...</td>\n",
       "    </tr>\n",
       "    <tr>\n",
       "      <th>142</th>\n",
       "      <td>-2.92;-1.48;-1.93;-2.94;-2.87;-11.26;-23.7;-2....</td>\n",
       "    </tr>\n",
       "    <tr>\n",
       "      <th>143</th>\n",
       "      <td>2.06;2.91;2.02;0.12;-7.17;7.25;-3.2;5.38;3.02;...</td>\n",
       "    </tr>\n",
       "    <tr>\n",
       "      <th>144</th>\n",
       "      <td>2.73;2.52;1.47;-1.28;-11.9;4.42;8.65;9.6;2.8;0...</td>\n",
       "    </tr>\n",
       "  </tbody>\n",
       "</table>\n",
       "<p>145 rows × 1 columns</p>\n",
       "</div>"
      ],
      "text/plain": [
       "    9.86;14.81;12.68;11.77;1.0;-4.36;-6.07;-6.03;-4.75;-4.04;-4.1;-4.08;-4.3;-3.51;-3.02;-3.69;-4.08;-2.9;-1.85;-1.95;-2.59;-3.2;-3.69;-4.68;-5.34;-5.5;-5.48;-5.64;-6.16;-6.6;-6.7;-6.7;-6.78;-6.92;-6.85;-8.07;-8.15;-8.46;-8.69;-9.04;-9.11;-9.37;-9.75;-9.64;-9.47;-9.52;-9.39;-9.35;-9.3;-9.5;-9.53;-9.59;-9.97;-9.96;-10.23;-10.11;-10.18;-9.74;-9.55;-9.24;-8.72;-8.31;-8.29;-7.82;-8.19;-8.37;-8.19;-8.24;-7.71;-7.52;-8.48;-8.45;-8.53;-8.64;-8.62;-8.47;-8.73;-8.89;-9.05;-9.4;-9.56;-9.51;-9.29;-9.17;-9.03;-8.94;-8.81;-8.6;-8.51;-8.48;-8.44;-8.48;-8.38;-8.43;-8.37;-8.18;-8.08;-8.08;-8.03;-8.18;-8.26;-8.38;-8.4;-8.52;-8.95;-9.23;-9.29;-9.22;-9.07;-8.96;-9.25;-8.85;-9.2;-9.94;-10.18;-10.28;-10.34;-9.9;-9.7;-9.97;-10.67;-11.07;-11.13;-10.74;-10.27;-10.14;-9.89;-9.87;-9.91;-10.1;-10.38;-10.67;-10.87;-11.07;-11.35;-12.07;-13.02;-13.54;-13.5;-12.06\n",
       "0    33.68;36.51;20.01;-11.66;-12.46;6.79;29.99;30....                                                                                                                                                                                                                                                                                                                                                                                                                                                                                                                                                                                                                                                                                                                                                                                                                       \n",
       "1    23.9;1.72;-13.61;-10.85;12.3;24.37;14.85;5.62;...                                                                                                                                                                                                                                                                                                                                                                                                                                                                                                                                                                                                                                                                                                                                                                                                                       \n",
       "2    -5.75;0.74;10.25;10.44;16.53;21.25;10.97;-4.07...                                                                                                                                                                                                                                                                                                                                                                                                                                                                                                                                                                                                                                                                                                                                                                                                                       \n",
       "3    8.82;-9.37;-4.77;11.58;23.57;17.08;12.14;7.13;...                                                                                                                                                                                                                                                                                                                                                                                                                                                                                                                                                                                                                                                                                                                                                                                                                       \n",
       "4    13.07;12.76;25.36;38.06;35.89;20.84;4.88;-4.05...                                                                                                                                                                                                                                                                                                                                                                                                                                                                                                                                                                                                                                                                                                                                                                                                                       \n",
       "..                                                 ...                                                                                                                                                                                                                                                                                                                                                                                                                                                                                                                                                                                                                                                                                                                                                                                                                       \n",
       "140  3.88;5.07;-3.86;-26.02;12.32;39.13;33.43;1.63;...                                                                                                                                                                                                                                                                                                                                                                                                                                                                                                                                                                                                                                                                                                                                                                                                                       \n",
       "141  -0.45;-2.74;1.4;9.48;12.87;-10.9;-0.67;37.48;3...                                                                                                                                                                                                                                                                                                                                                                                                                                                                                                                                                                                                                                                                                                                                                                                                                       \n",
       "142  -2.92;-1.48;-1.93;-2.94;-2.87;-11.26;-23.7;-2....                                                                                                                                                                                                                                                                                                                                                                                                                                                                                                                                                                                                                                                                                                                                                                                                                       \n",
       "143  2.06;2.91;2.02;0.12;-7.17;7.25;-3.2;5.38;3.02;...                                                                                                                                                                                                                                                                                                                                                                                                                                                                                                                                                                                                                                                                                                                                                                                                                       \n",
       "144  2.73;2.52;1.47;-1.28;-11.9;4.42;8.65;9.6;2.8;0...                                                                                                                                                                                                                                                                                                                                                                                                                                                                                                                                                                                                                                                                                                                                                                                                                       \n",
       "\n",
       "[145 rows x 1 columns]"
      ]
     },
     "execution_count": 2,
     "metadata": {},
     "output_type": "execute_result"
    }
   ],
   "source": [
    "pd.read_csv(\"./data/X_train.txt\",)"
   ]
  },
  {
   "cell_type": "code",
   "execution_count": null,
   "metadata": {},
   "outputs": [],
   "source": []
  },
  {
   "cell_type": "code",
   "execution_count": null,
   "metadata": {},
   "outputs": [],
   "source": []
  }
 ],
 "metadata": {
  "deepnote": {},
  "deepnote_execution_queue": [],
  "deepnote_notebook_id": "da3f2328c5444c2a931e21e0c8570d48",
  "kernelspec": {
   "display_name": "tensorflow(working)",
   "language": "python",
   "name": "tensorflow_silicon"
  },
  "language_info": {
   "codemirror_mode": {
    "name": "ipython",
    "version": 3
   },
   "file_extension": ".py",
   "mimetype": "text/x-python",
   "name": "python",
   "nbconvert_exporter": "python",
   "pygments_lexer": "ipython3",
   "version": "3.9.15"
  },
  "vscode": {
   "interpreter": {
    "hash": "25f9a3951446179f6c2016b22a60b44495fe90f43bda7f3caedfe2c1a9cd31f9"
   }
  }
 },
 "nbformat": 4,
 "nbformat_minor": 1
}
